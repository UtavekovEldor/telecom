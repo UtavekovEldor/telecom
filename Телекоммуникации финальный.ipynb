{
 "cells": [
  {
   "cell_type": "markdown",
   "id": "8615ed1f",
   "metadata": {},
   "source": [
    "<div class=\"alert alert-info\">\n",
    "Привет, Алесандра! Меня зовут Светлана Чих и я буду проверять твой проект. Моя основная цель — не указать на совершенные тобою ошибки, а поделиться своим опытом и помочь тебе. Предлагаю общаться на «ты». Но если это не удобно - дай знать, и мы перейдем на «вы».\n",
    "\n",
    "<div class=\"alert alert-success\">\n",
    "<b>👍 Успех:</b> Зелёным цветом отмечены удачные и элегантные решения, на которые можно опираться в будущих проектах.\n",
    "</div>\n",
    "<div class=\"alert alert-warning\">\n",
    "<b>🤔 Рекомендация:</b> Жёлтым цветом выделено то, что в следующий раз можно сделать по-другому. Ты можешь учесть эти комментарии при выполнении будущих заданий или доработать проект сейчас (однако это не обязательно).\n",
    "</div>\n",
    "<div class=\"alert alert-danger\">\n",
    "<b>😔 Необходимо исправить:</b> Красным цветом выделены комментарии, без исправления которых, я не смогу принять проект :(\n",
    "</div>\n",
    "<div class=\"alert alert-info\">\n",
    "<b>👂 Совет:</b> Какие-то дополнительные материалы\n",
    "</div>\n",
    "Давай работать над проектом в диалоге: если ты что-то меняешь в проекте по моим рекомендациям — пиши об этом.\n",
    "Мне будет легче отследить изменения, если ты выделишь свои комментарии:\n",
    "<div class=\"alert alert-info\"> <b>🎓 Комментарий студента:</b> Например, вот так.</div>\n",
    "Пожалуйста, не перемещай, не изменяй и не удаляй мои комментарии. Всё это поможет выполнить повторную проверку твоего проекта быстрее.\n",
    " </div>"
   ]
  },
  {
   "cell_type": "markdown",
   "id": "75d7d38f",
   "metadata": {},
   "source": [
    "# Описание проекта \"Телекоммуникации\""
   ]
  },
  {
   "cell_type": "markdown",
   "id": "b200b844",
   "metadata": {},
   "source": [
    "Оператор связи «ТелеДом» хочет бороться с оттоком клиентов. Для этого его сотрудники начнут предлагать промокоды и специальные условия всем, кто планирует отказаться от услуг связи. Чтобы заранее находить таких пользователей, «ТелеДому» нужна модель, которая будет предсказывать, разорвёт ли абонент договор. Команда оператора собрала персональные данные о некоторых клиентах, информацию об их тарифах и услугах. Ваша задача — обучить на этих данных модель для прогноза оттока клиентов."
   ]
  },
  {
   "cell_type": "markdown",
   "id": "0ddb1cdc",
   "metadata": {},
   "source": [
    "# План работ"
   ]
  },
  {
   "cell_type": "markdown",
   "id": "6c36670d",
   "metadata": {},
   "source": [
    "**1)** Загрузить данные и выполнить их первичный осмотр.\n",
    "\n",
    "**2)** Выполнить исследовательский анализ каждого датафрейма и при необходимости выполнить предобработку. Сделать выводы об имеющихся признаках: понадобятся ли они для обучения моделей.\n",
    "\n",
    "**3)** Объединить выбранные признаки в один датафрейм по ключу Customer ID, который содержится во всех таблицах.\n",
    "\n",
    "**4)** Выполнить исследовательский анализ объединённого датафрейма, визуализировать распределения признаков, при необходимости выполнить предобработку. Провести корреляционный анализ. \n",
    "\n",
    "**5)** Выполнить подготовку данных для обучения модели. Разделить данные на две выборки, при масштабировании и кодировании учитывать особенности данных и моделей.\n",
    "\n",
    "**6)** Обучить как минимум две модели. Хотя бы для одной из них подбрать как минимум два гиперпараметра.\n",
    "\n",
    "**7)** Выбрать лучшую модель и проверить её качество на тестовой выборке.\n",
    "\n",
    "**8)** Сделать общий вывод о проделанной работе: опишите основные этапы работы, полученные результаты и дать рекомендации для бизнеса."
   ]
  },
  {
   "cell_type": "markdown",
   "id": "d85cd91d",
   "metadata": {},
   "source": [
    "**Импорты**"
   ]
  },
  {
   "cell_type": "code",
   "execution_count": 1,
   "id": "a14688a7",
   "metadata": {},
   "outputs": [],
   "source": [
    "!pip install phik -q"
   ]
  },
  {
   "cell_type": "code",
   "execution_count": 2,
   "id": "881bd57b",
   "metadata": {},
   "outputs": [
    {
     "ename": "ModuleNotFoundError",
     "evalue": "No module named 'catboost'",
     "output_type": "error",
     "traceback": [
      "\u001b[1;31m---------------------------------------------------------------------------\u001b[0m",
      "\u001b[1;31mModuleNotFoundError\u001b[0m                       Traceback (most recent call last)",
      "Cell \u001b[1;32mIn[2], line 14\u001b[0m\n\u001b[0;32m     11\u001b[0m RANDOM_STATE \u001b[38;5;241m=\u001b[39m \u001b[38;5;241m80724\u001b[39m\n\u001b[0;32m     12\u001b[0m TEST_SIZE \u001b[38;5;241m=\u001b[39m \u001b[38;5;241m0.25\u001b[39m\n\u001b[1;32m---> 14\u001b[0m \u001b[38;5;28;01mfrom\u001b[39;00m \u001b[38;5;21;01mcatboost\u001b[39;00m \u001b[38;5;28;01mimport\u001b[39;00m CatBoostClassifier\n\u001b[0;32m     15\u001b[0m \u001b[38;5;28;01mfrom\u001b[39;00m \u001b[38;5;21;01mdateutil\u001b[39;00m\u001b[38;5;21;01m.\u001b[39;00m\u001b[38;5;21;01mparser\u001b[39;00m \u001b[38;5;28;01mimport\u001b[39;00m parse \u001b[38;5;28;01mas\u001b[39;00m du_parse\n\u001b[0;32m     16\u001b[0m \u001b[38;5;28;01mfrom\u001b[39;00m \u001b[38;5;21;01mdateutil\u001b[39;00m\u001b[38;5;21;01m.\u001b[39;00m\u001b[38;5;21;01mrelativedelta\u001b[39;00m \u001b[38;5;28;01mimport\u001b[39;00m relativedelta\n",
      "\u001b[1;31mModuleNotFoundError\u001b[0m: No module named 'catboost'"
     ]
    }
   ],
   "source": [
    "import math\n",
    "import matplotlib.pyplot as plt\n",
    "import numpy as np\n",
    "import pandas as pd\n",
    "import phik\n",
    "import scipy.stats as st\n",
    "import seaborn as sns\n",
    "import random\n",
    "import time\n",
    "\n",
    "RANDOM_STATE = 80724\n",
    "TEST_SIZE = 0.25\n",
    "\n",
    "from catboost import CatBoostClassifier\n",
    "from dateutil.parser import parse as du_parse\n",
    "from dateutil.relativedelta import relativedelta\n",
    "from phik import resources, report\n",
    "from sklearn.datasets import make_classification\n",
    "\n",
    "\n",
    "from sklearn.linear_model import LogisticRegression                                  \n",
    "from sklearn.metrics import (\n",
    "                            roc_auc_score,\n",
    "                            roc_curve,\n",
    "                            confusion_matrix\n",
    "                            )\n",
    "from sklearn.model_selection import (\n",
    "                                     TimeSeriesSplit,\n",
    "                                     train_test_split,\n",
    "                                     RandomizedSearchCV\n",
    "                                     )\n",
    "from sklearn.preprocessing import (StandardScaler, OneHotEncoder)\n",
    "                                  \n"
   ]
  },
  {
   "cell_type": "markdown",
   "id": "99d911fa",
   "metadata": {},
   "source": [
    "<div class=\"alert alert-success\">\n",
    "<b>👍 Успех:</b> Импортированы нужные библиотеки, определены константы!\n",
    "</div>"
   ]
  },
  {
   "cell_type": "markdown",
   "id": "3413c501",
   "metadata": {},
   "source": [
    "## Шаг. Загрузка данных"
   ]
  },
  {
   "cell_type": "markdown",
   "id": "b2f10f72",
   "metadata": {},
   "source": [
    "***Загрузка таблицы с информацией о договоре.***"
   ]
  },
  {
   "cell_type": "code",
   "execution_count": null,
   "id": "26519039",
   "metadata": {},
   "outputs": [],
   "source": [
    "data_contract = pd.read_csv('/datasets/contract_new.csv')"
   ]
  },
  {
   "cell_type": "code",
   "execution_count": null,
   "id": "4bfa5122",
   "metadata": {},
   "outputs": [],
   "source": [
    "data_contract.head()"
   ]
  },
  {
   "cell_type": "code",
   "execution_count": null,
   "id": "2db04f22",
   "metadata": {},
   "outputs": [],
   "source": [
    "data_contract.info()"
   ]
  },
  {
   "cell_type": "markdown",
   "id": "06ba1902",
   "metadata": {},
   "source": [
    "В таблице с договорами 7043 строк, при первичном осмотре пропусков нет, типы данных не везде указаны корректно:\n",
    "\n",
    "- В столбце с датой начала действия договора BeginDate должен быть тип дата-время (не object);\n",
    "- В столбце с датой окончания действия договора тип данных object. Формат данных нужно поменять на DateTime, предварительно заменив строки со значениями No на пропуски;\n",
    "- Столбец 'PaperlessBilling' только 2 значения: Yes и No, поэтому из типа object его нужно перевести в Boollean;\n",
    "- В столбце MonthlyCharges тип данных float указан верно;\n",
    "- В столбце TotalCharges тип данных нужно поменять с object на float64, такой же как в столбце MonthlyCharges."
   ]
  },
  {
   "cell_type": "markdown",
   "id": "941bdfee",
   "metadata": {},
   "source": [
    "<div class=\"alert alert-success\">\n",
    "<b>👍 Успех:</b> Все верно!\n",
    "</div>"
   ]
  },
  {
   "cell_type": "markdown",
   "id": "9feb20b4",
   "metadata": {},
   "source": [
    "***Загрузка таблицы с персональными данными клиентов.***"
   ]
  },
  {
   "cell_type": "code",
   "execution_count": null,
   "id": "034d8568",
   "metadata": {},
   "outputs": [],
   "source": [
    "data_personal = pd.read_csv('/datasets/personal_new.csv')"
   ]
  },
  {
   "cell_type": "code",
   "execution_count": null,
   "id": "18c6795a",
   "metadata": {},
   "outputs": [],
   "source": [
    "data_personal.head()"
   ]
  },
  {
   "cell_type": "code",
   "execution_count": null,
   "id": "a67e395f",
   "metadata": {},
   "outputs": [],
   "source": [
    "data_personal.info()"
   ]
  },
  {
   "cell_type": "markdown",
   "id": "5ae3cedf",
   "metadata": {},
   "source": [
    "В таблице 7043 строк без пропусков. Типы данных указаны не корректно в следующих столбцах:\n",
    "\n",
    "- SeniorCitizen (является ли клиента пенсионером). Тип нужн перевести в Booleean, здесь возможны только два варианта: Yes (1) или No (0);\n",
    "- Partner (есть ли у клиента супруг/супруга), Dependents (есть ли у клиента дети). Аналогично предыдущему, возможны только два варианта: Yes (1) или No (0). Нужно перевести в Bollean."
   ]
  },
  {
   "cell_type": "markdown",
   "id": "78cc92ea",
   "metadata": {},
   "source": [
    "<div class=\"alert alert-success\">\n",
    "<b>👍 Успех:</b> Все верно!\n",
    "</div>"
   ]
  },
  {
   "cell_type": "markdown",
   "id": "c7036b80",
   "metadata": {},
   "source": [
    "***Загрузка таблицы c  информацией об интернет-услугах.***"
   ]
  },
  {
   "cell_type": "code",
   "execution_count": null,
   "id": "a907eb07",
   "metadata": {},
   "outputs": [],
   "source": [
    "data_internet = pd.read_csv('/datasets/internet_new.csv')"
   ]
  },
  {
   "cell_type": "code",
   "execution_count": null,
   "id": "7f77c1a4",
   "metadata": {},
   "outputs": [],
   "source": [
    "data_internet.head()"
   ]
  },
  {
   "cell_type": "code",
   "execution_count": null,
   "id": "ff78477b",
   "metadata": {},
   "outputs": [],
   "source": [
    "data_internet.info()"
   ]
  },
  {
   "cell_type": "markdown",
   "id": "57766b90",
   "metadata": {},
   "source": [
    "В таблице с информацией об интернет-услугах меньше строк, чем в предыдущих, на 21,7% (на 1526 строк). Это связано с тем, что не всем клиентам, с которыми заключены договоры, на данный момент предоставляются интернет-услуги.\n",
    "Во всех столбцах, кроме InternetService, тип данных нужно сменить с object на boollean."
   ]
  },
  {
   "cell_type": "markdown",
   "id": "f638775d",
   "metadata": {},
   "source": [
    "<div class=\"alert alert-success\">\n",
    "<b>👍 Успех:</b> Все верно!\n",
    "</div>"
   ]
  },
  {
   "cell_type": "markdown",
   "id": "e0de48f7",
   "metadata": {},
   "source": [
    "***Загрузка таблицы c информацией об услугах телефонии.***"
   ]
  },
  {
   "cell_type": "code",
   "execution_count": null,
   "id": "2b967877",
   "metadata": {},
   "outputs": [],
   "source": [
    "data_phone = pd.read_csv('/datasets/phone_new.csv')"
   ]
  },
  {
   "cell_type": "code",
   "execution_count": null,
   "id": "1ba8adce",
   "metadata": {},
   "outputs": [],
   "source": [
    "data_phone.head()"
   ]
  },
  {
   "cell_type": "code",
   "execution_count": null,
   "id": "d1e8248b",
   "metadata": {},
   "outputs": [],
   "source": [
    "data_phone.info()"
   ]
  },
  {
   "cell_type": "markdown",
   "id": "d647f807",
   "metadata": {},
   "source": [
    "В таблице с информацией об услугах телефонии меньше строк, чем первых двух, на 90,7% (на 616 строк). Это значит, что не всем клиентам, с которыми заключены договоры, на данный момент предоставляются услуги телефонии. В столбце MultipleLines тип данных нужно сменить с object на boollean."
   ]
  },
  {
   "cell_type": "markdown",
   "id": "3c2cdb8d",
   "metadata": {},
   "source": [
    "<div class=\"alert alert-success\">\n",
    "<b>👍 Успех:</b> Все верно!\n",
    "</div>"
   ]
  },
  {
   "cell_type": "markdown",
   "id": "ffb86c8e",
   "metadata": {},
   "source": [
    "## Шаг. Исследовательский анализ данных"
   ]
  },
  {
   "cell_type": "markdown",
   "id": "3a63a806",
   "metadata": {},
   "source": [
    "***Предобработка данных в таблице с информацией о договорах***"
   ]
  },
  {
   "cell_type": "markdown",
   "id": "bfded3f2",
   "metadata": {},
   "source": [
    "Поменяем тип данных в столбце BeginDate на DateTime"
   ]
  },
  {
   "cell_type": "code",
   "execution_count": null,
   "id": "d9449bcc",
   "metadata": {},
   "outputs": [],
   "source": [
    "data_contract['BeginDate'] = pd.to_datetime(data_contract['BeginDate'], format = '%Y-%m-%dT%')"
   ]
  },
  {
   "cell_type": "markdown",
   "id": "c6d775c3",
   "metadata": {},
   "source": [
    "Посмотрим уникальные значения в столбце EndDate"
   ]
  },
  {
   "cell_type": "code",
   "execution_count": null,
   "id": "c2975c3a",
   "metadata": {},
   "outputs": [],
   "source": [
    "data_contract['EndDate'].value_counts()"
   ]
  },
  {
   "cell_type": "markdown",
   "id": "e1776b5e",
   "metadata": {},
   "source": [
    "Видим, что у 15,6% клиентов (1101) уже истек срок действия договора."
   ]
  },
  {
   "cell_type": "markdown",
   "id": "bf310b88",
   "metadata": {},
   "source": [
    "В исходных талицах не было столбца с целевым признаком (ушел клиент или нет). На основании данных столбца EndDate создадим новый столбец с ***целевым признаком Outflow***, в котором будут два значения: 1 (клиент ушел) и 0 (клиент остался). Напишем функцию, которая будет присваивать клиенту категорию в зависимости от значения в столбце EndDate."
   ]
  },
  {
   "cell_type": "code",
   "execution_count": null,
   "id": "5d58277f",
   "metadata": {},
   "outputs": [],
   "source": [
    "data_contract['Outflow'] = data_contract['EndDate'].apply(lambda x: 0 if x == 'No' else 1)"
   ]
  },
  {
   "cell_type": "code",
   "execution_count": null,
   "id": "b074e22d",
   "metadata": {},
   "outputs": [],
   "source": [
    "data_contract['Outflow'].unique()"
   ]
  },
  {
   "cell_type": "code",
   "execution_count": null,
   "id": "fd5f351f",
   "metadata": {},
   "outputs": [],
   "source": [
    "data_contract.head()"
   ]
  },
  {
   "cell_type": "markdown",
   "id": "4970be90",
   "metadata": {},
   "source": [
    "<div class=\"alert alert-success\">\n",
    "<b>👍 Успех:</b> Все верно! Молодец, что проверяшь полученный датасет\n",
    "</div>"
   ]
  },
  {
   "cell_type": "markdown",
   "id": "d6c89efc",
   "metadata": {},
   "source": [
    "Заменим тип данных на Date Time. Для этого предварительно заменим значения No на пропуски (Nan)."
   ]
  },
  {
   "cell_type": "markdown",
   "id": "3c58d401",
   "metadata": {},
   "source": [
    "Перед заполнением посмотриим, есть ли пропущенные значения в столбце EndDate."
   ]
  },
  {
   "cell_type": "code",
   "execution_count": null,
   "id": "26151577",
   "metadata": {},
   "outputs": [],
   "source": [
    "data_contract['EndDate'].isna().sum()"
   ]
  },
  {
   "cell_type": "code",
   "execution_count": null,
   "id": "af864d04",
   "metadata": {},
   "outputs": [],
   "source": [
    "data_contract.loc[data_contract['EndDate'] == 'No', 'EndDate'] = np.nan"
   ]
  },
  {
   "cell_type": "markdown",
   "id": "f9aa0ecc",
   "metadata": {},
   "source": [
    "Поменяем тип данных в непустых ячейках на DateTime"
   ]
  },
  {
   "cell_type": "code",
   "execution_count": null,
   "id": "6632d35c",
   "metadata": {},
   "outputs": [],
   "source": [
    "data_contract['EndDate'] = pd.to_datetime(data_contract['EndDate'], format = '%Y-%m-%dT%')"
   ]
  },
  {
   "cell_type": "code",
   "execution_count": null,
   "id": "97b205b8",
   "metadata": {},
   "outputs": [],
   "source": [
    "data_contract.tail()\n"
   ]
  },
  {
   "cell_type": "markdown",
   "id": "0fc4fb4a",
   "metadata": {},
   "source": [
    "Поменяем тип данных в столбце Outflow на bool."
   ]
  },
  {
   "cell_type": "code",
   "execution_count": null,
   "id": "c83ae44a",
   "metadata": {},
   "outputs": [],
   "source": [
    "data_contract['Outflow'] = data_contract['Outflow'].map({1: True, 0: False})"
   ]
  },
  {
   "cell_type": "code",
   "execution_count": null,
   "id": "50e1d3ad",
   "metadata": {},
   "outputs": [],
   "source": [
    "data_contract['Outflow'].unique()"
   ]
  },
  {
   "cell_type": "code",
   "execution_count": null,
   "id": "1e9108f0",
   "metadata": {
    "scrolled": true
   },
   "outputs": [],
   "source": [
    "data_contract.info()"
   ]
  },
  {
   "cell_type": "markdown",
   "id": "5ca9259a",
   "metadata": {},
   "source": [
    "Для прогноза может быть полезна информация о сроках, в течение которых клиент пользуется услугами компании. Введем новый признак Duration, в котором будет указан срок обслуживания клиента. В ТЗ сказано, что информация о договрах актуальна на 01.02.2020, поэтому срок действия договора у клиетов, не разорвавших договор, будем считать как разницу между 01.02.2020 и датой заключения договора. У клиентов, разорвавших договор, срок действия, соответственно, это разница между датой окончания и датой заключения."
   ]
  },
  {
   "cell_type": "code",
   "execution_count": null,
   "id": "74779c41",
   "metadata": {},
   "outputs": [],
   "source": [
    "def duration_count(row):\n",
    "    actual_date = pd.to_datetime('2020.02.01')\n",
    "    if pd.isna(row['EndDate']):\n",
    "        return (actual_date - row['BeginDate']).days\n",
    "    else:\n",
    "        return (row['EndDate'] - row['BeginDate']).days\n",
    "data_contract['Duration'] = data_contract.apply(duration_count, axis = 1)"
   ]
  },
  {
   "cell_type": "code",
   "execution_count": null,
   "id": "0771a70a",
   "metadata": {},
   "outputs": [],
   "source": [
    "data_contract.head()"
   ]
  },
  {
   "cell_type": "markdown",
   "id": "bfba20e9",
   "metadata": {},
   "source": [
    "<div class=\"alert alert-success\">\n",
    "<b>👍 Успех:</b> Все верно! Создан новый признак!\n",
    "</div>"
   ]
  },
  {
   "cell_type": "markdown",
   "id": "f154abed",
   "metadata": {},
   "source": [
    "Посмотрим уникальные значения в столбце Type."
   ]
  },
  {
   "cell_type": "code",
   "execution_count": null,
   "id": "7e7b7d28",
   "metadata": {},
   "outputs": [],
   "source": [
    "data_contract['Type'].unique()"
   ]
  },
  {
   "cell_type": "markdown",
   "id": "b2dbd7fb",
   "metadata": {},
   "source": [
    "Признак Type (Тип оплаты) для анализа и прогноза информативен, т к клиенты с типом оплаты на год-два вперед явно более стабильные, чем те, кто платят по месяцам."
   ]
  },
  {
   "cell_type": "markdown",
   "id": "8bfadb86",
   "metadata": {},
   "source": [
    "<div class=\"alert alert-success\">\n",
    "<b>👍 Успех:</b> Все верно!\n",
    "</div>"
   ]
  },
  {
   "cell_type": "markdown",
   "id": "5a2358c1",
   "metadata": {},
   "source": [
    "Столбец PapelessBilling мне кажется не информативным для прогноза, по-моему, его лучше удалить. Но дождемся результатов корреляционного анализа, будем удалять неинформативные признакие после него."
   ]
  },
  {
   "cell_type": "code",
   "execution_count": null,
   "id": "c1e143c7",
   "metadata": {},
   "outputs": [],
   "source": [
    "data_contract['PaymentMethod'].unique()"
   ]
  },
  {
   "cell_type": "markdown",
   "id": "7c1de8d2",
   "metadata": {},
   "source": [
    "Столбец с типом платежа информативен для прогноза, т к автоматические списания характерны для более стабильных клиентов. У клиентов с не автоматичнескими платежами вероятность ухода в том числе по причине забыл оплатить выше."
   ]
  },
  {
   "cell_type": "markdown",
   "id": "c44b4f1d",
   "metadata": {},
   "source": [
    "Поменяем тип данных в столбце TotalCharges на float"
   ]
  },
  {
   "cell_type": "code",
   "execution_count": null,
   "id": "717e99b6",
   "metadata": {},
   "outputs": [],
   "source": [
    "data_contract['TotalCharges'] = pd.to_numeric(data_contract.TotalCharges, errors='coerce')"
   ]
  },
  {
   "cell_type": "markdown",
   "id": "ee2410a0",
   "metadata": {},
   "source": [
    "Проверим данные в data_contract на пропуски. Помним, что в столбце EndDate есть 5942 пропуска, которыми мы заменили значения No, чтобы поменять тип данных на DateTime."
   ]
  },
  {
   "cell_type": "code",
   "execution_count": null,
   "id": "c0659267",
   "metadata": {},
   "outputs": [],
   "source": [
    "data_contract.isna().sum()"
   ]
  },
  {
   "cell_type": "code",
   "execution_count": null,
   "id": "c4eb7c3d",
   "metadata": {
    "scrolled": true
   },
   "outputs": [],
   "source": [
    "display(data_contract.loc[data_contract['TotalCharges'].isna()])"
   ]
  },
  {
   "cell_type": "markdown",
   "id": "c803ea2e",
   "metadata": {},
   "source": [
    "Не возможно корректно заполнить пропуски в TotalCharges. Т к число пропусков составляет всего 0,15% от всего датасета, можно эти строки удалить."
   ]
  },
  {
   "cell_type": "markdown",
   "id": "1b8bcde3",
   "metadata": {},
   "source": [
    "<div class=\"alert alert-danger\">\n",
    "<s><b>😔 Необходимо исправить:</b> Заполнить пропуски возможно, но и удаление тоже допустимый вариант. Почему возникли эти пропуски?</s>\n",
    "</div>"
   ]
  },
  {
   "cell_type": "markdown",
   "id": "6dca7e62",
   "metadata": {},
   "source": [
    "Дата заключения контракта в строках с пропусками - это дата среза 2020.02.01, т е это клиенты, которые только в день среза данных заключили договоры. В данном случае будет корректно как заполнить пропуски в столбце TotalCharges нулями, так и удалить эти строки. Таких строк немного  - всего 0,15%, поэтому и так, и так можно. Но т к именно эти клиенты пока что еще не оказывают какого-то существенного влияния на статистику (если они только подписали договор, то вряд ли они планируют уходить не успев воспользоваться услугами). Если предположить, что таких клиентов оказалось много, корректнее было бы их удалить."
   ]
  },
  {
   "cell_type": "markdown",
   "id": "b2ee4bd1",
   "metadata": {},
   "source": [
    "<div class=\"alert alert-info\"> <b>Комментарий студента:</b> Исправила.</div>"
   ]
  },
  {
   "cell_type": "markdown",
   "id": "122e905f",
   "metadata": {},
   "source": [
    "<div class=\"alert alert-success\">\n",
    "<b>👍 Успех:</b> Все верно!\n",
    "</div>"
   ]
  },
  {
   "cell_type": "code",
   "execution_count": null,
   "id": "2e13f15c",
   "metadata": {},
   "outputs": [],
   "source": [
    "data_contract = data_contract.loc[data_contract['TotalCharges'] >=0]"
   ]
  },
  {
   "cell_type": "code",
   "execution_count": null,
   "id": "5651d3e8",
   "metadata": {},
   "outputs": [],
   "source": [
    "data_contract['TotalCharges'].isna().sum()"
   ]
  },
  {
   "cell_type": "markdown",
   "id": "8af0bdbe",
   "metadata": {},
   "source": [
    "Удалили пропуски."
   ]
  },
  {
   "cell_type": "markdown",
   "id": "b2b1b117",
   "metadata": {},
   "source": [
    "Проверим data_contract на явные дулбикаты."
   ]
  },
  {
   "cell_type": "code",
   "execution_count": null,
   "id": "3024cdd7",
   "metadata": {},
   "outputs": [],
   "source": [
    "data_contract.duplicated().sum()"
   ]
  },
  {
   "cell_type": "markdown",
   "id": "c0f02bfa",
   "metadata": {},
   "source": [
    "Явных дубликатов нет. Не вижу смысла проверять на неявные, т к в данном случае вполне может быть много клиентов с одинаковыми параметрами (даты договоров, тип оплаты, тип платежа и пр.)"
   ]
  },
  {
   "cell_type": "markdown",
   "id": "1971b0eb",
   "metadata": {},
   "source": [
    "<div class=\"alert alert-success\">\n",
    "<b>👍 Успех:</b> Все верно!\n",
    "</div>"
   ]
  },
  {
   "cell_type": "markdown",
   "id": "2838e1ed",
   "metadata": {},
   "source": [
    "***Исследовательский анализ данных таблицы с информаицей о договорах***"
   ]
  },
  {
   "cell_type": "markdown",
   "id": "e55096a8",
   "metadata": {},
   "source": [
    "Построим гистограммы распределения длительности контрактов у действующих и ушедших клиентов на одном графике."
   ]
  },
  {
   "cell_type": "code",
   "execution_count": null,
   "id": "02e2c66f",
   "metadata": {},
   "outputs": [],
   "source": [
    "x1_ = list(data_contract[data_contract['EndDate'].notna()]['Duration'])\n",
    "x2_ = list(data_contract[data_contract['EndDate'].isna()]['Duration'])\n",
    "\n",
    "\n",
    "colors = ['orange', 'green']\n",
    "names = ['Ушедшие клиенты', 'Актуальные клиенты']\n",
    "\n",
    "k = plt.figure()\n",
    "k.set_figwidth(16)\n",
    "k.set_figheight(7)\n",
    "plt.hist([x1_, x2_], bins = 80,\n",
    "         color = colors, label=names)\n",
    "\n",
    "plt.legend()\n",
    "plt.title('Гистограммы распределения сроков договоров')\n",
    "plt.xlabel('Срок действия договоров')\n",
    "plt.ylabel('Число клиентов')\n",
    "plt.show();\n",
    "          "
   ]
  },
  {
   "cell_type": "markdown",
   "id": "371656da",
   "metadata": {},
   "source": [
    "По гистограмме видно, что долгосрочные клиенты (сроком дейстивя договора более 1800 дней) разрывают договоры ощутимо реже, чем клиенты с меньшим сроком обслуживания. То есть этот признак должен коррелировать с вероятностью ухода клиента."
   ]
  },
  {
   "cell_type": "markdown",
   "id": "226564cb",
   "metadata": {},
   "source": [
    "<div class=\"alert alert-success\">\n",
    "<b>👍 Успех:</b> Все верно!\n",
    "</div>"
   ]
  },
  {
   "cell_type": "markdown",
   "id": "77a84fcd",
   "metadata": {},
   "source": [
    "Посмотрим распределение признака TotalCharges опять же в разрезе ушедших/действующих клиентов."
   ]
  },
  {
   "cell_type": "code",
   "execution_count": null,
   "id": "bd1691ce",
   "metadata": {},
   "outputs": [],
   "source": [
    "x1_ = list(data_contract[data_contract['EndDate'].notna()]['TotalCharges'])\n",
    "x2_ = list(data_contract[data_contract['EndDate'].isna()]['TotalCharges'])\n",
    "\n",
    "\n",
    "colors = ['red', 'blue']\n",
    "names = ['Ушедшие клиенты', 'Актуальные клиенты']\n",
    "\n",
    "k = plt.figure()\n",
    "k.set_figwidth(16)\n",
    "k.set_figheight(7)\n",
    "plt.hist([x1_, x2_], bins = 80,\n",
    "         color = colors, label=names)\n",
    "\n",
    "plt.legend()\n",
    "plt.title('Гистограммы распределения общих расходов клиентов')\n",
    "plt.xlabel('Общие расходы')\n",
    "plt.ylabel('Число клиентов')\n",
    "plt.show();\n",
    "          "
   ]
  },
  {
   "cell_type": "markdown",
   "id": "d0bd8e91",
   "metadata": {},
   "source": [
    "Число ушедших клиентов с общими расходами от 6000 стремится к нулю. То есть вероятность ухода клиентов с расходами от 6000 тоже приближается к нулю. Ушедших клиентов с общими расходами 4000-6000 больше, с расходами менее 4000 ощутимо больше. Явно видна корреляция между признаком TotalCharges и вероятностью ухода."
   ]
  },
  {
   "cell_type": "markdown",
   "id": "e5e4c4db",
   "metadata": {},
   "source": [
    "<div class=\"alert alert-success\">\n",
    "<b>👍 Успех:</b> Все верно!\n",
    "</div>"
   ]
  },
  {
   "cell_type": "markdown",
   "id": "98d2c091",
   "metadata": {},
   "source": [
    "Аналогичным образом роанализируем признак MonthlyCharges. По этому признаку можно оценить, сколько услуг предоставляется клиенту. Чем больше сумма - тем больше пакет услуг. "
   ]
  },
  {
   "cell_type": "code",
   "execution_count": null,
   "id": "4a0ba6b1",
   "metadata": {},
   "outputs": [],
   "source": [
    "x1_ = list(data_contract[data_contract['EndDate'].notna()]['MonthlyCharges'])\n",
    "x2_ = list(data_contract[data_contract['EndDate'].isna()]['MonthlyCharges'])\n",
    "\n",
    "\n",
    "colors = ['purple', 'green']\n",
    "names = ['Ушедшие клиенты', 'Актуальные клиенты']\n",
    "\n",
    "k = plt.figure()\n",
    "k.set_figwidth(16)\n",
    "k.set_figheight(7)\n",
    "plt.hist([x1_, x2_], bins = 80,\n",
    "         color = colors, label=names)\n",
    "\n",
    "plt.legend()\n",
    "plt.title('Гистограммы распределения расходов за последний месяц')\n",
    "plt.xlabel('Расходы за последний месяц')\n",
    "plt.ylabel('Число клиентов')\n",
    "plt.show();"
   ]
  },
  {
   "cell_type": "markdown",
   "id": "35b21129",
   "metadata": {},
   "source": [
    "По этой гистограмме сложно оценить распределение расходов за последний месяц у ушедших клиентов, хорошо видно только распределение расходов у действующих клиентов. Видно, что значительная часть клиентов \"сидит\" на минимальном пакете услуг стоимостью 20 ден.ед. в месяц."
   ]
  },
  {
   "cell_type": "markdown",
   "id": "37cb428a",
   "metadata": {},
   "source": [
    "<div class=\"alert alert-success\">\n",
    "<b>👍 Успех:</b> Все верно!\n",
    "</div>"
   ]
  },
  {
   "cell_type": "markdown",
   "id": "4753b86b",
   "metadata": {},
   "source": [
    "Построим гистограмму распределения расходов за месяц у ушедших клиентов. Для этого выделим их в отдельную таблицу."
   ]
  },
  {
   "cell_type": "code",
   "execution_count": null,
   "id": "47f20f5b",
   "metadata": {},
   "outputs": [],
   "source": [
    "contract_terminate = data_contract[data_contract['EndDate'].notna()]"
   ]
  },
  {
   "cell_type": "code",
   "execution_count": null,
   "id": "4a51c641",
   "metadata": {},
   "outputs": [],
   "source": [
    "contract_terminate['MonthlyCharges'].plot(kind = 'hist', bins = 80, figsize = (20, 5), grid = True, legend = True)\n",
    "plt.title('Гистограмма распределения расходов за последний месяц у ушедших клиентов', fontsize=15)\n",
    "plt.xlabel('Расходы за последний месяц у ушедших клиентов', fontsize = 15)\n",
    "plt.ylabel('Число клиентов', fontsize = 15)\n",
    "plt.legend(fontsize = 15)\n",
    "plt.xticks(fontsize=12)\n",
    "plt.yticks(fontsize=12)\n",
    "plt.grid(True)\n",
    "plt.show()\n",
    "\n",
    "fig, ax = plt.subplots(figsize = (15,2))\n",
    "ax = contract_terminate[['MonthlyCharges']].boxplot(vert = False, ax =ax)\n",
    "ax.set_title('Диаграмма размаха расходов за последний месяц ушедших клиентов')\n",
    "ax.set_xlabel('Расходы за последний месяц у ушедших клиентов', fontsize = 12)\n",
    ";\n",
    "\n",
    "print('Статистика:', contract_terminate['MonthlyCharges'].describe())"
   ]
  },
  {
   "cell_type": "markdown",
   "id": "1b7aee3f",
   "metadata": {},
   "source": [
    "Виден пик у клиентов с расходами 20 ден.ед. за месяц, но таких клиентов ощутимо больше, чем всех остальных. Ощутимо больше ушедших клиентов с расходами за последний месяц в интервале 80-110 ден.ед."
   ]
  },
  {
   "cell_type": "markdown",
   "id": "97d852a0",
   "metadata": {},
   "source": [
    "<div class=\"alert alert-success\">\n",
    "<b>👍 Успех:</b> Все верно!\n",
    "</div>"
   ]
  },
  {
   "cell_type": "markdown",
   "id": "d904149b",
   "metadata": {},
   "source": [
    "Построим графики с распределением категориальных признаков: Type, PaperlessBilling,\tPaymentMethod."
   ]
  },
  {
   "cell_type": "code",
   "execution_count": null,
   "id": "bf4b8791",
   "metadata": {},
   "outputs": [],
   "source": [
    "features = ['Type', 'PaperlessBilling', 'PaymentMethod']\n",
    "position = 0\n",
    "plt.figure(figsize=[18, 6])\n",
    "plt.subplots_adjust(wspace=0.8, hspace=0.3)\n",
    "plt.suptitle('Распределение значений категориальных признаков', fontsize=15)\n",
    "for feature in features:\n",
    "    position += 1\n",
    "    plt.subplot(1, 3, position)\n",
    "    plt.title(f'Распределение признака {feature}', fontsize=15)\n",
    "    sns.countplot(data = data_contract, x = feature, hue = 'Outflow')\n",
    "    plt.xlabel(feature, fontsize = 15)\n",
    "    plt.ylabel('количество', fontsize = 15)\n",
    "    plt.xticks(fontsize=12)\n",
    "    plt.yticks(fontsize=12)\n",
    "    #ax.set_xticklabels(ax.get_xticklabels(), rotation=45, ha='right')\n",
    "    plt.grid(True)"
   ]
  },
  {
   "cell_type": "markdown",
   "id": "fa8b032b",
   "metadata": {},
   "source": [
    "Видим, что число ушедших клиентов с разными типами оплаты примерно одинаково в абсолютном выражении. В относительном выражении (соотношение между оставшимися и ушедшими клиентами) ушедшие клиенты составляют бОльший процент в категориях, которые платят раз в год и раз в два года.\n",
    "\n",
    "Соотношение между ушедшими и оставшимися клиентами с разными видами чеков не сильно отличаются. У клиентов с электронным чеком соотношение ушедшие/оставшиеся составляет примерно 20%. У клиентов с бумажным чеком это соотношение примерно равно 16%.\n",
    "\n",
    "Процент ушедших клиентов в категориях  'Bank transfer (automatic)', 'Credit card (automatic)' примерно одинаковый и выше, чем у клиентов с типами оплаты 'Electronic check', 'Mailed check'. То есть вопреки первоначальному предположению клиенты с автоматическим списанием оплаты уходят чаще, чем клиенты с не автоматическим типом оплаты.\n"
   ]
  },
  {
   "cell_type": "markdown",
   "id": "a4cbe853",
   "metadata": {},
   "source": [
    "<div class=\"alert alert-success\">\n",
    "<b>👍 Успех:</b> Все верно!\n",
    "</div>"
   ]
  },
  {
   "cell_type": "markdown",
   "id": "b252d7b3",
   "metadata": {},
   "source": [
    "***Выводы по предобработке и анализу данных таблоицы  data_contract:***\n",
    "\n",
    "***1)*** Мы поменяли тип данных в столбцах BeginDate и EndDate на DateTime предварительно заменив текстовые значения в EndDate на пропуски.\n",
    "\n",
    "***2)*** Ввели новый признак длительность договора Duration, определив значения в нем как разницу между EndDate и BeginDate для ушедших клиентов и текущей датой (01.02.2020) и BeginDate для действующих клиентов.\n",
    "\n",
    "***3)*** Ввели целевой бинарный признак Outflow, если значение равно 1, значит, этот клиент ушел, если 0, клиент остался.\n",
    "\n",
    "***4)*** Поменяли тип данных в столбце TotalCharges на float и удалили 11 строк (0,15%) с пропусками.\n",
    "\n",
    "***5)*** Долгосрочные клиенты (сроком действия договора более 1800 дней) разрывают договоры ощутимо реже, чем клиенты с меньшим сроком обслуживания.\n",
    "\n",
    "***6)*** Видна зависимость между признаком TotalCharges и вероятностью ухода, клиенты с общей суммой расходов более 6000 уходят крайне редко.\n",
    "\n",
    "***7)*** Среди клиентов с расходами за последний месяц 80-110 ден.ед. ощутимо больше ушедших.\n",
    "\n",
    "***8)*** В относительном выражении ушедшие клиенты составляют бОльший процент в категориях, которые платят раз в год и раз в два года. Соотношение между ушедшими и оставшимися клиентами с разными видами чеков не сильно отличаются. Клиенты с автоматическим списанием оплаты уходят чаще, чем клиенты с не автоматическим типом оплаты."
   ]
  },
  {
   "cell_type": "markdown",
   "id": "43b5135a",
   "metadata": {},
   "source": [
    "<div class=\"alert alert-success\">\n",
    "<b>👍 Успех:</b> Отличный анализ, молодец!\n",
    "</div>"
   ]
  },
  {
   "cell_type": "markdown",
   "id": "81abd5d4",
   "metadata": {},
   "source": [
    "***Предобработка данных в таблице с персональными данными***"
   ]
  },
  {
   "cell_type": "code",
   "execution_count": null,
   "id": "affb2740",
   "metadata": {},
   "outputs": [],
   "source": [
    "data_personal.head()"
   ]
  },
  {
   "cell_type": "code",
   "execution_count": null,
   "id": "fcfa8389",
   "metadata": {},
   "outputs": [],
   "source": [
    "data_personal.info()"
   ]
  },
  {
   "cell_type": "markdown",
   "id": "0d452cb0",
   "metadata": {},
   "source": [
    "Переведем тип данных в столбцах SeniorCitizen, Partner, Dependents в boollean."
   ]
  },
  {
   "cell_type": "code",
   "execution_count": null,
   "id": "35bfea7d",
   "metadata": {},
   "outputs": [],
   "source": [
    "data_personal['SeniorCitizen'] = data_personal['SeniorCitizen'].map({1: True, 0: False})"
   ]
  },
  {
   "cell_type": "code",
   "execution_count": null,
   "id": "98f17a95",
   "metadata": {},
   "outputs": [],
   "source": [
    "data_personal['Partner'] = data_personal['Partner'].map({'Yes': True, 'No': False})"
   ]
  },
  {
   "cell_type": "code",
   "execution_count": null,
   "id": "1d9d1901",
   "metadata": {},
   "outputs": [],
   "source": [
    "data_personal['Dependents'] = data_personal['Dependents'].map({'Yes': True, 'No': False})"
   ]
  },
  {
   "cell_type": "code",
   "execution_count": null,
   "id": "1c0e9561",
   "metadata": {},
   "outputs": [],
   "source": [
    "data_personal.info()"
   ]
  },
  {
   "cell_type": "markdown",
   "id": "c0b7bf26",
   "metadata": {},
   "source": [
    "Посмотрим распределения значений по каждому признаку."
   ]
  },
  {
   "cell_type": "code",
   "execution_count": null,
   "id": "ede99fa2",
   "metadata": {},
   "outputs": [],
   "source": [
    "features = ['gender', 'SeniorCitizen', 'Partner', 'Dependents']\n",
    "position = 0\n",
    "plt.figure(figsize=[12, 10])\n",
    "plt.subplots_adjust(wspace=0.5, hspace=0.3)\n",
    "plt.suptitle('Распределение значений признаков', fontsize=15)\n",
    "for feature in features:\n",
    "    position += 1\n",
    "    plt.subplot(2, 2, position)\n",
    "    plt.title(f'Распределение признака {feature}', fontsize=12)\n",
    "    sns.countplot(x = feature, data = data_personal)\n",
    "    plt.xlabel(feature, fontsize = 15)\n",
    "    plt.ylabel('количество', fontsize = 15)\n",
    "    plt.xticks(fontsize=12)\n",
    "    plt.yticks(fontsize=12)\n",
    "    plt.grid(True)"
   ]
  },
  {
   "cell_type": "markdown",
   "id": "82c44a5c",
   "metadata": {},
   "source": [
    "Соотношение полов у клиентов 50/50, пенсионеры составляют примерно 15% от общего числа клиентов, по признаку наличия/отсутствия супруга/супруги соотношение клиентов примерно одинаковое, число клиентов, имеющих зависимым лиц (обычно это дети) состаляет менее 30% от общего числа клиентов."
   ]
  },
  {
   "cell_type": "markdown",
   "id": "2e83fca8",
   "metadata": {},
   "source": [
    "Пропусков в датасете нет, на дубликаты проверять нет смысла, т к в данной таблице совпадающие поля Gender-Senior_citizen-Partner-Dependents это норма."
   ]
  },
  {
   "cell_type": "markdown",
   "id": "8dfed0a6",
   "metadata": {},
   "source": [
    "***Выводы по предобработке и анализу таблицы data_personal:***\n",
    "\n",
    "***1)*** Заменили тип данных в столбцах с бинарными признаками на bool.\n",
    "\n",
    "***2)*** Соотношение полов у клиентов 50/50, пенсионеры составляют примерно 15% от общего числа клиентов, по признаку наличия/отсутствия супруга/супруги соотношение клиентов примерно одинаковое, число клиентов, имеющих зависимым лиц (обычно это дети) состаляет менее 30% от общего числа клиентов."
   ]
  },
  {
   "cell_type": "markdown",
   "id": "ade2d547",
   "metadata": {},
   "source": [
    "<div class=\"alert alert-success\">\n",
    "<b>👍 Успех:</b> Все верно!\n",
    "</div>"
   ]
  },
  {
   "cell_type": "markdown",
   "id": "c495926b",
   "metadata": {},
   "source": [
    "***Предобработка и анализ данных таблицы c информацией об интернет-услугах***"
   ]
  },
  {
   "cell_type": "code",
   "execution_count": null,
   "id": "f38d579b",
   "metadata": {},
   "outputs": [],
   "source": [
    "data_internet.head()"
   ]
  },
  {
   "cell_type": "code",
   "execution_count": null,
   "id": "3ceefece",
   "metadata": {},
   "outputs": [],
   "source": [
    "data_internet.info()"
   ]
  },
  {
   "cell_type": "markdown",
   "id": "d31105b2",
   "metadata": {},
   "source": [
    "В датасете нет пропусков, дубликаты (совпадления по всем полям, кроме индекса) допустимы, т к может быть много клиентов с одинаковыми пакетами услуг.\n",
    "\n",
    "Все признаки, кроме индекса и InternetServiсe, являются бинарными и по логике надо бы заменить тип данных в этих столбцах с object на bool. Но поскольку в дальнейшем нужно будет объединять все таблицы, то у клиентов, которые не пользуются интернет-услугами, в этих столбцах будут пропуски, которые не корректно будет заполнять нулями. Есть разница между значением \"не подключена опция в рамках пакета услуг\" (значение False бинарного признака) и значением \"отсутствует пакет услуг\". После объединения датасетов нужно будет вводить третье значение этих признаков для клиентов, которые не пользуются интернетом, поэтому в бинарный тип в данной ситуации НЕ переводим, оставляем object."
   ]
  },
  {
   "cell_type": "code",
   "execution_count": null,
   "id": "bd141894",
   "metadata": {
    "scrolled": true
   },
   "outputs": [],
   "source": [
    "features = ['InternetService', 'OnlineSecurity', 'OnlineBackup', 'DeviceProtection',\\\n",
    "            'TechSupport', 'StreamingTV', 'StreamingMovies']\n",
    "position = 0\n",
    "plt.figure(figsize=[18, 18])\n",
    "plt.subplots_adjust(wspace=0.3, hspace=0.3)\n",
    "plt.suptitle('Распределение значений признаков', fontsize=15)\n",
    "for feature in features:\n",
    "    position += 1\n",
    "    plt.subplot(3, 3, position)\n",
    "    plt.title(f'Распределение признака {feature}', fontsize=12)\n",
    "    sns.countplot(x = feature, data = data_internet)\n",
    "    plt.xlabel(feature, fontsize = 12)\n",
    "    plt.ylabel('количество', fontsize = 12)\n",
    "    plt.xticks(fontsize=12)\n",
    "    plt.yticks(fontsize=12)\n",
    "    plt.grid(True)"
   ]
  },
  {
   "cell_type": "markdown",
   "id": "d1a85d27",
   "metadata": {},
   "source": [
    "У 55% клиентов подключен FiberOptic, у 45% - DSL, у 36% клиентов подключена услуга OnlineSecurity, у 45% подключен OnlineBackup, у 63% подключена DeviceProtection и TechSupport, у половины клиентов подключены StreamingTV и StreamingMovies.\n",
    "\n",
    "Посмотрим распределение этих признаков у ушедших и оставшихся клиентов на следующем шаге после объединения таблиц."
   ]
  },
  {
   "cell_type": "markdown",
   "id": "cdfe0efe",
   "metadata": {},
   "source": [
    "<div class=\"alert alert-success\">\n",
    "<b>👍 Успех:</b> Все верно!\n",
    "</div>"
   ]
  },
  {
   "cell_type": "markdown",
   "id": "b6ef5fb3",
   "metadata": {},
   "source": [
    "***Предобработка и анализ данных таблицы c информацией об услугах телефонии***"
   ]
  },
  {
   "cell_type": "code",
   "execution_count": null,
   "id": "eed0c7e5",
   "metadata": {},
   "outputs": [],
   "source": [
    "data_phone.head()"
   ]
  },
  {
   "cell_type": "code",
   "execution_count": null,
   "id": "27e6aec9",
   "metadata": {},
   "outputs": [],
   "source": [
    "data_phone.info()"
   ]
  },
  {
   "cell_type": "markdown",
   "id": "e9ca3ecf",
   "metadata": {},
   "source": [
    "В датасете 6361 строк, то есть 90% клиентов пользуются услугами телефонии. Пропусков нет, на дубликаты не проверяем.\n",
    "\n",
    "Тип данных у бинарного признака MultipleLines оставляем object по той же причине, что в предыдущей таблице, чтобы корректно заполнить пропуски после объединения таблиц."
   ]
  },
  {
   "cell_type": "code",
   "execution_count": null,
   "id": "723ca57b",
   "metadata": {},
   "outputs": [],
   "source": [
    "plt.title(f'Распределение признака MultipleLines', fontsize=12)\n",
    "sns.countplot(x = 'MultipleLines', data = data_phone)\n",
    "plt.xlabel('Подключение к нескольким линиям', fontsize = 12)\n",
    "plt.ylabel('Число клиентов', fontsize = 12)\n",
    "plt.xticks(fontsize=12)\n",
    "plt.yticks(fontsize=12)\n",
    "plt.grid(True)"
   ]
  },
  {
   "cell_type": "markdown",
   "id": "4ca97d70",
   "metadata": {},
   "source": [
    "Примерно 45% клиентов пользуются услугой MultipleLines."
   ]
  },
  {
   "cell_type": "markdown",
   "id": "8744e5bc",
   "metadata": {},
   "source": [
    "<div class=\"alert alert-success\">\n",
    "<b>👍 Успех:</b> Все верно!\n",
    "</div>"
   ]
  },
  {
   "cell_type": "markdown",
   "id": "4164ceef",
   "metadata": {},
   "source": [
    "## Шаг . Объединение данных"
   ]
  },
  {
   "cell_type": "markdown",
   "id": "bd73b56b",
   "metadata": {},
   "source": [
    "Объединяем таблицы методом merge(). К таблице data_contract присоединяем по очереди все таблицы. Используем \"левое\" объеднение, т к в исходной таблице data_contract присутствуют все клиенты, и при левом объединении все строки этой таблицы сохранятся."
   ]
  },
  {
   "cell_type": "code",
   "execution_count": null,
   "id": "419d6a61",
   "metadata": {},
   "outputs": [],
   "source": [
    "data = data_contract.merge(data_personal, how = 'left', on = 'customerID')\n",
    "data = data.merge(data_internet, how='left', on = 'customerID')\n",
    "data = data.merge(data_phone, how = 'left', on = 'customerID')"
   ]
  },
  {
   "cell_type": "code",
   "execution_count": null,
   "id": "ef84c137",
   "metadata": {},
   "outputs": [],
   "source": [
    "data.head()"
   ]
  },
  {
   "cell_type": "markdown",
   "id": "b7a99b64",
   "metadata": {},
   "source": [
    "<div class=\"alert alert-success\">\n",
    "<b>👍 Успех:</b> Объединение прошло верно!\n",
    "</div>"
   ]
  },
  {
   "cell_type": "markdown",
   "id": "cba528e9",
   "metadata": {},
   "source": [
    "## Шаг. Исследовательский анализ и предобработка данных объединённого датафрейма"
   ]
  },
  {
   "cell_type": "markdown",
   "id": "95fdcb3c",
   "metadata": {},
   "source": [
    "***Предобработка данных объединенного датасета***"
   ]
  },
  {
   "cell_type": "markdown",
   "id": "16433892",
   "metadata": {},
   "source": [
    "Типы данных не трогаем - мы разобрались с ними на предыдущем шаге.\n",
    "\n",
    "Смотрим на пропуски.\n",
    "\n",
    "Пропуски в столбце EndDate говорят о том, что в этих строках находятся действующие, а не ушедшие клиенты. Поскольку мы ввели признак длительности контракта, мне кажется,  что признак с датой конца договора можно удалить. Но удаление признаков будем делать после корреляционного анализа.\n",
    "\n",
    "Пропуски в столбцах с категориальными признаками InternetService, OnlineSecurity, OnlineBackup, DeviceProtection, TechSupport,\tStreamingTV, StreamingMovies, MultipleLines заполняем значением 'NotUsed' - это клиенты, которые не пользуются соответствующим типом услуг, поэтому у них отсутствует опция выбора."
   ]
  },
  {
   "cell_type": "code",
   "execution_count": null,
   "id": "5a78e4cc",
   "metadata": {},
   "outputs": [],
   "source": [
    "features =  ['InternetService', 'OnlineSecurity', 'OnlineBackup', 'DeviceProtection',\\\n",
    "             'TechSupport', 'StreamingTV', 'StreamingMovies', 'MultipleLines']\n",
    "for feature in features:\n",
    "    data.fillna({feature : 'NotUsed'}, inplace = True)"
   ]
  },
  {
   "cell_type": "code",
   "execution_count": null,
   "id": "d72d8062",
   "metadata": {},
   "outputs": [],
   "source": [
    "data.info()"
   ]
  },
  {
   "cell_type": "markdown",
   "id": "459107c1",
   "metadata": {},
   "source": [
    "<div class=\"alert alert-success\">\n",
    "<b>👍 Успех:</b> Все верно!\n",
    "</div>"
   ]
  },
  {
   "cell_type": "markdown",
   "id": "1b4c2307",
   "metadata": {},
   "source": [
    "***Исследовательский анализ объединенного датасета***"
   ]
  },
  {
   "cell_type": "markdown",
   "id": "1d57eed1",
   "metadata": {},
   "source": [
    "Гистограммы распределения числовых признаков (Duration, TotalCharges, MonthlyCharges) мы смотрели на предыдущем шаге. После объединения нас интересуют распределения ктагориальных признаков из добавленных таблиц в разрезе ушедших/оставшихся клиентов."
   ]
  },
  {
   "cell_type": "code",
   "execution_count": null,
   "id": "9fb82f7e",
   "metadata": {
    "scrolled": true
   },
   "outputs": [],
   "source": [
    "features = ['gender', 'SeniorCitizen', 'Partner', 'Dependents']\n",
    "position = 0\n",
    "plt.figure(figsize=[12, 10])\n",
    "plt.subplots_adjust(wspace=0.5, hspace=0.3)\n",
    "plt.suptitle('Распределение значений признаков персональных данных', fontsize=15)\n",
    "for feature in features:\n",
    "    position += 1\n",
    "    plt.subplot(2, 2, position)\n",
    "    plt.title(f'Распределение признака {feature}', fontsize=12)\n",
    "    sns.countplot(x = feature, data = data, hue = 'Outflow')\n",
    "    plt.xlabel(feature, fontsize = 15)\n",
    "    plt.ylabel('количество', fontsize = 15)\n",
    "    plt.xticks(fontsize=12)\n",
    "    plt.yticks(fontsize=12)\n",
    "    plt.grid(True)"
   ]
  },
  {
   "cell_type": "markdown",
   "id": "ee96bea8",
   "metadata": {},
   "source": [
    "Распределение числа клиентов с определенными признаками в абсолютном выражении мне кажется не очень информативным, лучше смотреть, какой процент ушедших клиентов обладал определенными признаками и пользовался определенными услугами.\n",
    "\n",
    "<div class=\"alert alert-success\">\n",
    "<b>👍 Успех:</b> Все верно!\n",
    "</div>\n",
    "\n",
    "Построим графики с процентами клиентов, обладающими тем или иным признаком."
   ]
  },
  {
   "cell_type": "code",
   "execution_count": null,
   "id": "b1937d2f",
   "metadata": {
    "scrolled": false
   },
   "outputs": [],
   "source": [
    "outflow_percentage = data.groupby(['Outflow', 'gender']).size() / data.groupby('Outflow').size() * 100\n",
    "outflow_percentage = outflow_percentage.reset_index(name='percentage')\n",
    "sns.barplot(data = outflow_percentage, x = 'gender', y = 'percentage', hue = 'Outflow')\n",
    "plt.title('Процентное соотношение gender')\n",
    "plt.xlabel('gender')\n",
    "plt.ylabel('Проценты')\n",
    "plt.legend(title = 'Outflow')\n",
    "plt.show()"
   ]
  },
  {
   "cell_type": "markdown",
   "id": "488eb15b",
   "metadata": {},
   "source": [
    "Соотношение полов у ушедших и оставшихся клиентов - 50/50."
   ]
  },
  {
   "cell_type": "markdown",
   "id": "fabdb356",
   "metadata": {},
   "source": [
    "<div class=\"alert alert-success\">\n",
    "<b>👍 Успех:</b> Все верно!\n",
    "</div>"
   ]
  },
  {
   "cell_type": "code",
   "execution_count": null,
   "id": "ad911495",
   "metadata": {
    "scrolled": true
   },
   "outputs": [],
   "source": [
    "outflow_percentage = data.groupby(['Outflow', 'SeniorCitizen']).size() / data.groupby('Outflow').size() * 100\n",
    "outflow_percentage = outflow_percentage.reset_index(name='percentage')\n",
    "sns.barplot(data = outflow_percentage, x = 'SeniorCitizen', y = 'percentage', hue = 'Outflow')\n",
    "plt.title('Процентное соотношение SeniorCitizen')\n",
    "plt.xlabel('SeniorCitizen')\n",
    "plt.ylabel('Проценты')\n",
    "plt.legend(title = 'Outflow')\n",
    "plt.show()"
   ]
  },
  {
   "cell_type": "markdown",
   "id": "fd60c28d",
   "metadata": {},
   "source": [
    "20% ушедших клиентов - пенсионеры. "
   ]
  },
  {
   "cell_type": "markdown",
   "id": "eecef466",
   "metadata": {},
   "source": [
    "<div class=\"alert alert-success\">\n",
    "<b>👍 Успех:</b> Все верно!\n",
    "</div>"
   ]
  },
  {
   "cell_type": "code",
   "execution_count": null,
   "id": "da6824ed",
   "metadata": {
    "scrolled": true
   },
   "outputs": [],
   "source": [
    "outflow_percentage = data.groupby(['Outflow', 'Partner']).size() / data.groupby('Outflow').size() * 100\n",
    "outflow_percentage = outflow_percentage.reset_index(name='percentage')\n",
    "sns.barplot(data = outflow_percentage, x = 'Partner', y = 'percentage', hue = 'Outflow')\n",
    "plt.title('Процентное соотношение Partner')\n",
    "plt.xlabel('Partner')\n",
    "plt.ylabel('Проценты')\n",
    "plt.legend(title = 'Outflow')\n",
    "plt.show()"
   ]
  },
  {
   "cell_type": "code",
   "execution_count": null,
   "id": "43338af6",
   "metadata": {
    "scrolled": true
   },
   "outputs": [],
   "source": [
    "outflow_percentage = data.groupby(['Outflow', 'Dependents']).size() / data.groupby('Outflow').size() * 100\n",
    "outflow_percentage = outflow_percentage.reset_index(name='percentage')\n",
    "sns.barplot(data = outflow_percentage, x = 'Dependents', y = 'percentage', hue = 'Outflow')\n",
    "plt.title('Процентное соотношение Dependents')\n",
    "plt.xlabel('Dependents')\n",
    "plt.ylabel('Проценты')\n",
    "plt.legend(title = 'Outflow')\n",
    "plt.show()"
   ]
  },
  {
   "cell_type": "markdown",
   "id": "12511762",
   "metadata": {},
   "source": [
    "Более 60% ушедших клиентов не имеют супруга/супругу и зависимых лиц."
   ]
  },
  {
   "cell_type": "markdown",
   "id": "a7592d92",
   "metadata": {},
   "source": [
    "<div class=\"alert alert-info\"> <b>Комментарий студента:</b> Хотела сделать барплоты с процентами циклом на одной картинке, но что-то пошло не так (смотри ниже), не пойму что. По-моему, загвоздка в строках с outflow_percentage, тут как-то по-другому надо расписать. Что исправить?</div>"
   ]
  },
  {
   "cell_type": "markdown",
   "id": "11bb5fc1",
   "metadata": {},
   "source": [
    "<div class=\"alert alert-warning\">\n",
    "<b>🤔 Рекомендация:</b> По графикам все ОК (они все есть), ты неверно указываешь положения для каждого графика внутри цикла и размер графика\n",
    "</div>"
   ]
  },
  {
   "cell_type": "markdown",
   "id": "ef38a6fc",
   "metadata": {},
   "source": [
    "<div class=\"alert alert-info\"> <b>Комментарий студента:</b> Исправила\n",
    "</div>"
   ]
  },
  {
   "cell_type": "code",
   "execution_count": null,
   "id": "ff6fcda8",
   "metadata": {},
   "outputs": [],
   "source": [
    "features = ['gender', 'SeniorCitizen', 'Partner', 'Dependents']\n",
    "position = 0\n",
    "plt.figure(figsize=[10, 10])\n",
    "plt.subplots_adjust(wspace=0.5, hspace=0.3)\n",
    "plt.suptitle('Распределение значений признаков персональных данных', fontsize=15)\n",
    "for feature in features:\n",
    "    position += 1\n",
    "    outflow_percentage = data.groupby(['Outflow', feature]).size() / data.groupby('Outflow').size() * 100\n",
    "    outflow_percentage = outflow_percentage.reset_index(name='percentage')\n",
    "    plt.subplot(2, 2, position)\n",
    "    sns.barplot(data = outflow_percentage, x = feature, y = 'percentage', hue = 'Outflow')\n",
    "    plt.title(f'Процентное соотношение {feature}')\n",
    "    plt.xlabel(f'{feature}')\n",
    "    plt.ylabel('Проценты')\n",
    "    plt.legend(title = 'Outflow')"
   ]
  },
  {
   "cell_type": "markdown",
   "id": "420223aa",
   "metadata": {},
   "source": [
    "Построим графики распределения процентного соотношения клиентов, разделив их по признаку использования определенных услуг. Посмотрим, какой процент ушедших и оставшихся клиентов пользуется/не пользуется той или иной услугой. После построения графиков сделаем выводы."
   ]
  },
  {
   "cell_type": "code",
   "execution_count": null,
   "id": "82267a96",
   "metadata": {},
   "outputs": [],
   "source": [
    "features = ['InternetService', 'OnlineSecurity', 'OnlineBackup', 'DeviceProtection', 'TechSupport',\\\n",
    "           'StreamingTV', 'StreamingMovies', 'MultipleLines']\n",
    "position = 0\n",
    "plt.figure(figsize=[15, 12])\n",
    "plt.subplots_adjust(wspace=0.5, hspace=0.3)\n",
    "plt.suptitle('Распределение значений признаков персональных данных', fontsize=15)\n",
    "for feature in features:\n",
    "    position += 1\n",
    "    outflow_percentage = data.groupby(['Outflow', feature]).size() / data.groupby('Outflow').size() * 100\n",
    "    outflow_percentage = outflow_percentage.reset_index(name='percentage')\n",
    "    plt.subplot(3, 3, position)\n",
    "    sns.barplot(data = outflow_percentage, x = feature, y = 'percentage', hue = 'Outflow')\n",
    "    plt.title(f'Процентное соотношение {feature}')\n",
    "    plt.xlabel(f'{feature}')\n",
    "    plt.ylabel('Проценты')\n",
    "    plt.grid(True)\n",
    "    plt.legend(title = 'Outflow')"
   ]
  },
  {
   "cell_type": "markdown",
   "id": "fd0f0bec",
   "metadata": {},
   "source": [
    "***Выводы по исследовательскому анализу объединенного датасета:***\n",
    "\n",
    "Судя по графикам более 50% ушедших клиентов использовали тип связи FiberOptic, почти столько же использовали облачное хранилище для резервного копирования данных, пользовались услугами StreamingTV и StreamingMovies и MultipleLines, в то же время такое же число ушедших (~50%) НЕ пользовались блокировкой опасных сайтов, антивирусом и выделенной линией технической поддержки. \n",
    "Более 60% ушедших клиентов не имели супруга/супругу и зависимых лиц.\n",
    "\n",
    "Можно сделать вывод, что отсутствие услуг блокирвки опасных сайтов, антивируса и выделенной линии техподдержки может быть фактором риска ухода клиента, т к у половины ушедших клиентов не было этих услуг."
   ]
  },
  {
   "cell_type": "markdown",
   "id": "a66264a1",
   "metadata": {},
   "source": [
    "<div class=\"alert alert-success\">\n",
    "<b>👍 Успех:</b> Все верно!\n",
    "</div>"
   ]
  },
  {
   "cell_type": "markdown",
   "id": "ab23dd5c",
   "metadata": {},
   "source": [
    "***Корреляционный анализ***"
   ]
  },
  {
   "cell_type": "code",
   "execution_count": null,
   "id": "b9f4512a",
   "metadata": {},
   "outputs": [],
   "source": [
    "data.columns"
   ]
  },
  {
   "cell_type": "markdown",
   "id": "fc991b72",
   "metadata": {},
   "source": [
    "Поскольку бОльшая часть признаков, включая целевой, являются категориальными или бинарными, будем использовать матрицу корреляции Phik."
   ]
  },
  {
   "cell_type": "code",
   "execution_count": null,
   "id": "94781c8b",
   "metadata": {},
   "outputs": [],
   "source": [
    "data_phik = data[['BeginDate', 'EndDate', 'Type', 'PaperlessBilling',\n",
    "       'PaymentMethod', 'MonthlyCharges', 'TotalCharges', 'Outflow',\n",
    "       'Duration', 'gender', 'SeniorCitizen', 'Partner', 'Dependents',\n",
    "       'InternetService', 'OnlineSecurity', 'OnlineBackup', 'DeviceProtection',\n",
    "       'TechSupport', 'StreamingTV', 'StreamingMovies', 'MultipleLines']]\n",
    "corr_matrix_data = data_phik.phik_matrix(interval_cols = ['MonthlyCharges', 'TotalCharges', 'Duration'],\n",
    "                                                    bins = {'MonthlyCharges':20, 'TotalCharges':40, 'Duration':100}) \n"
   ]
  },
  {
   "cell_type": "code",
   "execution_count": null,
   "id": "4a48d59f",
   "metadata": {},
   "outputs": [],
   "source": [
    "# Визуализация матрицы корреляции phik\n",
    "plt.figure(figsize=(16, 16))\n",
    "sns.heatmap(corr_matrix_data, annot=True, cmap='Greens')\n",
    "plt.title('Phik матрица корреляции для data')\n",
    "plt.show(); "
   ]
  },
  {
   "cell_type": "markdown",
   "id": "8c78974f",
   "metadata": {},
   "source": [
    "Нужно убрать признаки, которые ни на что не влияют или влияют только на зависимый признак:\n",
    "- EndDate (ощутимо влияет только на Duration, рассчитанный из него;\n",
    "- PaperlessBilling. Как и предполагалось в начале, мало информативный признак;\n",
    "- gender;\n",
    "- SeniorCitizen;\n",
    "- Dependents. Имеет заивимость только с Partner. Обычно если есть супруг/супруга, то в этом случае есть дети. Поэтому можно убрать Dependents, имеющий слабую или почти нулевую корреляцию с остальными.\n",
    "Пока просто не будем включать эти признаки в таблицу для расчета матрицы.\n",
    "\n",
    "Еще предлагаю убрать сильно коррелирующие между собой услуги из интернет-пакета и заменить их новым признаком \"Клиент пользуется интернетом или нет\". Введем новый признак."
   ]
  },
  {
   "cell_type": "code",
   "execution_count": null,
   "id": "788dfd48",
   "metadata": {},
   "outputs": [],
   "source": [
    "data['InternetServ'] = data['InternetService'].apply(lambda x: 0 if x == 'NotUsed' else 1)\n",
    "                                             "
   ]
  },
  {
   "cell_type": "code",
   "execution_count": null,
   "id": "1c8e22ae",
   "metadata": {},
   "outputs": [],
   "source": [
    "data['InternetServ'] = data['InternetServ'].map({1: True, 0: False})"
   ]
  },
  {
   "cell_type": "code",
   "execution_count": null,
   "id": "c061a131",
   "metadata": {},
   "outputs": [],
   "source": [
    "data_new_phik = data[['BeginDate', 'Type',\\\n",
    "       'PaymentMethod', 'MonthlyCharges', 'TotalCharges', 'Outflow',\\\n",
    "       'Duration', 'gender', 'SeniorCitizen', 'Partner', 'Dependents', 'InternetService',\\\n",
    "       'InternetServ', 'MultipleLines']]\n",
    "corr_matrix_data_new = data_new_phik.phik_matrix(interval_cols = ['MonthlyCharges', 'TotalCharges', 'Duration'],\n",
    "                                                    bins = {'MonthlyCharges':20, 'TotalCharges':40, 'Duration':100}) "
   ]
  },
  {
   "cell_type": "code",
   "execution_count": null,
   "id": "331b556b",
   "metadata": {},
   "outputs": [],
   "source": [
    "plt.figure(figsize=(12, 10))\n",
    "sns.heatmap(corr_matrix_data_new, annot=True, cmap='Greens')\n",
    "plt.title('Phik матрица корреляции для data')\n",
    "plt.show(); "
   ]
  },
  {
   "cell_type": "markdown",
   "id": "f365ba03",
   "metadata": {},
   "source": [
    "Уберем из таблицы признак BeginDate, имеющий 100% корреляцию с Duration.\n",
    "\n",
    "Показатели типа подключения InternetService и новый признак InternetServ (пользуется клиент интернетом или нет) имеют 96% и 100% корреляцию с показателем MonthlyCharge и 100% корреляцию друг с другом. Оставим только один (созданный) InternetServ (пользуется клиент интернетом или нет). Создадим новый признак средних расходов за месяц AvrgCharges, рассчитанный как отношение между TotalCharges и числом месяцев, в течение которых клиент обслуживается в компании. \n",
    "\n",
    "Создадим новый признак, для этого посчитаем число месяцев, в течение которых действует договор."
   ]
  },
  {
   "cell_type": "markdown",
   "id": "baa26b5a",
   "metadata": {},
   "source": [
    "Создадим функцию, считающую число месяцев и создадим с помощью нее новый столбец (временный), данные из которого будем использовать для расчета среднемесячных расходов клиентов."
   ]
  },
  {
   "cell_type": "code",
   "execution_count": null,
   "id": "475a78f2",
   "metadata": {},
   "outputs": [],
   "source": [
    "def duration_month_count(row):\n",
    "    actual_date = pd.to_datetime('2020.02.01')\n",
    "    if pd.isna(row['EndDate']):\n",
    "        d1 = du_parse(str(row['BeginDate']))\n",
    "        d2 = du_parse(str(actual_date))\n",
    "        delta = relativedelta(d2, d1)\n",
    "        return delta.months\n",
    "    else:\n",
    "        d1 = du_parse(str(row['BeginDate']))\n",
    "        d2 = du_parse(str(row['EndDate']))\n",
    "        delta = relativedelta(d2, d1)\n",
    "        return delta.months\n",
    "data['Duration_months'] = data.apply(duration_month_count, axis = 1)"
   ]
  },
  {
   "cell_type": "markdown",
   "id": "df3c4cff",
   "metadata": {},
   "source": [
    "Создадим функцию, которая считает среднемесячные расходы клиентов."
   ]
  },
  {
   "cell_type": "code",
   "execution_count": null,
   "id": "51ffe54b",
   "metadata": {},
   "outputs": [],
   "source": [
    "def avg_charges_count(row):\n",
    "    if row['Duration_months'] != 0:\n",
    "        avg_charges = row['TotalCharges']/row['Duration_months']\n",
    "        return round(avg_charges, 2)\n",
    "    else:\n",
    "        avg_charges = row['MonthlyCharges']\n",
    "        return round(avg_charges, 2)"
   ]
  },
  {
   "cell_type": "code",
   "execution_count": null,
   "id": "66ffc75f",
   "metadata": {},
   "outputs": [],
   "source": [
    "data['AvrgCharges'] = data.apply(avg_charges_count, axis = 1)"
   ]
  },
  {
   "cell_type": "code",
   "execution_count": null,
   "id": "18aa331f",
   "metadata": {
    "scrolled": true
   },
   "outputs": [],
   "source": [
    "data.head()"
   ]
  },
  {
   "cell_type": "markdown",
   "id": "d6973947",
   "metadata": {},
   "source": [
    "Включим в таблицу для расчета матрицы новый признак AvrgCharges, а MonthlyCharges уберем. Исключим также InternetService, оставим InternetServ (пользуется клиент интернетом или нет)."
   ]
  },
  {
   "cell_type": "code",
   "execution_count": null,
   "id": "d0b705de",
   "metadata": {},
   "outputs": [],
   "source": [
    "data_new_phik = data[['Type', 'PaymentMethod', 'AvrgCharges', 'TotalCharges', 'Outflow',\\\n",
    "       'Duration', 'SeniorCitizen', 'Partner', 'Dependents', 'InternetServ', 'MultipleLines']]\n",
    "corr_matrix_data_new = data_new_phik.phik_matrix(interval_cols = ['AvrgCharges', 'TotalCharges', 'Duration'],\n",
    "                                                    bins = {'AvrgCharges':20, 'TotalCharges':40, 'Duration':100}) "
   ]
  },
  {
   "cell_type": "code",
   "execution_count": null,
   "id": "bccfc57a",
   "metadata": {
    "scrolled": true
   },
   "outputs": [],
   "source": [
    "plt.figure(figsize=(12, 10))\n",
    "sns.heatmap(corr_matrix_data_new, annot=True, cmap='Greens')\n",
    "plt.title('Phik матрица корреляции для data')\n",
    "plt.show(); "
   ]
  },
  {
   "cell_type": "markdown",
   "id": "ce3f3122",
   "metadata": {},
   "source": [
    "Уберем неинформативные и сильно коррелирующие с другими признаками столбцы."
   ]
  },
  {
   "cell_type": "code",
   "execution_count": null,
   "id": "17b1ffb9",
   "metadata": {},
   "outputs": [],
   "source": [
    "data_final = data.drop(['customerID', 'BeginDate', 'EndDate', 'PaperlessBilling', 'MonthlyCharges', 'InternetService', 'OnlineSecurity', 'OnlineBackup',\\\n",
    "  'DeviceProtection', 'TechSupport', 'StreamingTV', 'StreamingMovies', 'gender', 'Duration_months'], axis=1)"
   ]
  },
  {
   "cell_type": "code",
   "execution_count": null,
   "id": "dd74588f",
   "metadata": {},
   "outputs": [],
   "source": [
    "data_final.info()"
   ]
  },
  {
   "cell_type": "markdown",
   "id": "602357f9",
   "metadata": {},
   "source": [
    "Как видим, показатель среднемесячных расходов AvrgCharges не имеет сильной корреляции с другими входными признаками (в отличие от MonthlyCharges), поэтому AvrgCharges оставляем, MonthlyCharges убираем.\n",
    "\n",
    "**Выводы по корреляционному анализу:** \n",
    "\n",
    "***Убираем*** из таблицы признаки, которые не несут информативной нагрузки и которые имеют высокую корреляцию с другими входными признаками:\n",
    "\n",
    "- 'BeginDate',\n",
    "- 'EndDate', \n",
    "- 'PaperlessBilling', \n",
    "- услуги из интернет-пакета: 'InternetService', 'OnlineSecurity', 'OnlineBackup', 'DeviceProtection', 'TechSupport', 'StreamingTV', 'StreamingMovies',\n",
    "- gender,\n",
    "- MonthlyCharges (признак имеет 100% корреляцию с признаками из data_internet),\n",
    "- Duration_months (мы использовали этот признак для расчета нового, для анализа и построения модели он лишний, т к имеет высокую корреляцию с Duration, но при этом менее точный, чем Duration.\n",
    "\n",
    "Мы ввели следующие ***новые признаки***:\n",
    "\n",
    "- InternetServ - вместо перечня услуг из таблицы data_internet,\n",
    "- Duration - срок действия договора,\n",
    "- AvrgCharges - среднемесячные расходы. Этот признак не имеет высокой корреляции с другими входными. И он на мой взгляд более информативен, т к более объективно отражает историю взаимодействия с клиентом. MonthlyCharges отражает сумму платежа только за последний месяц, а клиенты в течение срока действия договора могли много раз менять тарифы, подключать новые и отказываться от старых услуг."
   ]
  },
  {
   "cell_type": "markdown",
   "id": "c353db9a",
   "metadata": {},
   "source": [
    "<div class=\"alert alert-success\">\n",
    "<b>👍 Успех:</b> Отличный корреляционный анализ, молодец!\n",
    "</div>"
   ]
  },
  {
   "cell_type": "markdown",
   "id": "6a565ee1",
   "metadata": {},
   "source": [
    "## Шаг. Подготовка данных и обучение моделей"
   ]
  },
  {
   "cell_type": "markdown",
   "id": "ee7565ae",
   "metadata": {},
   "source": [
    "Будем обучать две модели:\n",
    "\n",
    " - Логистическая регрессия,\n",
    " - Градиентный бустинг CatBoost.\n",
    " \n",
    " "
   ]
  },
  {
   "cell_type": "markdown",
   "id": "8efb3382",
   "metadata": {},
   "source": [
    "В начале подготовим признаки и обучим модель логистической регрессии, т к для обучения модели бустинга нужно будет переводить категориальные признаки в числовой тип.\n",
    "\n",
    "Разделим датасет на ренировочную и тестовую выборки."
   ]
  },
  {
   "cell_type": "code",
   "execution_count": null,
   "id": "b8f613df",
   "metadata": {},
   "outputs": [],
   "source": [
    "features = data_final.drop(columns = 'Outflow')\n",
    "target = data_final['Outflow']\n",
    "\n",
    "features_train, features_test, target_train, target_test = \\\n",
    "            train_test_split(features, target, test_size = TEST_SIZE, random_state = RANDOM_STATE)\n",
    "\n",
    "print(f'Размер тренировочной выборки - {target_train.shape[0]}')\n",
    "print(f'Размер тестовой выборки - {target_test.shape[0]}')"
   ]
  },
  {
   "cell_type": "markdown",
   "id": "5d1f96a7",
   "metadata": {},
   "source": [
    "Для кодирования категориальных признаков будем использовать OHE кодировщик, т к все категориальные признаки бинарные, ранговых нет. Для числовых будем использовать StandardScaler."
   ]
  },
  {
   "cell_type": "code",
   "execution_count": null,
   "id": "1e4af51d",
   "metadata": {},
   "outputs": [],
   "source": [
    "cat_col_names = ['Type', 'PaymentMethod', 'SeniorCitizen', 'Partner', 'Dependents', 'MultipleLines', 'InternetServ']\n",
    "num_col_names = ['TotalCharges', 'Duration', 'AvrgCharges']"
   ]
  },
  {
   "cell_type": "markdown",
   "id": "acc975f5",
   "metadata": {},
   "source": [
    "Кодируем категориальные признаки."
   ]
  },
  {
   "cell_type": "code",
   "execution_count": null,
   "id": "acb2d293",
   "metadata": {},
   "outputs": [],
   "source": [
    "# создадим переменную с экземпляром класса OneHotEncoder()\n",
    "encoder_ohe = OneHotEncoder(drop = 'first', sparse_output = False)\n",
    "\n",
    "# обучим и трансформируем категориальные признаки из тренировочной выборки с помощью  OneHotEncoder\n",
    "features_train_ohe = encoder_ohe.fit_transform(features_train[cat_col_names])\n",
    "\n",
    "# выполним преобразование категориальных признаков в тестовой выборке\n",
    "features_test_ohe = encoder_ohe.transform(features_test[cat_col_names])\n",
    "\n",
    "# получим от кодировщика список новых столбцов и сохраним в новой переменной \n",
    "encoder_col_names = encoder_ohe.get_feature_names_out()\n",
    "\n",
    "# создаём тренировочный и тестовый датафреймы из закодированных данных\n",
    "\n",
    "features_train_ohe = pd.DataFrame(features_train_ohe, columns = encoder_col_names)\n",
    "features_test_ohe = pd.DataFrame(features_test_ohe, columns = encoder_col_names)"
   ]
  },
  {
   "cell_type": "markdown",
   "id": "99de568e",
   "metadata": {},
   "source": [
    "Масштабируем количественные признаки."
   ]
  },
  {
   "cell_type": "code",
   "execution_count": null,
   "id": "58c7d0a5",
   "metadata": {},
   "outputs": [],
   "source": [
    "# создадим переменную с экземпляром класса StandardScaler()\n",
    "scaler = StandardScaler()\n",
    "\n",
    "# обучим и трансформируем количественные признаки из тренировочной выборки \n",
    "features_train_scaled = scaler.fit_transform(features_train[num_col_names])\n",
    "\n",
    "# выполним преобразование количественных признаков в тестовой выборке\n",
    "features_test_scaled = scaler.transform(features_test[num_col_names])\n",
    "\n",
    "# создаём тренировочный и тестовый датафреймы из отмасштабированных данных\n",
    "features_train_scaled = pd.DataFrame(features_train_scaled, columns = num_col_names)\n",
    "features_test_scaled = pd.DataFrame(features_test_scaled, columns = num_col_names)"
   ]
  },
  {
   "cell_type": "markdown",
   "id": "8a3a1f24",
   "metadata": {},
   "source": [
    "Объединим кодированные и масштабированные признаки в тренировочный и тестовый датафреймы."
   ]
  },
  {
   "cell_type": "code",
   "execution_count": null,
   "id": "50f814f0",
   "metadata": {},
   "outputs": [],
   "source": [
    "features_train = pd.concat([features_train_ohe.reset_index(), features_train_scaled.reset_index()], axis=1)\n",
    "\n",
    "features_test = pd.concat([features_test_ohe.reset_index(), features_test_scaled.reset_index()], axis=1)"
   ]
  },
  {
   "cell_type": "code",
   "execution_count": null,
   "id": "f421d63c",
   "metadata": {},
   "outputs": [],
   "source": [
    "target_train.unique()"
   ]
  },
  {
   "cell_type": "markdown",
   "id": "927bd1d9",
   "metadata": {},
   "source": [
    "<div class=\"alert alert-success\">\n",
    "<b>👍 Успех:</b> Все верно!\n",
    "</div>"
   ]
  },
  {
   "cell_type": "code",
   "execution_count": null,
   "id": "2bebef22",
   "metadata": {},
   "outputs": [],
   "source": [
    "start_time = time.time()\n",
    "param_logr = {'C': [0.01, 0.1, 1, 10, 100],\n",
    "                'class_weight': [None, 'balanced']\n",
    "               }\n",
    "\n",
    "model_logr = LogisticRegression()\n",
    "\n",
    "search_logr = RandomizedSearchCV(model_logr, param_logr, cv = 3, scoring = 'roc_auc', verbose = False)\n",
    "search_logr.fit(features_train, target_train)\n",
    "end_time = time.time()\n",
    "\n",
    "training_time_logr = end_time - start_time\n",
    "training_time_logr = round(training_time_logr, 2)\n",
    "\n",
    "print('Лучшие параметры:', search_logr.best_params_)\n",
    "print('Лучший результат:', search_logr.best_score_)\n",
    "print('Время обучения модели логистической регрессии: ', training_time_logr)"
   ]
  },
  {
   "cell_type": "markdown",
   "id": "c82ab80b",
   "metadata": {},
   "source": [
    "<div class=\"alert alert-danger\">\n",
    "<s><b>😔 Необходимо исправить:</b> Визуализировать ROC кривую нужно только для лучшей модели на тестовых данных, считать predict_proba на тех же данных, на которых обучалась модель не стоит, у тебя уже выведена метрика best_score_</s>\n",
    "</div>"
   ]
  },
  {
   "cell_type": "markdown",
   "id": "31081f61",
   "metadata": {},
   "source": [
    "<div class=\"alert alert-info\"> <b>Комментарий студента:</b> Здесь убрала, ниже сделала для лучше модели</div>"
   ]
  },
  {
   "cell_type": "markdown",
   "id": "d79e9b93",
   "metadata": {},
   "source": [
    "<div class=\"alert alert-success\">\n",
    "<b>👍 Успех:</b> Все верно!\n",
    "</div>"
   ]
  },
  {
   "cell_type": "markdown",
   "id": "0b2e2a8c",
   "metadata": {},
   "source": [
    "***Модель Catboost***"
   ]
  },
  {
   "cell_type": "markdown",
   "id": "1710cc69",
   "metadata": {},
   "source": [
    "Для обучения модели бустинга заменим тип даных на числовой."
   ]
  },
  {
   "cell_type": "code",
   "execution_count": null,
   "id": "9f546a54",
   "metadata": {},
   "outputs": [],
   "source": [
    "features =  ['Type', 'PaymentMethod', 'SeniorCitizen', 'Partner', 'Dependents', 'MultipleLines', 'InternetServ']\n",
    "for feature in features:\n",
    "    data_final[feature] = data_final[feature].astype('category').cat.codes"
   ]
  },
  {
   "cell_type": "markdown",
   "id": "f6b5eba5",
   "metadata": {},
   "source": [
    "Разделим на тренировочную и тестовую."
   ]
  },
  {
   "cell_type": "code",
   "execution_count": null,
   "id": "50712a80",
   "metadata": {},
   "outputs": [],
   "source": [
    "features = data_final.drop(columns = 'Outflow')\n",
    "target = data_final['Outflow']\n",
    "\n",
    "features_train, features_test, target_train, target_test = \\\n",
    "            train_test_split(features, target, test_size = TEST_SIZE, random_state = RANDOM_STATE)\n",
    "\n",
    "print(f'Размер тренировочной выборки - {target_train.shape[0]}')\n",
    "print(f'Размер тестовой выборки - {target_test.shape[0]}')"
   ]
  },
  {
   "cell_type": "code",
   "execution_count": null,
   "id": "67813458",
   "metadata": {},
   "outputs": [],
   "source": [
    "start_time = time.time()\n",
    "param_ctbst = {'iterations': [10, 50, 100, 200],\n",
    "                'learning_rate': [0.01, 0.1, 0.15],\n",
    "                'depth': [3, 4, 5, 6]\n",
    "               }\n",
    "\n",
    "model_ctbst = CatBoostClassifier(random_state = RANDOM_STATE)\n",
    "\n",
    "search_ctbst = RandomizedSearchCV(model_ctbst, param_ctbst, cv = 3, scoring = 'roc_auc', verbose = False)\n",
    "search_ctbst.fit(features_train, target_train)\n",
    "end_time = time.time()\n",
    "training_time_catboost = end_time - start_time\n",
    "training_time_catboost = round(training_time_catboost, 2)\n",
    "\n",
    "print('Лучшие параметры:', search_ctbst.best_params_)\n",
    "print('Лучший результат:', search_ctbst.best_score_)\n",
    "print('Время обучения модели Catboost:', training_time_catboost)"
   ]
  },
  {
   "cell_type": "markdown",
   "id": "3ab9a1ba",
   "metadata": {},
   "source": [
    "Сделаем предсказания на тренировчоной выборке с помощью модели CatBoost."
   ]
  },
  {
   "cell_type": "markdown",
   "id": "c519f1cf",
   "metadata": {},
   "source": [
    "<div class=\"alert alert-danger\">\n",
    "    <s><b>😔 Необходимо исправить:</b> Здесь тоже не нужно строить ROC кривую</s>\n",
    "</div>"
   ]
  },
  {
   "cell_type": "markdown",
   "id": "f4675828",
   "metadata": {},
   "source": [
    "<div class=\"alert alert-info\"> <b>Комментарий студента:</b> убрала</div>"
   ]
  },
  {
   "cell_type": "markdown",
   "id": "8f1ef9f9",
   "metadata": {},
   "source": [
    "<div class=\"alert alert-success\">\n",
    "<b>👍 Успех:</b> Все верно!\n",
    "</div>"
   ]
  },
  {
   "cell_type": "markdown",
   "id": "b8f751a7",
   "metadata": {},
   "source": [
    "## Шаг. Выбор лучшей модели"
   ]
  },
  {
   "cell_type": "markdown",
   "id": "a3d04fe6",
   "metadata": {},
   "source": [
    "Выведем таблицу с результатами по каждой из моделей."
   ]
  },
  {
   "cell_type": "code",
   "execution_count": null,
   "id": "b81a6868",
   "metadata": {},
   "outputs": [],
   "source": [
    "results = pd.DataFrame({'Модель': ['LogRegression', 'CatBoost'],\n",
    "                        'Время обучения, секунд': [training_time_logr, training_time_catboost],\n",
    "                        'Параметры лучших моделей': [search_logr.best_params_, search_ctbst.best_params_],\n",
    "                        'ROC_AUC': [search_logr.best_score_, search_ctbst.best_score_]})\n",
    "\n",
    "# Вывод результатов\n",
    "results"
   ]
  },
  {
   "cell_type": "markdown",
   "id": "b657b3c3",
   "metadata": {},
   "source": [
    "Модель CatBoost показала меньшее, чем LogReg, время обучения  - 20,4 секунды, и намного более высокую метрику ROC_AUC = 0.89, удовлетворяющую требованиям заказчика (не менее 0.85)."
   ]
  },
  {
   "cell_type": "markdown",
   "id": "3efce1a6",
   "metadata": {},
   "source": [
    "<div class=\"alert alert-danger\">\n",
    "<s><b>😔 Необходимо исправить:</b> Метрика не достигнута, для лучшей модели нужно визуализировать ROC кривую, важность признаков и матрицу ошибок</s>\n",
    "</div>"
   ]
  },
  {
   "cell_type": "markdown",
   "id": "d649d88c",
   "metadata": {},
   "source": [
    "<div class=\"alert alert-info\"> <b>Комментарий студента:</b> Перед отправкой 2 раза делала перезапуск всех ячекк - получалась метрика 0.89. </div>"
   ]
  },
  {
   "cell_type": "markdown",
   "id": "a08fcf04",
   "metadata": {},
   "source": [
    "<div class=\"alert alert-success\">\n",
    "<b>👍 Успех:</b> Все верно! Метрика получилась выше пороговой\n",
    "</div>"
   ]
  },
  {
   "cell_type": "markdown",
   "id": "b701850b",
   "metadata": {},
   "source": [
    "Проверим качество лучшей модели на тестовой выборке."
   ]
  },
  {
   "cell_type": "code",
   "execution_count": null,
   "id": "29d21ffa",
   "metadata": {},
   "outputs": [],
   "source": [
    "predict_ctbst_test = search_ctbst.best_estimator_.predict_proba(features_test)[:, 1]\n",
    "roc_auc = roc_auc_score(target_test, predict_ctbst_test)\n",
    "print('Метрика ROC_AUC лучшей модели: ', roc_auc)"
   ]
  },
  {
   "cell_type": "markdown",
   "id": "0397f5ce",
   "metadata": {},
   "source": [
    "На тестовой выборке модель показала еще более высокую метрику почти 92%."
   ]
  },
  {
   "cell_type": "markdown",
   "id": "9fa3c9f6",
   "metadata": {},
   "source": [
    "Проанализируем важность признаков модели CatBoost."
   ]
  },
  {
   "cell_type": "code",
   "execution_count": null,
   "id": "383d0249",
   "metadata": {},
   "outputs": [],
   "source": [
    "coefs = pd.DataFrame(search_ctbst.best_estimator_.feature_importances_, index = features_test.columns, columns=['coefs'])\n",
    "coefs = coefs.sort_values(by = 'coefs', ascending = False)\n",
    "coefs.iloc[:10]"
   ]
  },
  {
   "cell_type": "code",
   "execution_count": null,
   "id": "d4122f39",
   "metadata": {},
   "outputs": [],
   "source": [
    "coefs.nlargest(10, columns = ['coefs']).plot(kind='barh', title = 'Важность признаков', xlabel = 'Признаки')"
   ]
  },
  {
   "cell_type": "markdown",
   "id": "a7ff65d7",
   "metadata": {},
   "source": [
    "Признаки, вносящие максимальный вклад в результаты прогноза - это введенные нами признаки Duration (длительность контракта) и сроеднемесячные расходы (AvrgCharges).\n",
    "Признаки, не влияющие на результат прогноза - наличие детей, факт наличия у клиента пакета интернет-услуг и возраст (пенсионер или нет). Фактически не влияет на результат ипредсказания наличие у клиента супруга/супруги."
   ]
  },
  {
   "cell_type": "markdown",
   "id": "e243c421",
   "metadata": {},
   "source": [
    "<div class=\"alert alert-success\">\n",
    "<b>👍 Успех:</b> Все верно!\n",
    "</div>"
   ]
  },
  {
   "cell_type": "markdown",
   "id": "5dbe4755",
   "metadata": {},
   "source": [
    "Визуализируем ROC_AUC кривую для лучшей модели.\n"
   ]
  },
  {
   "cell_type": "code",
   "execution_count": null,
   "id": "7c2e3f7f",
   "metadata": {},
   "outputs": [],
   "source": [
    "predict_ctbst_test = search_ctbst.best_estimator_.predict_proba(features_test)[:, 1]\n",
    "roc_auc = roc_auc_score(target_test, predict_ctbst_test)\n",
    "print('Метрика ROC_AUC лучшей модели: ', roc_auc)"
   ]
  },
  {
   "cell_type": "code",
   "execution_count": null,
   "id": "4223a8eb",
   "metadata": {
    "scrolled": true
   },
   "outputs": [],
   "source": [
    "fpr, tpr, thresholds = roc_curve(target_test, predict_ctbst_test)  \n",
    "plt.plot(fpr, tpr)     \n",
    "plt.title(\"График зависимости FPR от TPR\")\n",
    "plt.xlabel('False Positive Rate (FPR)')\n",
    "plt.ylabel('True Positive Rate (TPR)')\n",
    "plt.grid(True)\n",
    "plt.show(); "
   ]
  },
  {
   "cell_type": "markdown",
   "id": "ddc35bfb",
   "metadata": {},
   "source": [
    "Площадь фигуры под кривой при визуальной оценке (~23/25 ~0.92) соотвествует полученной на тестовой выборке метрике."
   ]
  },
  {
   "cell_type": "markdown",
   "id": "a8663a3c",
   "metadata": {},
   "source": [
    "Построим матрицу ошибок, предварительно посчитаем метки классов (до этого считали вероятности меток класса 1)."
   ]
  },
  {
   "cell_type": "code",
   "execution_count": null,
   "id": "d6d2d6a9",
   "metadata": {},
   "outputs": [],
   "source": [
    "predict_class_ctbst = search_ctbst.best_estimator_.predict(features_test)"
   ]
  },
  {
   "cell_type": "code",
   "execution_count": null,
   "id": "8b186c7f",
   "metadata": {
    "scrolled": false
   },
   "outputs": [],
   "source": [
    "target_test.unique()"
   ]
  },
  {
   "cell_type": "code",
   "execution_count": null,
   "id": "e3386550",
   "metadata": {},
   "outputs": [],
   "source": [
    "predict_class_ctbst = [eval(elt) for elt in predict_class_ctbst]"
   ]
  },
  {
   "cell_type": "code",
   "execution_count": null,
   "id": "1bcdcc1d",
   "metadata": {
    "scrolled": false
   },
   "outputs": [],
   "source": [
    "cm = confusion_matrix(target_test, predict_class_ctbst)\n",
    "plt.figure(figsize = (5,5))\n",
    "plt.title(\"Матрица ошибок\")\n",
    "ax = sns.heatmap(cm, annot=True, fmt='d', cmap='Blues_r')\n",
    "plt.xlabel('Predicted label')\n",
    "plt.ylabel('True label');"
   ]
  },
  {
   "cell_type": "markdown",
   "id": "e53a7299",
   "metadata": {},
   "source": [
    "***Интерпретация матрицы ошибок:***\n",
    "\n",
    "***1)*** Модель правильно предсказала 137 \"отточных\" клиентов из 273 (137+136 всего отточных клиентов), т е правильно предсказана половина из тех клиентов, которые реально собираются уйти. Recall равна 50%.\n",
    "\n",
    "***2)*** Модель правильно предсказала 1473 клиента, которые не планируют разрывать контракт. Precision = 92% (137/(137+12)).\n",
    "\n",
    "***3)*** Всего 12 клиентов были ошибочно классифицированы как False Positive, т е ошибок первого рода всего 12, компания  понесет минимум лишних расходов на удержание клиентов, которые не планировали уходить.\n",
    "\n",
    "***4)*** 136 клиентов  были классифицированы как False Negative (ошибок 2 рода 136). То есть 136 клиентов, которые на самом деле планирует разорвать контракт (половина всех \"отточных\" клиентов), будет ошибочно классифицированы моделью как нормальные (не планирующие уходить).\n"
   ]
  },
  {
   "cell_type": "markdown",
   "id": "9ae0ba31",
   "metadata": {},
   "source": [
    "<div class=\"alert alert-success\">\n",
    "<b>👍 Успех:</b> Все верно!\n",
    "</div>"
   ]
  },
  {
   "cell_type": "markdown",
   "id": "f7965a78",
   "metadata": {},
   "source": [
    "## Шаг. Общий вывод и рекомендации заказчику"
   ]
  },
  {
   "cell_type": "markdown",
   "id": "81bc1e27",
   "metadata": {},
   "source": [
    "***1)*** В ходе работы мы привели данные к нужному типу, обработали пропуски.\n",
    "\n",
    "***2)*** Ввели новый признак длительности договора Duration и целевой признак Outflow.\n",
    "\n",
    "***3)*** Объединили все таблицы с данными и провели исследовательский анализ получившегося датасета. Сделали предположение, что отсутствие услуг блокировки опасных сайтов, антивируса и выделенной линии техподдержки может быть фактором риска ухода клиента, т к у половины ушедших клиентов не было этих услуг. \n",
    "\n",
    "***4)*** Провели корреляционный анализ, по итогам которого убрали из таблицы признаки, не несущие информативной нагрузки или имеющие высокую корреляцию с другими входными признаками. Ввели новые признаки: InternetServ (пользуется клиент интернетом или нет) и AvrgCharges (среднемесячные расходы).\n",
    "\n",
    "***5)*** Обучили две модели для предсказания оттока клиентов. Для проверки качества моделей использовали метрику roc_auc. Лучшее качество показала модель CatBoost, ROC_AUC полученной модели на тренировочной выборке - 0.89, на тестовой выборке - 0.92. ***Поэтому можем рекомендовать модель CatBoost для предсказания вероятности ухода клиентов.***\n",
    "\n",
    "***6)*** Самыми важными признаками, влияющими на предсказания модели, стали введенные нами признаки длительности контракта (Duration) и среднемесячных расходов (AvrgCharges). \n",
    "\n",
    "Признаки, не влияющие на качество модели (а значит, и на вероятность ухода клиента):\n",
    "\n",
    "- наличие у клиента семьи (супруга/супруги и/или детей), \n",
    "- возраст клиента (является пенсионером или нет), \n",
    "- наличие у клиента пакета инетрнет-услуг.\n",
    "\n",
    "***7)*** Получили очень высокую метрику accuracy 99,2%. Такая доля остающихся клиентов будет классифицирована моделью правильно, компания понесет мимимум лишних расходов на удержание и так стабильных клиентов. Метрика recall получилась 50%, то есть половина клиентов, планирующих разорвать контракт, будут классифицированы как уходящие."
   ]
  },
  {
   "cell_type": "markdown",
   "id": "fc6ebb7a",
   "metadata": {},
   "source": [
    "<div class=\"alert alert-success\">\n",
    "<b>👍 Успех:</b> Молодец, финальный проект завершен! Сама работа получилась хорошей и структурированной, были предобработаны и проанализированы данные, выбран целевой признак, рассчеты подкреплены визуализацией, это очень важная часть работы, которая облегчает анализ и позволяет полнее представлять происходящее в данных. Построено и обучено несколько моделей, все они оценены и выбрана лучшая. Цель работы достигнута, получена модель хорошо предсказывающая уход клиентов. Не забывай о том, что все пункты очень важны и каждому стоит уделять максимум внимания. <p>\n",
    "С опытом становится значительно легче, но опыт это не только повторение однажды изученного, но и постоянное развитие, тем более, что ты выбрала очень динамично развивающуюся область. <p>\n",
    "В будущей профессии тебе точно пригодиться умение системно подходить к решению аналитических задач, здесь рекомендую изучить ТРИЗ и системный анализ, из литературы можно почитать Теоретический минимум по Big Data — Су Кеннет и Ын Анналин, Практическая статистика для специалистов Data Science — Брюс П. и Брюс Э., Real-World Machine Learning — Henric Brink, Joseph Мark, W. Richards Fetherolf, Прикладное машинное обучение с помощью Scikit-Learn и TensorFlow — Жерон Орельен.<p>\n",
    "Есть интересные сообщества (например https://vk.com/mashinnoe_obuchenie_ai_big_data) и конечно же https://habr.com/ru/all/<p>\n",
    "\n",
    "Дополнительно предлагаю посмотреть:\n",
    "- Книга от ШАД: https://academy.yandex.ru/handbook/ml\n",
    "\n",
    "- Открытый курс машинного обучения: https://habr.com/ru/company/ods/blog/322626/\n",
    "\n",
    " Удачи тебе и профессионального роста!\n",
    "</div>"
   ]
  },
  {
   "cell_type": "code",
   "execution_count": null,
   "id": "1b0129bb",
   "metadata": {},
   "outputs": [],
   "source": []
  }
 ],
 "metadata": {
  "ExecuteTimeLog": [
   {
    "duration": 848,
    "start_time": "2024-07-09T07:02:46.156Z"
   },
   {
    "duration": 3631,
    "start_time": "2024-07-09T07:03:20.297Z"
   },
   {
    "duration": 814,
    "start_time": "2024-07-09T07:03:25.460Z"
   },
   {
    "duration": 145,
    "start_time": "2024-07-09T07:03:30.357Z"
   },
   {
    "duration": 151,
    "start_time": "2024-07-09T07:04:27.225Z"
   },
   {
    "duration": 38,
    "start_time": "2024-07-09T07:04:30.315Z"
   },
   {
    "duration": 15,
    "start_time": "2024-07-09T07:05:09.886Z"
   },
   {
    "duration": 8,
    "start_time": "2024-07-09T07:05:27.610Z"
   },
   {
    "duration": 16,
    "start_time": "2024-07-09T07:05:34.987Z"
   },
   {
    "duration": 63,
    "start_time": "2024-07-09T07:17:21.660Z"
   },
   {
    "duration": 76,
    "start_time": "2024-07-09T07:19:14.942Z"
   },
   {
    "duration": 8,
    "start_time": "2024-07-09T07:19:32.200Z"
   },
   {
    "duration": 10,
    "start_time": "2024-07-09T07:22:49.039Z"
   },
   {
    "duration": 82,
    "start_time": "2024-07-09T07:28:30.106Z"
   },
   {
    "duration": 10,
    "start_time": "2024-07-09T07:28:58.762Z"
   },
   {
    "duration": 10,
    "start_time": "2024-07-09T07:29:35.074Z"
   },
   {
    "duration": 100,
    "start_time": "2024-07-09T07:36:39.794Z"
   },
   {
    "duration": 6,
    "start_time": "2024-07-09T07:37:01.813Z"
   },
   {
    "duration": 9,
    "start_time": "2024-07-09T07:37:17.093Z"
   },
   {
    "duration": 8,
    "start_time": "2024-07-09T07:46:46.036Z"
   },
   {
    "duration": 6,
    "start_time": "2024-07-09T07:46:59.086Z"
   },
   {
    "duration": 15,
    "start_time": "2024-07-09T07:47:12.905Z"
   },
   {
    "duration": 13,
    "start_time": "2024-07-09T07:47:57.834Z"
   },
   {
    "duration": 5,
    "start_time": "2024-07-09T07:49:05.247Z"
   },
   {
    "duration": 14,
    "start_time": "2024-07-09T07:49:33.336Z"
   },
   {
    "duration": 7,
    "start_time": "2024-07-09T07:50:21.335Z"
   },
   {
    "duration": 1907,
    "start_time": "2024-07-09T07:58:57.545Z"
   },
   {
    "duration": 4,
    "start_time": "2024-07-09T08:03:54.109Z"
   },
   {
    "duration": 7,
    "start_time": "2024-07-09T08:04:06.598Z"
   },
   {
    "duration": 11,
    "start_time": "2024-07-09T08:04:29.260Z"
   },
   {
    "duration": 5,
    "start_time": "2024-07-09T08:05:27.733Z"
   },
   {
    "duration": 11,
    "start_time": "2024-07-09T08:06:01.040Z"
   },
   {
    "duration": 641,
    "start_time": "2024-07-09T08:41:04.246Z"
   },
   {
    "duration": 682,
    "start_time": "2024-07-09T08:41:44.083Z"
   },
   {
    "duration": 2745,
    "start_time": "2024-07-09T08:42:22.664Z"
   },
   {
    "duration": 1445,
    "start_time": "2024-07-09T08:42:26.567Z"
   },
   {
    "duration": 38,
    "start_time": "2024-07-09T08:42:31.528Z"
   },
   {
    "duration": 15,
    "start_time": "2024-07-09T08:42:32.666Z"
   },
   {
    "duration": 12,
    "start_time": "2024-07-09T08:42:33.811Z"
   },
   {
    "duration": 34,
    "start_time": "2024-07-09T08:42:38.407Z"
   },
   {
    "duration": 31,
    "start_time": "2024-07-09T08:42:43.265Z"
   },
   {
    "duration": 6,
    "start_time": "2024-07-09T08:44:13.016Z"
   },
   {
    "duration": 4,
    "start_time": "2024-07-09T08:44:14.264Z"
   },
   {
    "duration": 7,
    "start_time": "2024-07-09T08:44:19.539Z"
   },
   {
    "duration": 5,
    "start_time": "2024-07-09T08:44:27.303Z"
   },
   {
    "duration": 11,
    "start_time": "2024-07-09T08:45:24.050Z"
   },
   {
    "duration": 5,
    "start_time": "2024-07-09T08:47:14.795Z"
   },
   {
    "duration": 5,
    "start_time": "2024-07-09T08:47:16.075Z"
   },
   {
    "duration": 125,
    "start_time": "2024-07-09T08:47:49.666Z"
   },
   {
    "duration": 14,
    "start_time": "2024-07-09T08:47:57.580Z"
   },
   {
    "duration": 9,
    "start_time": "2024-07-09T08:48:10.345Z"
   },
   {
    "duration": 14,
    "start_time": "2024-07-09T08:48:15.706Z"
   },
   {
    "duration": 14,
    "start_time": "2024-07-09T08:48:57.383Z"
   },
   {
    "duration": 15,
    "start_time": "2024-07-09T08:49:10.691Z"
   },
   {
    "duration": 4,
    "start_time": "2024-07-09T08:52:08.141Z"
   },
   {
    "duration": 10,
    "start_time": "2024-07-09T08:52:17.370Z"
   },
   {
    "duration": 47,
    "start_time": "2024-07-09T09:10:42.015Z"
   },
   {
    "duration": 2750,
    "start_time": "2024-07-09T09:10:55.618Z"
   },
   {
    "duration": 1503,
    "start_time": "2024-07-09T09:10:58.946Z"
   },
   {
    "duration": 38,
    "start_time": "2024-07-09T09:11:03.143Z"
   },
   {
    "duration": 32,
    "start_time": "2024-07-09T09:11:09.784Z"
   },
   {
    "duration": 31,
    "start_time": "2024-07-09T09:11:14.495Z"
   },
   {
    "duration": 28,
    "start_time": "2024-07-09T09:11:18.884Z"
   },
   {
    "duration": 6,
    "start_time": "2024-07-09T09:11:24.134Z"
   },
   {
    "duration": 7,
    "start_time": "2024-07-09T09:11:27.256Z"
   },
   {
    "duration": 6,
    "start_time": "2024-07-09T09:11:33.066Z"
   },
   {
    "duration": 4,
    "start_time": "2024-07-09T09:11:37.237Z"
   },
   {
    "duration": 6,
    "start_time": "2024-07-09T09:11:39.543Z"
   },
   {
    "duration": 12,
    "start_time": "2024-07-09T09:11:41.879Z"
   },
   {
    "duration": 5,
    "start_time": "2024-07-09T09:11:47.456Z"
   },
   {
    "duration": 4,
    "start_time": "2024-07-09T09:11:52.294Z"
   },
   {
    "duration": 6,
    "start_time": "2024-07-09T09:16:18.201Z"
   },
   {
    "duration": 17,
    "start_time": "2024-07-09T09:16:32.479Z"
   },
   {
    "duration": 2512,
    "start_time": "2024-07-09T09:22:44.849Z"
   },
   {
    "duration": 5,
    "start_time": "2024-07-09T09:22:57.562Z"
   },
   {
    "duration": 5,
    "start_time": "2024-07-09T09:23:49.589Z"
   },
   {
    "duration": 5,
    "start_time": "2024-07-09T09:24:19.082Z"
   },
   {
    "duration": 10,
    "start_time": "2024-07-09T09:24:34.274Z"
   },
   {
    "duration": 360,
    "start_time": "2024-07-09T09:34:26.498Z"
   },
   {
    "duration": 549,
    "start_time": "2024-07-09T09:34:56.088Z"
   },
   {
    "duration": 460,
    "start_time": "2024-07-09T09:37:37.288Z"
   },
   {
    "duration": 555,
    "start_time": "2024-07-09T09:37:54.228Z"
   },
   {
    "duration": 397,
    "start_time": "2024-07-09T09:39:35.231Z"
   },
   {
    "duration": 336,
    "start_time": "2024-07-09T09:40:36.863Z"
   },
   {
    "duration": 214,
    "start_time": "2024-07-09T09:47:35.010Z"
   },
   {
    "duration": 206,
    "start_time": "2024-07-09T09:48:04.109Z"
   },
   {
    "duration": 775,
    "start_time": "2024-07-09T09:49:22.467Z"
   },
   {
    "duration": 540,
    "start_time": "2024-07-09T09:50:07.441Z"
   },
   {
    "duration": 458,
    "start_time": "2024-07-09T09:50:23.761Z"
   },
   {
    "duration": 427,
    "start_time": "2024-07-09T09:51:09.810Z"
   },
   {
    "duration": 370,
    "start_time": "2024-07-09T09:52:48.348Z"
   },
   {
    "duration": 358,
    "start_time": "2024-07-09T09:53:46.500Z"
   },
   {
    "duration": 506,
    "start_time": "2024-07-09T09:53:54.948Z"
   },
   {
    "duration": 4,
    "start_time": "2024-07-09T09:57:06.086Z"
   },
   {
    "duration": 5,
    "start_time": "2024-07-09T09:57:29.939Z"
   },
   {
    "duration": 4,
    "start_time": "2024-07-09T09:57:50.747Z"
   },
   {
    "duration": 4,
    "start_time": "2024-07-09T09:58:10.680Z"
   },
   {
    "duration": 2574,
    "start_time": "2024-07-09T09:58:30.188Z"
   },
   {
    "duration": 4,
    "start_time": "2024-07-09T09:58:40.469Z"
   },
   {
    "duration": 13,
    "start_time": "2024-07-09T09:58:50.538Z"
   },
   {
    "duration": 5,
    "start_time": "2024-07-09T10:01:33.296Z"
   },
   {
    "duration": 11,
    "start_time": "2024-07-09T10:01:37.018Z"
   },
   {
    "duration": 3751,
    "start_time": "2024-07-10T10:46:30.980Z"
   },
   {
    "duration": 1645,
    "start_time": "2024-07-10T10:46:35.793Z"
   },
   {
    "duration": 85,
    "start_time": "2024-07-10T10:46:41.692Z"
   },
   {
    "duration": 15,
    "start_time": "2024-07-10T10:46:42.950Z"
   },
   {
    "duration": 12,
    "start_time": "2024-07-10T10:46:44.383Z"
   },
   {
    "duration": 123,
    "start_time": "2024-07-10T10:46:48.838Z"
   },
   {
    "duration": 125,
    "start_time": "2024-07-10T10:46:54.683Z"
   },
   {
    "duration": 71,
    "start_time": "2024-07-10T10:47:08.019Z"
   },
   {
    "duration": 6,
    "start_time": "2024-07-10T10:47:16.272Z"
   },
   {
    "duration": 4,
    "start_time": "2024-07-10T10:47:19.467Z"
   },
   {
    "duration": 6,
    "start_time": "2024-07-10T10:47:24.900Z"
   },
   {
    "duration": 7,
    "start_time": "2024-07-10T10:47:47.212Z"
   },
   {
    "duration": 10,
    "start_time": "2024-07-10T10:47:57.980Z"
   },
   {
    "duration": 4,
    "start_time": "2024-07-10T10:48:14.580Z"
   },
   {
    "duration": 6,
    "start_time": "2024-07-10T10:48:19.292Z"
   },
   {
    "duration": 10,
    "start_time": "2024-07-10T10:48:23.013Z"
   },
   {
    "duration": 10,
    "start_time": "2024-07-10T10:48:32.543Z"
   },
   {
    "duration": 4,
    "start_time": "2024-07-10T10:48:46.043Z"
   },
   {
    "duration": 12,
    "start_time": "2024-07-10T10:48:47.723Z"
   },
   {
    "duration": 723,
    "start_time": "2024-07-10T10:49:25.003Z"
   },
   {
    "duration": 11,
    "start_time": "2024-07-10T10:50:05.760Z"
   },
   {
    "duration": 6,
    "start_time": "2024-07-10T10:59:52.633Z"
   },
   {
    "duration": 5,
    "start_time": "2024-07-10T11:02:04.300Z"
   },
   {
    "duration": 7,
    "start_time": "2024-07-10T11:07:18.530Z"
   },
   {
    "duration": 6,
    "start_time": "2024-07-10T11:08:43.439Z"
   },
   {
    "duration": 13,
    "start_time": "2024-07-10T11:09:13.899Z"
   },
   {
    "duration": 5,
    "start_time": "2024-07-10T11:11:04.920Z"
   },
   {
    "duration": 114,
    "start_time": "2024-07-10T11:14:13.401Z"
   },
   {
    "duration": 8,
    "start_time": "2024-07-10T11:14:26.970Z"
   },
   {
    "duration": 12,
    "start_time": "2024-07-10T11:14:42.890Z"
   },
   {
    "duration": 9,
    "start_time": "2024-07-10T11:14:45.210Z"
   },
   {
    "duration": 8,
    "start_time": "2024-07-10T11:14:59.010Z"
   },
   {
    "duration": 8,
    "start_time": "2024-07-10T11:15:09.510Z"
   },
   {
    "duration": 9,
    "start_time": "2024-07-10T11:15:28.920Z"
   },
   {
    "duration": 4,
    "start_time": "2024-07-10T11:15:56.170Z"
   },
   {
    "duration": 4,
    "start_time": "2024-07-10T11:16:14.852Z"
   },
   {
    "duration": 4,
    "start_time": "2024-07-10T11:16:19.786Z"
   },
   {
    "duration": 5,
    "start_time": "2024-07-10T11:16:20.940Z"
   },
   {
    "duration": 4,
    "start_time": "2024-07-10T11:16:21.750Z"
   },
   {
    "duration": 4,
    "start_time": "2024-07-10T11:16:34.158Z"
   },
   {
    "duration": 4,
    "start_time": "2024-07-10T11:16:35.249Z"
   },
   {
    "duration": 7,
    "start_time": "2024-07-10T11:16:44.281Z"
   },
   {
    "duration": 7,
    "start_time": "2024-07-10T11:16:56.591Z"
   },
   {
    "duration": 5,
    "start_time": "2024-07-10T11:18:30.178Z"
   },
   {
    "duration": 6,
    "start_time": "2024-07-10T11:18:31.619Z"
   },
   {
    "duration": 4,
    "start_time": "2024-07-10T11:18:51.641Z"
   },
   {
    "duration": 11,
    "start_time": "2024-07-10T11:21:15.219Z"
   },
   {
    "duration": 606,
    "start_time": "2024-07-10T11:33:34.321Z"
   },
   {
    "duration": 3,
    "start_time": "2024-07-10T11:36:30.668Z"
   },
   {
    "duration": 7,
    "start_time": "2024-07-10T11:37:07.021Z"
   },
   {
    "duration": 11,
    "start_time": "2024-07-10T11:37:14.042Z"
   },
   {
    "duration": 4,
    "start_time": "2024-07-10T11:37:54.961Z"
   },
   {
    "duration": 10,
    "start_time": "2024-07-10T11:37:55.992Z"
   },
   {
    "duration": 4,
    "start_time": "2024-07-10T11:38:31.160Z"
   },
   {
    "duration": 10,
    "start_time": "2024-07-10T11:38:42.961Z"
   },
   {
    "duration": 484,
    "start_time": "2024-07-10T11:46:51.095Z"
   },
   {
    "duration": 421,
    "start_time": "2024-07-10T11:47:17.201Z"
   },
   {
    "duration": 468,
    "start_time": "2024-07-10T11:47:50.779Z"
   },
   {
    "duration": 364,
    "start_time": "2024-07-10T11:47:59.168Z"
   },
   {
    "duration": 449,
    "start_time": "2024-07-10T11:55:52.499Z"
   },
   {
    "duration": 376,
    "start_time": "2024-07-10T12:03:43.699Z"
   },
   {
    "duration": 4,
    "start_time": "2024-07-10T12:07:37.837Z"
   },
   {
    "duration": 413,
    "start_time": "2024-07-10T12:11:30.168Z"
   },
   {
    "duration": 137,
    "start_time": "2024-07-10T12:20:45.883Z"
   },
   {
    "duration": 3066,
    "start_time": "2024-07-11T06:57:53.828Z"
   },
   {
    "duration": 1538,
    "start_time": "2024-07-11T06:57:57.851Z"
   },
   {
    "duration": 89,
    "start_time": "2024-07-11T06:58:06.491Z"
   },
   {
    "duration": 129,
    "start_time": "2024-07-11T06:58:16.026Z"
   },
   {
    "duration": 135,
    "start_time": "2024-07-11T06:58:21.369Z"
   },
   {
    "duration": 75,
    "start_time": "2024-07-11T06:58:26.148Z"
   },
   {
    "duration": 7,
    "start_time": "2024-07-11T06:58:32.469Z"
   },
   {
    "duration": 6,
    "start_time": "2024-07-11T06:58:36.839Z"
   },
   {
    "duration": 8,
    "start_time": "2024-07-11T06:58:44.097Z"
   },
   {
    "duration": 4,
    "start_time": "2024-07-11T06:58:53.109Z"
   },
   {
    "duration": 5,
    "start_time": "2024-07-11T06:58:54.799Z"
   },
   {
    "duration": 13,
    "start_time": "2024-07-11T06:58:56.047Z"
   },
   {
    "duration": 4,
    "start_time": "2024-07-11T06:59:04.713Z"
   },
   {
    "duration": 691,
    "start_time": "2024-07-11T06:59:09.382Z"
   },
   {
    "duration": 12,
    "start_time": "2024-07-11T06:59:16.339Z"
   },
   {
    "duration": 5,
    "start_time": "2024-07-11T06:59:51.107Z"
   },
   {
    "duration": 8,
    "start_time": "2024-07-11T06:59:53.579Z"
   },
   {
    "duration": 5,
    "start_time": "2024-07-11T07:00:02.879Z"
   },
   {
    "duration": 5,
    "start_time": "2024-07-11T07:00:04.102Z"
   },
   {
    "duration": 13,
    "start_time": "2024-07-11T07:00:09.808Z"
   },
   {
    "duration": 8,
    "start_time": "2024-07-11T07:00:09.999Z"
   },
   {
    "duration": 3,
    "start_time": "2024-07-11T07:00:11.819Z"
   },
   {
    "duration": 4,
    "start_time": "2024-07-11T07:00:19.428Z"
   },
   {
    "duration": 430,
    "start_time": "2024-07-11T07:00:25.121Z"
   },
   {
    "duration": 487,
    "start_time": "2024-07-11T07:01:14.569Z"
   },
   {
    "duration": 422,
    "start_time": "2024-07-11T07:01:49.929Z"
   },
   {
    "duration": 3,
    "start_time": "2024-07-11T07:02:07.728Z"
   },
   {
    "duration": 421,
    "start_time": "2024-07-11T07:02:08.760Z"
   },
   {
    "duration": 239,
    "start_time": "2024-07-11T07:05:17.568Z"
   },
   {
    "duration": 131,
    "start_time": "2024-07-11T07:05:33.168Z"
   },
   {
    "duration": 68,
    "start_time": "2024-07-11T07:13:26.730Z"
   },
   {
    "duration": 220,
    "start_time": "2024-07-11T07:14:56.629Z"
   },
   {
    "duration": 129,
    "start_time": "2024-07-11T07:15:12.260Z"
   },
   {
    "duration": 62,
    "start_time": "2024-07-11T07:17:32.310Z"
   },
   {
    "duration": 1021,
    "start_time": "2024-07-11T07:17:54.950Z"
   },
   {
    "duration": 962,
    "start_time": "2024-07-11T07:22:41.104Z"
   },
   {
    "duration": 169,
    "start_time": "2024-07-11T07:30:07.427Z"
   },
   {
    "duration": 481,
    "start_time": "2024-07-11T07:30:57.622Z"
   },
   {
    "duration": 479,
    "start_time": "2024-07-11T07:31:11.494Z"
   },
   {
    "duration": 514,
    "start_time": "2024-07-11T07:31:27.772Z"
   },
   {
    "duration": 532,
    "start_time": "2024-07-11T07:31:40.020Z"
   },
   {
    "duration": 432,
    "start_time": "2024-07-11T07:31:48.572Z"
   },
   {
    "duration": 467,
    "start_time": "2024-07-11T07:32:17.016Z"
   },
   {
    "duration": 198,
    "start_time": "2024-07-11T07:35:16.836Z"
   },
   {
    "duration": 233,
    "start_time": "2024-07-11T07:35:23.883Z"
   },
   {
    "duration": 466,
    "start_time": "2024-07-11T07:36:44.166Z"
   },
   {
    "duration": 182,
    "start_time": "2024-07-11T07:37:13.050Z"
   },
   {
    "duration": 578,
    "start_time": "2024-07-11T07:37:18.675Z"
   },
   {
    "duration": 416,
    "start_time": "2024-07-11T07:37:38.556Z"
   },
   {
    "duration": 459,
    "start_time": "2024-07-11T07:37:53.106Z"
   },
   {
    "duration": 469,
    "start_time": "2024-07-11T07:38:05.176Z"
   },
   {
    "duration": 531,
    "start_time": "2024-07-11T07:38:21.436Z"
   },
   {
    "duration": 501,
    "start_time": "2024-07-11T07:38:36.115Z"
   },
   {
    "duration": 549,
    "start_time": "2024-07-11T07:38:54.946Z"
   },
   {
    "duration": 479,
    "start_time": "2024-07-11T07:39:02.115Z"
   },
   {
    "duration": 489,
    "start_time": "2024-07-11T07:39:10.583Z"
   },
   {
    "duration": 9,
    "start_time": "2024-07-11T08:06:59.186Z"
   },
   {
    "duration": 13,
    "start_time": "2024-07-11T08:07:14.042Z"
   },
   {
    "duration": 11,
    "start_time": "2024-07-11T08:10:37.503Z"
   },
   {
    "duration": 13,
    "start_time": "2024-07-11T08:10:48.268Z"
   },
   {
    "duration": 176,
    "start_time": "2024-07-11T08:20:35.492Z"
   },
   {
    "duration": 688,
    "start_time": "2024-07-11T08:20:54.534Z"
   },
   {
    "duration": 833,
    "start_time": "2024-07-11T08:21:09.831Z"
   },
   {
    "duration": 743,
    "start_time": "2024-07-11T08:21:17.076Z"
   },
   {
    "duration": 754,
    "start_time": "2024-07-11T08:21:23.343Z"
   },
   {
    "duration": 725,
    "start_time": "2024-07-11T08:21:46.875Z"
   },
   {
    "duration": 7,
    "start_time": "2024-07-11T08:28:24.080Z"
   },
   {
    "duration": 11,
    "start_time": "2024-07-11T08:28:33.241Z"
   },
   {
    "duration": 239,
    "start_time": "2024-07-11T08:32:57.164Z"
   },
   {
    "duration": 15,
    "start_time": "2024-07-11T08:46:28.879Z"
   },
   {
    "duration": 25,
    "start_time": "2024-07-11T08:46:55.025Z"
   },
   {
    "duration": 21,
    "start_time": "2024-07-11T08:47:01.662Z"
   },
   {
    "duration": 17,
    "start_time": "2024-07-11T08:47:10.965Z"
   },
   {
    "duration": 6,
    "start_time": "2024-07-11T08:57:39.250Z"
   },
   {
    "duration": 17,
    "start_time": "2024-07-11T08:57:46.399Z"
   },
   {
    "duration": 8,
    "start_time": "2024-07-11T08:59:25.147Z"
   },
   {
    "duration": 15,
    "start_time": "2024-07-11T08:59:28.514Z"
   },
   {
    "duration": 8,
    "start_time": "2024-07-11T08:59:45.972Z"
   },
   {
    "duration": 15,
    "start_time": "2024-07-11T08:59:46.943Z"
   },
   {
    "duration": 162,
    "start_time": "2024-07-11T09:05:31.787Z"
   },
   {
    "duration": 155,
    "start_time": "2024-07-11T09:06:19.168Z"
   },
   {
    "duration": 556,
    "start_time": "2024-07-11T09:06:40.929Z"
   },
   {
    "duration": 541,
    "start_time": "2024-07-11T09:07:31.892Z"
   },
   {
    "duration": 156,
    "start_time": "2024-07-11T09:14:49.507Z"
   },
   {
    "duration": 158,
    "start_time": "2024-07-11T09:15:12.957Z"
   },
   {
    "duration": 673,
    "start_time": "2024-07-11T09:18:27.012Z"
   },
   {
    "duration": 603,
    "start_time": "2024-07-11T09:19:24.147Z"
   },
   {
    "duration": 545,
    "start_time": "2024-07-11T09:20:15.251Z"
   },
   {
    "duration": 562,
    "start_time": "2024-07-11T09:20:45.367Z"
   },
   {
    "duration": 641,
    "start_time": "2024-07-11T09:21:15.767Z"
   },
   {
    "duration": 558,
    "start_time": "2024-07-11T09:23:22.116Z"
   },
   {
    "duration": 161,
    "start_time": "2024-07-11T09:24:20.778Z"
   },
   {
    "duration": 159,
    "start_time": "2024-07-11T09:26:25.970Z"
   },
   {
    "duration": 207,
    "start_time": "2024-07-11T09:28:07.969Z"
   },
   {
    "duration": 1332,
    "start_time": "2024-07-11T09:37:20.203Z"
   },
   {
    "duration": 1308,
    "start_time": "2024-07-11T09:37:32.247Z"
   },
   {
    "duration": 1304,
    "start_time": "2024-07-11T09:38:15.216Z"
   },
   {
    "duration": 183,
    "start_time": "2024-07-11T09:39:43.106Z"
   },
   {
    "duration": 162,
    "start_time": "2024-07-11T09:55:14.446Z"
   },
   {
    "duration": 279,
    "start_time": "2024-07-11T09:56:08.968Z"
   },
   {
    "duration": 162,
    "start_time": "2024-07-11T10:04:57.279Z"
   },
   {
    "duration": 181,
    "start_time": "2024-07-11T10:05:37.049Z"
   },
   {
    "duration": 166,
    "start_time": "2024-07-11T10:06:48.702Z"
   },
   {
    "duration": 155,
    "start_time": "2024-07-11T10:07:43.250Z"
   },
   {
    "duration": 190,
    "start_time": "2024-07-11T10:08:48.287Z"
   },
   {
    "duration": 165,
    "start_time": "2024-07-11T10:09:32.439Z"
   },
   {
    "duration": 196,
    "start_time": "2024-07-11T10:10:18.039Z"
   },
   {
    "duration": 5,
    "start_time": "2024-07-11T10:33:05.267Z"
   },
   {
    "duration": 2510,
    "start_time": "2024-07-11T10:35:49.421Z"
   },
   {
    "duration": 18,
    "start_time": "2024-07-11T10:37:06.182Z"
   },
   {
    "duration": 2924,
    "start_time": "2024-07-11T10:37:26.502Z"
   },
   {
    "duration": 5,
    "start_time": "2024-07-11T11:02:22.929Z"
   },
   {
    "duration": 1115,
    "start_time": "2024-07-11T11:06:10.056Z"
   },
   {
    "duration": 15,
    "start_time": "2024-07-11T11:06:39.422Z"
   },
   {
    "duration": 2458,
    "start_time": "2024-07-11T11:07:12.730Z"
   },
   {
    "duration": 1421,
    "start_time": "2024-07-11T11:07:16.215Z"
   },
   {
    "duration": 41,
    "start_time": "2024-07-11T11:07:21.863Z"
   },
   {
    "duration": 34,
    "start_time": "2024-07-11T11:07:25.332Z"
   },
   {
    "duration": 32,
    "start_time": "2024-07-11T11:07:29.071Z"
   },
   {
    "duration": 29,
    "start_time": "2024-07-11T11:07:32.874Z"
   },
   {
    "duration": 7,
    "start_time": "2024-07-11T11:07:38.244Z"
   },
   {
    "duration": 9,
    "start_time": "2024-07-11T11:07:40.394Z"
   },
   {
    "duration": 7,
    "start_time": "2024-07-11T11:07:47.404Z"
   },
   {
    "duration": 6,
    "start_time": "2024-07-11T11:07:49.463Z"
   },
   {
    "duration": 4,
    "start_time": "2024-07-11T11:07:52.513Z"
   },
   {
    "duration": 728,
    "start_time": "2024-07-11T11:07:58.191Z"
   },
   {
    "duration": 22,
    "start_time": "2024-07-11T11:07:59.755Z"
   },
   {
    "duration": 5,
    "start_time": "2024-07-11T11:08:06.225Z"
   },
   {
    "duration": 6,
    "start_time": "2024-07-11T11:08:12.434Z"
   },
   {
    "duration": 5,
    "start_time": "2024-07-11T11:08:38.563Z"
   },
   {
    "duration": 5,
    "start_time": "2024-07-11T11:08:39.311Z"
   },
   {
    "duration": 6,
    "start_time": "2024-07-11T11:08:40.074Z"
   },
   {
    "duration": 433,
    "start_time": "2024-07-11T11:08:43.014Z"
   },
   {
    "duration": 28,
    "start_time": "2024-07-11T11:08:56.030Z"
   },
   {
    "duration": 11,
    "start_time": "2024-07-11T11:09:04.837Z"
   },
   {
    "duration": 5,
    "start_time": "2024-07-11T11:09:29.520Z"
   },
   {
    "duration": 26,
    "start_time": "2024-07-11T11:10:00.431Z"
   },
   {
    "duration": 4,
    "start_time": "2024-07-11T11:11:25.512Z"
   },
   {
    "duration": 17,
    "start_time": "2024-07-11T11:11:26.457Z"
   },
   {
    "duration": 5,
    "start_time": "2024-07-11T11:11:52.113Z"
   },
   {
    "duration": 1620,
    "start_time": "2024-07-11T11:12:54.822Z"
   },
   {
    "duration": 124,
    "start_time": "2024-07-11T11:14:18.069Z"
   },
   {
    "duration": 1268,
    "start_time": "2024-07-11T11:14:29.405Z"
   },
   {
    "duration": 13,
    "start_time": "2024-07-11T11:14:47.794Z"
   },
   {
    "duration": 1429,
    "start_time": "2024-07-11T11:15:06.298Z"
   },
   {
    "duration": 1276,
    "start_time": "2024-07-11T11:15:56.426Z"
   },
   {
    "duration": 1323,
    "start_time": "2024-07-11T11:16:06.406Z"
   },
   {
    "duration": 2319,
    "start_time": "2024-07-11T11:27:50.320Z"
   },
   {
    "duration": 1448,
    "start_time": "2024-07-11T11:27:53.350Z"
   },
   {
    "duration": 41,
    "start_time": "2024-07-11T11:27:57.760Z"
   },
   {
    "duration": 32,
    "start_time": "2024-07-11T11:28:03.010Z"
   },
   {
    "duration": 33,
    "start_time": "2024-07-11T11:28:07.101Z"
   },
   {
    "duration": 31,
    "start_time": "2024-07-11T11:28:11.048Z"
   },
   {
    "duration": 12,
    "start_time": "2024-07-11T11:28:15.700Z"
   },
   {
    "duration": 6,
    "start_time": "2024-07-11T11:28:17.322Z"
   },
   {
    "duration": 8,
    "start_time": "2024-07-11T11:28:21.840Z"
   },
   {
    "duration": 8,
    "start_time": "2024-07-11T11:28:23.513Z"
   },
   {
    "duration": 5,
    "start_time": "2024-07-11T11:28:25.190Z"
   },
   {
    "duration": 728,
    "start_time": "2024-07-11T11:28:30.034Z"
   },
   {
    "duration": 15,
    "start_time": "2024-07-11T11:28:31.058Z"
   },
   {
    "duration": 6,
    "start_time": "2024-07-11T11:28:36.720Z"
   },
   {
    "duration": 7,
    "start_time": "2024-07-11T11:28:41.943Z"
   },
   {
    "duration": 5,
    "start_time": "2024-07-11T11:28:57.811Z"
   },
   {
    "duration": 5,
    "start_time": "2024-07-11T11:28:58.531Z"
   },
   {
    "duration": 5,
    "start_time": "2024-07-11T11:28:59.251Z"
   },
   {
    "duration": 36,
    "start_time": "2024-07-11T11:29:15.242Z"
   },
   {
    "duration": 10,
    "start_time": "2024-07-11T11:29:22.661Z"
   },
   {
    "duration": 6,
    "start_time": "2024-07-11T11:29:48.122Z"
   },
   {
    "duration": 4,
    "start_time": "2024-07-11T11:29:50.011Z"
   },
   {
    "duration": 5,
    "start_time": "2024-07-11T11:30:04.290Z"
   },
   {
    "duration": 1370,
    "start_time": "2024-07-11T11:30:30.741Z"
   },
   {
    "duration": 135,
    "start_time": "2024-07-11T11:30:34.602Z"
   },
   {
    "duration": 1339,
    "start_time": "2024-07-11T11:30:39.635Z"
   },
   {
    "duration": 1471,
    "start_time": "2024-07-11T11:30:42.548Z"
   },
   {
    "duration": 3487,
    "start_time": "2024-07-12T06:52:08.445Z"
   },
   {
    "duration": 1495,
    "start_time": "2024-07-12T06:52:15.694Z"
   },
   {
    "duration": 84,
    "start_time": "2024-07-12T06:52:22.628Z"
   },
   {
    "duration": 125,
    "start_time": "2024-07-12T06:52:30.248Z"
   },
   {
    "duration": 129,
    "start_time": "2024-07-12T06:52:35.966Z"
   },
   {
    "duration": 75,
    "start_time": "2024-07-12T06:52:41.246Z"
   },
   {
    "duration": 5,
    "start_time": "2024-07-12T06:52:47.667Z"
   },
   {
    "duration": 5,
    "start_time": "2024-07-12T06:52:54.125Z"
   },
   {
    "duration": 5,
    "start_time": "2024-07-12T06:52:57.097Z"
   },
   {
    "duration": 5,
    "start_time": "2024-07-12T06:53:00.125Z"
   },
   {
    "duration": 3,
    "start_time": "2024-07-12T06:53:07.987Z"
   },
   {
    "duration": 645,
    "start_time": "2024-07-12T06:53:12.614Z"
   },
   {
    "duration": 5,
    "start_time": "2024-07-12T06:53:22.326Z"
   },
   {
    "duration": 5,
    "start_time": "2024-07-12T06:53:28.817Z"
   },
   {
    "duration": 3,
    "start_time": "2024-07-12T06:54:02.934Z"
   },
   {
    "duration": 3,
    "start_time": "2024-07-12T06:54:03.848Z"
   },
   {
    "duration": 3,
    "start_time": "2024-07-12T06:54:04.659Z"
   },
   {
    "duration": 637,
    "start_time": "2024-07-12T06:54:16.187Z"
   },
   {
    "duration": 21,
    "start_time": "2024-07-12T06:54:38.808Z"
   },
   {
    "duration": 9,
    "start_time": "2024-07-12T06:54:45.973Z"
   },
   {
    "duration": 446,
    "start_time": "2024-07-12T06:54:57.186Z"
   },
   {
    "duration": 121,
    "start_time": "2024-07-12T06:55:10.330Z"
   },
   {
    "duration": 1911,
    "start_time": "2024-07-12T06:55:32.326Z"
   },
   {
    "duration": 2085,
    "start_time": "2024-07-12T06:55:40.247Z"
   },
   {
    "duration": 5,
    "start_time": "2024-07-12T06:56:11.725Z"
   },
   {
    "duration": 3,
    "start_time": "2024-07-12T06:56:15.406Z"
   },
   {
    "duration": 13,
    "start_time": "2024-07-12T06:56:16.426Z"
   },
   {
    "duration": 5,
    "start_time": "2024-07-12T06:56:46.407Z"
   },
   {
    "duration": 109,
    "start_time": "2024-07-12T06:57:09.677Z"
   },
   {
    "duration": 8,
    "start_time": "2024-07-12T06:58:03.025Z"
   },
   {
    "duration": 1080,
    "start_time": "2024-07-12T06:58:23.583Z"
   },
   {
    "duration": 1063,
    "start_time": "2024-07-12T06:58:40.708Z"
   },
   {
    "duration": 11,
    "start_time": "2024-07-12T07:04:51.341Z"
   },
   {
    "duration": 2481,
    "start_time": "2024-07-12T07:06:19.756Z"
   },
   {
    "duration": 1297,
    "start_time": "2024-07-12T07:06:23.280Z"
   },
   {
    "duration": 48,
    "start_time": "2024-07-12T07:06:29.277Z"
   },
   {
    "duration": 30,
    "start_time": "2024-07-12T07:06:34.907Z"
   },
   {
    "duration": 31,
    "start_time": "2024-07-12T07:06:39.718Z"
   },
   {
    "duration": 28,
    "start_time": "2024-07-12T07:06:45.378Z"
   },
   {
    "duration": 6,
    "start_time": "2024-07-12T07:06:50.648Z"
   },
   {
    "duration": 8,
    "start_time": "2024-07-12T07:06:52.461Z"
   },
   {
    "duration": 5,
    "start_time": "2024-07-12T07:06:57.548Z"
   },
   {
    "duration": 5,
    "start_time": "2024-07-12T07:06:58.730Z"
   },
   {
    "duration": 4,
    "start_time": "2024-07-12T07:07:18.913Z"
   },
   {
    "duration": 679,
    "start_time": "2024-07-12T07:07:25.867Z"
   },
   {
    "duration": 5,
    "start_time": "2024-07-12T07:07:34.692Z"
   },
   {
    "duration": 6,
    "start_time": "2024-07-12T07:07:40.853Z"
   },
   {
    "duration": 300,
    "start_time": "2024-07-12T07:07:55.661Z"
   },
   {
    "duration": 388,
    "start_time": "2024-07-12T07:08:39.501Z"
   },
   {
    "duration": 3,
    "start_time": "2024-07-12T07:08:52.339Z"
   },
   {
    "duration": 4,
    "start_time": "2024-07-12T07:08:53.118Z"
   },
   {
    "duration": 4,
    "start_time": "2024-07-12T07:08:53.980Z"
   },
   {
    "duration": 22,
    "start_time": "2024-07-12T07:09:07.549Z"
   },
   {
    "duration": 13,
    "start_time": "2024-07-12T07:09:15.661Z"
   },
   {
    "duration": 2120,
    "start_time": "2024-07-12T07:09:36.389Z"
   },
   {
    "duration": 2285,
    "start_time": "2024-07-12T07:09:38.511Z"
   },
   {
    "duration": 5,
    "start_time": "2024-07-12T07:09:50.288Z"
   },
   {
    "duration": 3,
    "start_time": "2024-07-12T07:09:51.608Z"
   },
   {
    "duration": 1238,
    "start_time": "2024-07-12T07:10:01.386Z"
   },
   {
    "duration": 1179,
    "start_time": "2024-07-12T07:10:03.235Z"
   },
   {
    "duration": 48,
    "start_time": "2024-07-12T07:11:50.273Z"
   },
   {
    "duration": 2,
    "start_time": "2024-07-12T07:13:35.634Z"
   },
   {
    "duration": 5,
    "start_time": "2024-07-12T07:17:01.362Z"
   },
   {
    "duration": 1838,
    "start_time": "2024-07-12T07:17:02.599Z"
   },
   {
    "duration": 18,
    "start_time": "2024-07-12T07:17:12.590Z"
   },
   {
    "duration": 15,
    "start_time": "2024-07-12T07:17:23.370Z"
   },
   {
    "duration": 2,
    "start_time": "2024-07-12T07:20:38.729Z"
   },
   {
    "duration": 37,
    "start_time": "2024-07-12T07:21:26.710Z"
   },
   {
    "duration": 3,
    "start_time": "2024-07-12T07:24:29.203Z"
   },
   {
    "duration": 111,
    "start_time": "2024-07-12T07:24:30.839Z"
   },
   {
    "duration": 18,
    "start_time": "2024-07-12T07:24:43.220Z"
   },
   {
    "duration": 3,
    "start_time": "2024-07-12T07:25:28.711Z"
   },
   {
    "duration": 112,
    "start_time": "2024-07-12T07:25:30.031Z"
   },
   {
    "duration": 17,
    "start_time": "2024-07-12T07:25:31.239Z"
   },
   {
    "duration": 1072,
    "start_time": "2024-07-12T07:27:13.392Z"
   },
   {
    "duration": 1263,
    "start_time": "2024-07-12T07:27:38.695Z"
   },
   {
    "duration": 3,
    "start_time": "2024-07-12T07:43:09.761Z"
   },
   {
    "duration": 8,
    "start_time": "2024-07-12T07:51:13.420Z"
   },
   {
    "duration": 4,
    "start_time": "2024-07-12T07:58:00.769Z"
   },
   {
    "duration": 8,
    "start_time": "2024-07-12T08:02:49.348Z"
   },
   {
    "duration": 2492,
    "start_time": "2024-07-12T08:03:23.778Z"
   },
   {
    "duration": 1314,
    "start_time": "2024-07-12T08:03:27.753Z"
   },
   {
    "duration": 37,
    "start_time": "2024-07-12T08:03:39.696Z"
   },
   {
    "duration": 35,
    "start_time": "2024-07-12T08:03:49.551Z"
   },
   {
    "duration": 30,
    "start_time": "2024-07-12T08:03:54.298Z"
   },
   {
    "duration": 29,
    "start_time": "2024-07-12T08:03:59.648Z"
   },
   {
    "duration": 6,
    "start_time": "2024-07-12T08:04:04.628Z"
   },
   {
    "duration": 6,
    "start_time": "2024-07-12T08:04:07.440Z"
   },
   {
    "duration": 4,
    "start_time": "2024-07-12T08:04:13.088Z"
   },
   {
    "duration": 5,
    "start_time": "2024-07-12T08:04:14.795Z"
   },
   {
    "duration": 3,
    "start_time": "2024-07-12T08:04:16.798Z"
   },
   {
    "duration": 682,
    "start_time": "2024-07-12T08:04:21.985Z"
   },
   {
    "duration": 4,
    "start_time": "2024-07-12T08:04:36.833Z"
   },
   {
    "duration": 5,
    "start_time": "2024-07-12T08:04:44.119Z"
   },
   {
    "duration": 4,
    "start_time": "2024-07-12T08:05:05.417Z"
   },
   {
    "duration": 6,
    "start_time": "2024-07-12T08:05:06.272Z"
   },
   {
    "duration": 13,
    "start_time": "2024-07-12T08:05:07.257Z"
   },
   {
    "duration": 21,
    "start_time": "2024-07-12T08:05:22.511Z"
   },
   {
    "duration": 8,
    "start_time": "2024-07-12T08:05:33.178Z"
   },
   {
    "duration": 116,
    "start_time": "2024-07-12T08:06:20.520Z"
   },
   {
    "duration": 77,
    "start_time": "2024-07-12T08:06:55.634Z"
   },
   {
    "duration": 2068,
    "start_time": "2024-07-12T08:07:07.227Z"
   },
   {
    "duration": 2191,
    "start_time": "2024-07-12T08:07:18.529Z"
   },
   {
    "duration": 5,
    "start_time": "2024-07-12T08:08:46.346Z"
   },
   {
    "duration": 5,
    "start_time": "2024-07-12T08:08:49.050Z"
   },
   {
    "duration": 1178,
    "start_time": "2024-07-12T08:08:56.810Z"
   },
   {
    "duration": 1183,
    "start_time": "2024-07-12T08:09:00.649Z"
   },
   {
    "duration": 3,
    "start_time": "2024-07-12T08:10:30.949Z"
   },
   {
    "duration": 1660,
    "start_time": "2024-07-12T08:11:49.315Z"
   },
   {
    "duration": 19,
    "start_time": "2024-07-12T08:11:56.709Z"
   },
   {
    "duration": 3,
    "start_time": "2024-07-12T08:12:16.239Z"
   },
   {
    "duration": 189,
    "start_time": "2024-07-12T08:12:18.319Z"
   },
   {
    "duration": 32,
    "start_time": "2024-07-12T08:12:20.071Z"
   },
   {
    "duration": 644,
    "start_time": "2024-07-12T08:14:59.880Z"
   },
   {
    "duration": 965,
    "start_time": "2024-07-12T08:15:06.610Z"
   },
   {
    "duration": 559,
    "start_time": "2024-07-12T08:16:41.741Z"
   },
   {
    "duration": 867,
    "start_time": "2024-07-12T08:16:44.860Z"
   },
   {
    "duration": 4,
    "start_time": "2024-07-12T08:17:52.172Z"
   },
   {
    "duration": 12,
    "start_time": "2024-07-12T08:17:55.921Z"
   },
   {
    "duration": 9,
    "start_time": "2024-07-12T08:18:04.827Z"
   },
   {
    "duration": 10,
    "start_time": "2024-07-12T08:18:52.966Z"
   },
   {
    "duration": 7,
    "start_time": "2024-07-12T08:19:27.308Z"
   },
   {
    "duration": 2543,
    "start_time": "2024-07-12T08:19:51.102Z"
   },
   {
    "duration": 1305,
    "start_time": "2024-07-12T08:19:53.648Z"
   },
   {
    "duration": 38,
    "start_time": "2024-07-12T08:19:54.955Z"
   },
   {
    "duration": 13,
    "start_time": "2024-07-12T08:19:54.995Z"
   },
   {
    "duration": 11,
    "start_time": "2024-07-12T08:19:55.009Z"
   },
   {
    "duration": 25,
    "start_time": "2024-07-12T08:19:55.021Z"
   },
   {
    "duration": 7,
    "start_time": "2024-07-12T08:19:55.047Z"
   },
   {
    "duration": 40,
    "start_time": "2024-07-12T08:19:55.055Z"
   },
   {
    "duration": 31,
    "start_time": "2024-07-12T08:19:55.096Z"
   },
   {
    "duration": 9,
    "start_time": "2024-07-12T08:19:55.129Z"
   },
   {
    "duration": 46,
    "start_time": "2024-07-12T08:19:55.140Z"
   },
   {
    "duration": 29,
    "start_time": "2024-07-12T08:19:55.188Z"
   },
   {
    "duration": 6,
    "start_time": "2024-07-12T08:19:55.219Z"
   },
   {
    "duration": 17,
    "start_time": "2024-07-12T08:19:55.227Z"
   },
   {
    "duration": 6,
    "start_time": "2024-07-12T08:19:55.246Z"
   },
   {
    "duration": 22,
    "start_time": "2024-07-12T08:19:55.253Z"
   },
   {
    "duration": 15,
    "start_time": "2024-07-12T08:19:55.277Z"
   },
   {
    "duration": 13,
    "start_time": "2024-07-12T08:19:55.294Z"
   },
   {
    "duration": 13,
    "start_time": "2024-07-12T08:19:55.309Z"
   },
   {
    "duration": 25,
    "start_time": "2024-07-12T08:19:55.324Z"
   },
   {
    "duration": 43,
    "start_time": "2024-07-12T08:19:55.351Z"
   },
   {
    "duration": 15,
    "start_time": "2024-07-12T08:19:55.396Z"
   },
   {
    "duration": 12,
    "start_time": "2024-07-12T08:19:55.413Z"
   },
   {
    "duration": 44,
    "start_time": "2024-07-12T08:19:55.427Z"
   },
   {
    "duration": 674,
    "start_time": "2024-07-12T08:19:55.473Z"
   },
   {
    "duration": 23,
    "start_time": "2024-07-12T08:19:56.148Z"
   },
   {
    "duration": 15,
    "start_time": "2024-07-12T08:19:56.172Z"
   },
   {
    "duration": 4,
    "start_time": "2024-07-12T08:19:56.191Z"
   },
   {
    "duration": 6,
    "start_time": "2024-07-12T08:19:56.197Z"
   },
   {
    "duration": 8,
    "start_time": "2024-07-12T08:19:56.204Z"
   },
   {
    "duration": 26,
    "start_time": "2024-07-12T08:19:56.214Z"
   },
   {
    "duration": 4,
    "start_time": "2024-07-12T08:19:56.241Z"
   },
   {
    "duration": 7,
    "start_time": "2024-07-12T08:19:56.246Z"
   },
   {
    "duration": 16,
    "start_time": "2024-07-12T08:19:56.255Z"
   },
   {
    "duration": 20,
    "start_time": "2024-07-12T08:19:56.273Z"
   },
   {
    "duration": 12,
    "start_time": "2024-07-12T08:19:56.295Z"
   },
   {
    "duration": 3,
    "start_time": "2024-07-12T08:19:56.308Z"
   },
   {
    "duration": 15,
    "start_time": "2024-07-12T08:19:56.312Z"
   },
   {
    "duration": 407,
    "start_time": "2024-07-12T08:19:56.329Z"
   },
   {
    "duration": 353,
    "start_time": "2024-07-12T08:19:56.737Z"
   },
   {
    "duration": 387,
    "start_time": "2024-07-12T08:19:57.092Z"
   },
   {
    "duration": 5,
    "start_time": "2024-07-12T08:19:57.480Z"
   },
   {
    "duration": 416,
    "start_time": "2024-07-12T08:19:57.487Z"
   },
   {
    "duration": 549,
    "start_time": "2024-07-12T08:19:57.904Z"
   },
   {
    "duration": 14,
    "start_time": "2024-07-12T08:19:58.455Z"
   },
   {
    "duration": 18,
    "start_time": "2024-07-12T08:19:58.470Z"
   },
   {
    "duration": 11,
    "start_time": "2024-07-12T08:19:58.489Z"
   },
   {
    "duration": 5,
    "start_time": "2024-07-12T08:19:58.502Z"
   },
   {
    "duration": 8,
    "start_time": "2024-07-12T08:19:58.509Z"
   },
   {
    "duration": 13,
    "start_time": "2024-07-12T08:19:58.518Z"
   },
   {
    "duration": 366,
    "start_time": "2024-07-12T08:19:58.532Z"
   },
   {
    "duration": 9,
    "start_time": "2024-07-12T08:19:58.899Z"
   },
   {
    "duration": 13,
    "start_time": "2024-07-12T08:19:58.910Z"
   },
   {
    "duration": 675,
    "start_time": "2024-07-12T08:19:58.925Z"
   },
   {
    "duration": 7,
    "start_time": "2024-07-12T08:19:59.601Z"
   },
   {
    "duration": 12,
    "start_time": "2024-07-12T08:19:59.609Z"
   },
   {
    "duration": 100,
    "start_time": "2024-07-12T08:19:59.622Z"
   },
   {
    "duration": 19,
    "start_time": "2024-07-12T08:19:59.724Z"
   },
   {
    "duration": 67,
    "start_time": "2024-07-12T08:19:59.744Z"
   },
   {
    "duration": 12,
    "start_time": "2024-07-12T08:19:59.812Z"
   },
   {
    "duration": 9,
    "start_time": "2024-07-12T08:19:59.825Z"
   },
   {
    "duration": 15,
    "start_time": "2024-07-12T08:19:59.836Z"
   },
   {
    "duration": 477,
    "start_time": "2024-07-12T08:19:59.852Z"
   },
   {
    "duration": 146,
    "start_time": "2024-07-12T08:20:00.331Z"
   },
   {
    "duration": 142,
    "start_time": "2024-07-12T08:20:00.478Z"
   },
   {
    "duration": 308,
    "start_time": "2024-07-12T08:20:00.621Z"
   },
   {
    "duration": 127,
    "start_time": "2024-07-12T08:20:00.930Z"
   },
   {
    "duration": 458,
    "start_time": "2024-07-12T08:20:01.058Z"
   },
   {
    "duration": 133,
    "start_time": "2024-07-12T08:20:01.517Z"
   },
   {
    "duration": 135,
    "start_time": "2024-07-12T08:20:01.652Z"
   },
   {
    "duration": 141,
    "start_time": "2024-07-12T08:20:01.788Z"
   },
   {
    "duration": 152,
    "start_time": "2024-07-12T08:20:01.931Z"
   },
   {
    "duration": 133,
    "start_time": "2024-07-12T08:20:02.084Z"
   },
   {
    "duration": 134,
    "start_time": "2024-07-12T08:20:02.219Z"
   },
   {
    "duration": 133,
    "start_time": "2024-07-12T08:20:02.357Z"
   },
   {
    "duration": 226,
    "start_time": "2024-07-12T08:20:02.492Z"
   },
   {
    "duration": 3,
    "start_time": "2024-07-12T08:20:02.720Z"
   },
   {
    "duration": 1992,
    "start_time": "2024-07-12T08:20:02.724Z"
   },
   {
    "duration": 2082,
    "start_time": "2024-07-12T08:20:04.718Z"
   },
   {
    "duration": 5,
    "start_time": "2024-07-12T08:20:06.801Z"
   },
   {
    "duration": 12,
    "start_time": "2024-07-12T08:20:06.808Z"
   },
   {
    "duration": 11,
    "start_time": "2024-07-12T08:20:06.825Z"
   },
   {
    "duration": 1089,
    "start_time": "2024-07-12T08:20:06.837Z"
   },
   {
    "duration": 1199,
    "start_time": "2024-07-12T08:20:07.928Z"
   },
   {
    "duration": 3,
    "start_time": "2024-07-12T08:20:09.128Z"
   },
   {
    "duration": 1596,
    "start_time": "2024-07-12T08:20:09.132Z"
   },
   {
    "duration": 13,
    "start_time": "2024-07-12T08:20:10.729Z"
   },
   {
    "duration": 3,
    "start_time": "2024-07-12T08:20:10.744Z"
   },
   {
    "duration": 105,
    "start_time": "2024-07-12T08:20:10.757Z"
   },
   {
    "duration": 18,
    "start_time": "2024-07-12T08:20:10.863Z"
   },
   {
    "duration": 478,
    "start_time": "2024-07-12T08:20:10.882Z"
   },
   {
    "duration": 825,
    "start_time": "2024-07-12T08:20:11.361Z"
   },
   {
    "duration": 4,
    "start_time": "2024-07-12T08:20:12.188Z"
   },
   {
    "duration": 12,
    "start_time": "2024-07-12T08:20:12.194Z"
   },
   {
    "duration": 126,
    "start_time": "2024-07-12T08:20:12.208Z"
   },
   {
    "duration": 0,
    "start_time": "2024-07-12T08:20:12.336Z"
   },
   {
    "duration": 14,
    "start_time": "2024-07-12T08:24:31.852Z"
   },
   {
    "duration": 2458,
    "start_time": "2024-07-12T08:25:12.054Z"
   },
   {
    "duration": 1273,
    "start_time": "2024-07-12T08:25:14.515Z"
   },
   {
    "duration": 36,
    "start_time": "2024-07-12T08:25:15.790Z"
   },
   {
    "duration": 13,
    "start_time": "2024-07-12T08:25:15.828Z"
   },
   {
    "duration": 15,
    "start_time": "2024-07-12T08:25:15.842Z"
   },
   {
    "duration": 19,
    "start_time": "2024-07-12T08:25:15.858Z"
   },
   {
    "duration": 7,
    "start_time": "2024-07-12T08:25:15.878Z"
   },
   {
    "duration": 27,
    "start_time": "2024-07-12T08:25:15.886Z"
   },
   {
    "duration": 25,
    "start_time": "2024-07-12T08:25:15.915Z"
   },
   {
    "duration": 7,
    "start_time": "2024-07-12T08:25:15.941Z"
   },
   {
    "duration": 14,
    "start_time": "2024-07-12T08:25:15.949Z"
   },
   {
    "duration": 18,
    "start_time": "2024-07-12T08:25:15.964Z"
   },
   {
    "duration": 5,
    "start_time": "2024-07-12T08:25:15.983Z"
   },
   {
    "duration": 7,
    "start_time": "2024-07-12T08:25:15.991Z"
   },
   {
    "duration": 15,
    "start_time": "2024-07-12T08:25:15.999Z"
   },
   {
    "duration": 5,
    "start_time": "2024-07-12T08:25:16.015Z"
   },
   {
    "duration": 4,
    "start_time": "2024-07-12T08:25:16.022Z"
   },
   {
    "duration": 12,
    "start_time": "2024-07-12T08:25:16.027Z"
   },
   {
    "duration": 17,
    "start_time": "2024-07-12T08:25:16.041Z"
   },
   {
    "duration": 5,
    "start_time": "2024-07-12T08:25:16.059Z"
   },
   {
    "duration": 10,
    "start_time": "2024-07-12T08:25:16.066Z"
   },
   {
    "duration": 10,
    "start_time": "2024-07-12T08:25:16.077Z"
   },
   {
    "duration": 10,
    "start_time": "2024-07-12T08:25:16.089Z"
   },
   {
    "duration": 18,
    "start_time": "2024-07-12T08:25:16.100Z"
   },
   {
    "duration": 678,
    "start_time": "2024-07-12T08:25:16.120Z"
   },
   {
    "duration": 11,
    "start_time": "2024-07-12T08:25:16.799Z"
   },
   {
    "duration": 14,
    "start_time": "2024-07-12T08:25:16.812Z"
   },
   {
    "duration": 4,
    "start_time": "2024-07-12T08:25:16.828Z"
   },
   {
    "duration": 5,
    "start_time": "2024-07-12T08:25:16.833Z"
   },
   {
    "duration": 20,
    "start_time": "2024-07-12T08:25:16.840Z"
   },
   {
    "duration": 12,
    "start_time": "2024-07-12T08:25:16.862Z"
   },
   {
    "duration": 5,
    "start_time": "2024-07-12T08:25:16.876Z"
   },
   {
    "duration": 18,
    "start_time": "2024-07-12T08:25:16.882Z"
   },
   {
    "duration": 12,
    "start_time": "2024-07-12T08:25:16.902Z"
   },
   {
    "duration": 4,
    "start_time": "2024-07-12T08:25:16.916Z"
   },
   {
    "duration": 18,
    "start_time": "2024-07-12T08:25:16.921Z"
   },
   {
    "duration": 20,
    "start_time": "2024-07-12T08:25:16.940Z"
   },
   {
    "duration": 19,
    "start_time": "2024-07-12T08:25:16.961Z"
   },
   {
    "duration": 343,
    "start_time": "2024-07-12T08:25:16.981Z"
   },
   {
    "duration": 395,
    "start_time": "2024-07-12T08:25:17.326Z"
   },
   {
    "duration": 348,
    "start_time": "2024-07-12T08:25:17.725Z"
   },
   {
    "duration": 3,
    "start_time": "2024-07-12T08:25:18.075Z"
   },
   {
    "duration": 399,
    "start_time": "2024-07-12T08:25:18.079Z"
   },
   {
    "duration": 398,
    "start_time": "2024-07-12T08:25:18.480Z"
   },
   {
    "duration": 8,
    "start_time": "2024-07-12T08:25:18.879Z"
   },
   {
    "duration": 27,
    "start_time": "2024-07-12T08:25:18.888Z"
   },
   {
    "duration": 4,
    "start_time": "2024-07-12T08:25:18.916Z"
   },
   {
    "duration": 13,
    "start_time": "2024-07-12T08:25:18.922Z"
   },
   {
    "duration": 7,
    "start_time": "2024-07-12T08:25:18.936Z"
   },
   {
    "duration": 19,
    "start_time": "2024-07-12T08:25:18.945Z"
   },
   {
    "duration": 401,
    "start_time": "2024-07-12T08:25:18.965Z"
   },
   {
    "duration": 9,
    "start_time": "2024-07-12T08:25:19.367Z"
   },
   {
    "duration": 28,
    "start_time": "2024-07-12T08:25:19.378Z"
   },
   {
    "duration": 653,
    "start_time": "2024-07-12T08:25:19.407Z"
   },
   {
    "duration": 6,
    "start_time": "2024-07-12T08:25:20.062Z"
   },
   {
    "duration": 13,
    "start_time": "2024-07-12T08:25:20.070Z"
   },
   {
    "duration": 112,
    "start_time": "2024-07-12T08:25:20.084Z"
   },
   {
    "duration": 21,
    "start_time": "2024-07-12T08:25:20.197Z"
   },
   {
    "duration": 21,
    "start_time": "2024-07-12T08:25:20.219Z"
   },
   {
    "duration": 12,
    "start_time": "2024-07-12T08:25:20.257Z"
   },
   {
    "duration": 14,
    "start_time": "2024-07-12T08:25:20.270Z"
   },
   {
    "duration": 14,
    "start_time": "2024-07-12T08:25:20.285Z"
   },
   {
    "duration": 454,
    "start_time": "2024-07-12T08:25:20.301Z"
   },
   {
    "duration": 124,
    "start_time": "2024-07-12T08:25:20.757Z"
   },
   {
    "duration": 124,
    "start_time": "2024-07-12T08:25:20.882Z"
   },
   {
    "duration": 125,
    "start_time": "2024-07-12T08:25:21.007Z"
   },
   {
    "duration": 201,
    "start_time": "2024-07-12T08:25:21.134Z"
   },
   {
    "duration": 463,
    "start_time": "2024-07-12T08:25:21.336Z"
   },
   {
    "duration": 129,
    "start_time": "2024-07-12T08:25:21.800Z"
   },
   {
    "duration": 128,
    "start_time": "2024-07-12T08:25:21.930Z"
   },
   {
    "duration": 139,
    "start_time": "2024-07-12T08:25:22.060Z"
   },
   {
    "duration": 139,
    "start_time": "2024-07-12T08:25:22.200Z"
   },
   {
    "duration": 132,
    "start_time": "2024-07-12T08:25:22.340Z"
   },
   {
    "duration": 137,
    "start_time": "2024-07-12T08:25:22.474Z"
   },
   {
    "duration": 133,
    "start_time": "2024-07-12T08:25:22.613Z"
   },
   {
    "duration": 137,
    "start_time": "2024-07-12T08:25:22.748Z"
   },
   {
    "duration": 3,
    "start_time": "2024-07-12T08:25:22.887Z"
   },
   {
    "duration": 2015,
    "start_time": "2024-07-12T08:25:22.891Z"
   },
   {
    "duration": 2044,
    "start_time": "2024-07-12T08:25:24.907Z"
   },
   {
    "duration": 7,
    "start_time": "2024-07-12T08:25:26.952Z"
   },
   {
    "duration": 19,
    "start_time": "2024-07-12T08:25:26.961Z"
   },
   {
    "duration": 35,
    "start_time": "2024-07-12T08:25:26.981Z"
   },
   {
    "duration": 1056,
    "start_time": "2024-07-12T08:25:27.017Z"
   },
   {
    "duration": 1141,
    "start_time": "2024-07-12T08:25:28.075Z"
   },
   {
    "duration": 2,
    "start_time": "2024-07-12T08:25:29.217Z"
   },
   {
    "duration": 1568,
    "start_time": "2024-07-12T08:25:29.221Z"
   },
   {
    "duration": 12,
    "start_time": "2024-07-12T08:25:30.790Z"
   },
   {
    "duration": 40,
    "start_time": "2024-07-12T08:25:30.803Z"
   },
   {
    "duration": 125,
    "start_time": "2024-07-12T08:25:30.844Z"
   },
   {
    "duration": 17,
    "start_time": "2024-07-12T08:25:30.971Z"
   },
   {
    "duration": 477,
    "start_time": "2024-07-12T08:25:30.989Z"
   },
   {
    "duration": 813,
    "start_time": "2024-07-12T08:25:31.467Z"
   },
   {
    "duration": 4,
    "start_time": "2024-07-12T08:25:32.282Z"
   },
   {
    "duration": 18,
    "start_time": "2024-07-12T08:25:32.288Z"
   },
   {
    "duration": 12,
    "start_time": "2024-07-12T08:25:32.307Z"
   },
   {
    "duration": 4,
    "start_time": "2024-07-12T08:26:40.321Z"
   },
   {
    "duration": 10,
    "start_time": "2024-07-12T08:26:41.956Z"
   },
   {
    "duration": 3,
    "start_time": "2024-07-12T09:02:02.233Z"
   },
   {
    "duration": 124,
    "start_time": "2024-07-12T09:10:54.705Z"
   },
   {
    "duration": 17,
    "start_time": "2024-07-12T09:12:29.092Z"
   },
   {
    "duration": 9,
    "start_time": "2024-07-12T09:13:10.990Z"
   },
   {
    "duration": 82,
    "start_time": "2024-07-12T09:15:07.566Z"
   },
   {
    "duration": 6,
    "start_time": "2024-07-12T09:16:05.740Z"
   },
   {
    "duration": 48,
    "start_time": "2024-07-12T11:17:12.412Z"
   },
   {
    "duration": 887,
    "start_time": "2024-07-12T11:18:22.249Z"
   },
   {
    "duration": 9,
    "start_time": "2024-07-12T11:19:29.548Z"
   },
   {
    "duration": 3644,
    "start_time": "2024-07-12T11:51:58.775Z"
   },
   {
    "duration": 1547,
    "start_time": "2024-07-12T11:54:25.016Z"
   },
   {
    "duration": 145,
    "start_time": "2024-07-12T11:54:32.188Z"
   },
   {
    "duration": 134,
    "start_time": "2024-07-12T11:54:36.973Z"
   },
   {
    "duration": 134,
    "start_time": "2024-07-12T11:54:40.895Z"
   },
   {
    "duration": 99,
    "start_time": "2024-07-12T11:54:45.693Z"
   },
   {
    "duration": 8,
    "start_time": "2024-07-12T11:54:50.258Z"
   },
   {
    "duration": 10,
    "start_time": "2024-07-12T11:54:52.733Z"
   },
   {
    "duration": 4,
    "start_time": "2024-07-12T11:54:58.226Z"
   },
   {
    "duration": 6,
    "start_time": "2024-07-12T11:54:59.613Z"
   },
   {
    "duration": 4,
    "start_time": "2024-07-12T11:55:01.065Z"
   },
   {
    "duration": 716,
    "start_time": "2024-07-12T11:55:06.673Z"
   },
   {
    "duration": 6,
    "start_time": "2024-07-12T11:55:14.465Z"
   },
   {
    "duration": 6,
    "start_time": "2024-07-12T11:55:22.755Z"
   },
   {
    "duration": 4,
    "start_time": "2024-07-12T11:55:55.605Z"
   },
   {
    "duration": 5,
    "start_time": "2024-07-12T11:55:56.623Z"
   },
   {
    "duration": 5,
    "start_time": "2024-07-12T11:55:58.071Z"
   },
   {
    "duration": 29,
    "start_time": "2024-07-12T11:56:31.141Z"
   },
   {
    "duration": 11,
    "start_time": "2024-07-12T11:56:39.635Z"
   },
   {
    "duration": 6,
    "start_time": "2024-07-12T11:57:03.786Z"
   },
   {
    "duration": 5,
    "start_time": "2024-07-12T11:57:04.893Z"
   },
   {
    "duration": 3,
    "start_time": "2024-07-12T11:57:15.621Z"
   },
   {
    "duration": 2072,
    "start_time": "2024-07-12T11:57:19.427Z"
   },
   {
    "duration": 3,
    "start_time": "2024-07-12T11:57:25.285Z"
   },
   {
    "duration": 137,
    "start_time": "2024-07-12T11:57:27.736Z"
   },
   {
    "duration": 26,
    "start_time": "2024-07-12T11:57:31.635Z"
   },
   {
    "duration": 5,
    "start_time": "2024-07-12T11:57:39.715Z"
   },
   {
    "duration": 9,
    "start_time": "2024-07-12T11:57:49.473Z"
   },
   {
    "duration": 3,
    "start_time": "2024-07-12T11:57:51.793Z"
   },
   {
    "duration": 19,
    "start_time": "2024-07-12T11:57:54.116Z"
   },
   {
    "duration": 11,
    "start_time": "2024-07-12T11:57:59.301Z"
   },
   {
    "duration": 8,
    "start_time": "2024-07-12T11:58:01.406Z"
   },
   {
    "duration": 108,
    "start_time": "2024-07-12T11:58:11.499Z"
   },
   {
    "duration": 13,
    "start_time": "2024-07-12T11:58:17.562Z"
   },
   {
    "duration": 25,
    "start_time": "2024-07-12T11:58:49.797Z"
   },
   {
    "duration": 23,
    "start_time": "2024-07-12T12:00:11.406Z"
   },
   {
    "duration": 10,
    "start_time": "2024-07-12T12:00:45.868Z"
   },
   {
    "duration": 5,
    "start_time": "2024-07-12T12:02:30.028Z"
   },
   {
    "duration": 24,
    "start_time": "2024-07-12T12:03:33.677Z"
   },
   {
    "duration": 24,
    "start_time": "2024-07-12T12:05:39.994Z"
   },
   {
    "duration": 11,
    "start_time": "2024-07-12T12:13:14.844Z"
   },
   {
    "duration": 22,
    "start_time": "2024-07-12T12:13:39.213Z"
   },
   {
    "duration": 4,
    "start_time": "2024-07-12T12:13:40.266Z"
   },
   {
    "duration": 87,
    "start_time": "2024-07-12T12:13:43.654Z"
   },
   {
    "duration": 3,
    "start_time": "2024-07-12T12:14:25.347Z"
   },
   {
    "duration": 4341,
    "start_time": "2024-07-12T12:15:27.053Z"
   },
   {
    "duration": 3421,
    "start_time": "2024-07-13T06:40:52.029Z"
   },
   {
    "duration": 1881,
    "start_time": "2024-07-13T06:40:56.669Z"
   },
   {
    "duration": 149,
    "start_time": "2024-07-13T06:41:03.169Z"
   },
   {
    "duration": 129,
    "start_time": "2024-07-13T06:41:08.120Z"
   },
   {
    "duration": 127,
    "start_time": "2024-07-13T06:41:12.989Z"
   },
   {
    "duration": 98,
    "start_time": "2024-07-13T06:41:17.086Z"
   },
   {
    "duration": 9,
    "start_time": "2024-07-13T06:41:22.128Z"
   },
   {
    "duration": 5,
    "start_time": "2024-07-13T06:41:28.039Z"
   },
   {
    "duration": 9,
    "start_time": "2024-07-13T06:41:29.218Z"
   },
   {
    "duration": 1032,
    "start_time": "2024-07-13T06:41:33.588Z"
   },
   {
    "duration": 20,
    "start_time": "2024-07-13T06:41:57.150Z"
   },
   {
    "duration": 5,
    "start_time": "2024-07-13T06:42:10.100Z"
   },
   {
    "duration": 6,
    "start_time": "2024-07-13T06:42:12.409Z"
   },
   {
    "duration": 5,
    "start_time": "2024-07-13T06:42:18.129Z"
   },
   {
    "duration": 14,
    "start_time": "2024-07-13T06:42:21.690Z"
   },
   {
    "duration": 705,
    "start_time": "2024-07-13T06:42:26.080Z"
   },
   {
    "duration": 6,
    "start_time": "2024-07-13T06:42:32.469Z"
   },
   {
    "duration": 3,
    "start_time": "2024-07-13T06:42:32.619Z"
   },
   {
    "duration": 10,
    "start_time": "2024-07-13T06:42:33.830Z"
   },
   {
    "duration": 6,
    "start_time": "2024-07-13T06:42:40.399Z"
   },
   {
    "duration": 4,
    "start_time": "2024-07-13T06:43:05.120Z"
   },
   {
    "duration": 5,
    "start_time": "2024-07-13T06:43:05.969Z"
   },
   {
    "duration": 5,
    "start_time": "2024-07-13T06:43:06.959Z"
   },
   {
    "duration": 36,
    "start_time": "2024-07-13T06:43:31.760Z"
   },
   {
    "duration": 10,
    "start_time": "2024-07-13T06:43:42.219Z"
   },
   {
    "duration": 6,
    "start_time": "2024-07-13T06:44:29.790Z"
   },
   {
    "duration": 5,
    "start_time": "2024-07-13T06:44:32.159Z"
   },
   {
    "duration": 3,
    "start_time": "2024-07-13T06:44:57.733Z"
   },
   {
    "duration": 2047,
    "start_time": "2024-07-13T06:45:00.939Z"
   },
   {
    "duration": 4,
    "start_time": "2024-07-13T06:45:08.230Z"
   },
   {
    "duration": 137,
    "start_time": "2024-07-13T06:45:09.881Z"
   },
   {
    "duration": 23,
    "start_time": "2024-07-13T06:45:10.948Z"
   },
   {
    "duration": 581,
    "start_time": "2024-07-13T06:45:26.320Z"
   },
   {
    "duration": 1028,
    "start_time": "2024-07-13T06:45:30.160Z"
   },
   {
    "duration": 4,
    "start_time": "2024-07-13T06:46:12.310Z"
   },
   {
    "duration": 12,
    "start_time": "2024-07-13T06:46:13.479Z"
   },
   {
    "duration": 10,
    "start_time": "2024-07-13T06:48:10.880Z"
   },
   {
    "duration": 3,
    "start_time": "2024-07-13T06:50:28.060Z"
   },
   {
    "duration": 20,
    "start_time": "2024-07-13T06:50:30.641Z"
   },
   {
    "duration": 11,
    "start_time": "2024-07-13T06:50:37.771Z"
   },
   {
    "duration": 8,
    "start_time": "2024-07-13T06:50:50.516Z"
   },
   {
    "duration": 10,
    "start_time": "2024-07-13T06:50:53.120Z"
   },
   {
    "duration": 28,
    "start_time": "2024-07-13T06:51:00.151Z"
   },
   {
    "duration": 23,
    "start_time": "2024-07-13T06:51:23.290Z"
   },
   {
    "duration": 4,
    "start_time": "2024-07-13T06:51:40.250Z"
   },
   {
    "duration": 26,
    "start_time": "2024-07-13T06:52:07.950Z"
   },
   {
    "duration": 32,
    "start_time": "2024-07-13T06:52:24.468Z"
   },
   {
    "duration": 23,
    "start_time": "2024-07-13T06:55:29.000Z"
   },
   {
    "duration": 16,
    "start_time": "2024-07-13T07:08:04.551Z"
   },
   {
    "duration": 9,
    "start_time": "2024-07-13T07:09:04.361Z"
   },
   {
    "duration": 13,
    "start_time": "2024-07-13T07:09:10.360Z"
   },
   {
    "duration": 14,
    "start_time": "2024-07-13T07:10:54.371Z"
   },
   {
    "duration": 23,
    "start_time": "2024-07-13T07:11:46.040Z"
   },
   {
    "duration": 35,
    "start_time": "2024-07-13T07:12:02.280Z"
   },
   {
    "duration": 22,
    "start_time": "2024-07-13T07:12:16.580Z"
   },
   {
    "duration": 12,
    "start_time": "2024-07-13T07:14:22.173Z"
   },
   {
    "duration": 122,
    "start_time": "2024-07-13T07:20:18.433Z"
   },
   {
    "duration": 4,
    "start_time": "2024-07-13T07:21:28.922Z"
   },
   {
    "duration": 39,
    "start_time": "2024-07-13T07:26:28.914Z"
   },
   {
    "duration": 3,
    "start_time": "2024-07-13T07:27:23.812Z"
   },
   {
    "duration": 3,
    "start_time": "2024-07-13T07:27:29.743Z"
   },
   {
    "duration": 3722,
    "start_time": "2024-07-13T07:27:30.613Z"
   },
   {
    "duration": 2495,
    "start_time": "2024-07-13T07:28:01.331Z"
   },
   {
    "duration": 1744,
    "start_time": "2024-07-13T07:28:04.875Z"
   },
   {
    "duration": 41,
    "start_time": "2024-07-13T07:28:11.981Z"
   },
   {
    "duration": 36,
    "start_time": "2024-07-13T07:28:16.569Z"
   },
   {
    "duration": 32,
    "start_time": "2024-07-13T07:28:20.592Z"
   },
   {
    "duration": 29,
    "start_time": "2024-07-13T07:28:30.789Z"
   },
   {
    "duration": 28,
    "start_time": "2024-07-13T07:28:43.113Z"
   },
   {
    "duration": 7,
    "start_time": "2024-07-13T07:28:47.282Z"
   },
   {
    "duration": 9,
    "start_time": "2024-07-13T07:28:52.242Z"
   },
   {
    "duration": 4,
    "start_time": "2024-07-13T07:28:54.483Z"
   },
   {
    "duration": 6,
    "start_time": "2024-07-13T07:28:59.272Z"
   },
   {
    "duration": 6,
    "start_time": "2024-07-13T07:29:38.422Z"
   },
   {
    "duration": 5,
    "start_time": "2024-07-13T07:30:10.542Z"
   },
   {
    "duration": 5,
    "start_time": "2024-07-13T07:30:39.005Z"
   },
   {
    "duration": 753,
    "start_time": "2024-07-13T07:30:45.753Z"
   },
   {
    "duration": 7,
    "start_time": "2024-07-13T07:30:56.971Z"
   },
   {
    "duration": 8,
    "start_time": "2024-07-13T07:31:02.510Z"
   },
   {
    "duration": 4,
    "start_time": "2024-07-13T07:31:26.083Z"
   },
   {
    "duration": 7,
    "start_time": "2024-07-13T07:31:26.903Z"
   },
   {
    "duration": 5,
    "start_time": "2024-07-13T07:31:27.672Z"
   },
   {
    "duration": 25,
    "start_time": "2024-07-13T07:33:02.652Z"
   },
   {
    "duration": 11,
    "start_time": "2024-07-13T07:33:11.242Z"
   },
   {
    "duration": 6,
    "start_time": "2024-07-13T07:33:36.223Z"
   },
   {
    "duration": 5,
    "start_time": "2024-07-13T07:33:37.902Z"
   },
   {
    "duration": 3,
    "start_time": "2024-07-13T07:33:55.496Z"
   },
   {
    "duration": 2230,
    "start_time": "2024-07-13T07:34:00.974Z"
   },
   {
    "duration": 3,
    "start_time": "2024-07-13T07:34:27.325Z"
   },
   {
    "duration": 126,
    "start_time": "2024-07-13T07:34:29.025Z"
   },
   {
    "duration": 670,
    "start_time": "2024-07-13T07:34:38.834Z"
   },
   {
    "duration": 1112,
    "start_time": "2024-07-13T07:34:43.624Z"
   },
   {
    "duration": 4,
    "start_time": "2024-07-13T07:34:52.445Z"
   },
   {
    "duration": 8,
    "start_time": "2024-07-13T07:35:05.396Z"
   },
   {
    "duration": 3,
    "start_time": "2024-07-13T07:35:07.875Z"
   },
   {
    "duration": 20,
    "start_time": "2024-07-13T07:35:13.575Z"
   },
   {
    "duration": 11,
    "start_time": "2024-07-13T07:35:15.195Z"
   },
   {
    "duration": 8,
    "start_time": "2024-07-13T07:35:20.635Z"
   },
   {
    "duration": 138,
    "start_time": "2024-07-13T07:35:22.134Z"
   },
   {
    "duration": 5,
    "start_time": "2024-07-13T07:35:32.736Z"
   },
   {
    "duration": 73123,
    "start_time": "2024-07-13T07:35:34.176Z"
   },
   {
    "duration": 2683,
    "start_time": "2024-07-13T08:36:18.160Z"
   },
   {
    "duration": 2712,
    "start_time": "2024-07-13T08:36:54.344Z"
   },
   {
    "duration": 1624,
    "start_time": "2024-07-13T08:36:59.184Z"
   },
   {
    "duration": 41,
    "start_time": "2024-07-13T08:37:09.891Z"
   },
   {
    "duration": 36,
    "start_time": "2024-07-13T08:37:21.875Z"
   },
   {
    "duration": 35,
    "start_time": "2024-07-13T08:37:37.804Z"
   },
   {
    "duration": 30,
    "start_time": "2024-07-13T08:37:44.695Z"
   },
   {
    "duration": 7,
    "start_time": "2024-07-13T08:37:50.640Z"
   },
   {
    "duration": 7,
    "start_time": "2024-07-13T08:37:52.238Z"
   },
   {
    "duration": 12,
    "start_time": "2024-07-13T08:38:04.595Z"
   },
   {
    "duration": 9,
    "start_time": "2024-07-13T08:38:21.919Z"
   },
   {
    "duration": 5,
    "start_time": "2024-07-13T08:38:24.106Z"
   },
   {
    "duration": 7,
    "start_time": "2024-07-13T08:38:25.176Z"
   },
   {
    "duration": 805,
    "start_time": "2024-07-13T08:38:44.114Z"
   },
   {
    "duration": 7,
    "start_time": "2024-07-13T08:38:50.215Z"
   },
   {
    "duration": 10,
    "start_time": "2024-07-13T08:38:56.176Z"
   },
   {
    "duration": 4,
    "start_time": "2024-07-13T08:39:14.935Z"
   },
   {
    "duration": 8,
    "start_time": "2024-07-13T08:39:15.805Z"
   },
   {
    "duration": 5,
    "start_time": "2024-07-13T08:39:16.604Z"
   },
   {
    "duration": 32,
    "start_time": "2024-07-13T08:39:29.663Z"
   },
   {
    "duration": 16,
    "start_time": "2024-07-13T08:39:43.895Z"
   },
   {
    "duration": 7,
    "start_time": "2024-07-13T08:40:04.607Z"
   },
   {
    "duration": 5,
    "start_time": "2024-07-13T08:40:05.706Z"
   },
   {
    "duration": 3,
    "start_time": "2024-07-13T08:40:13.527Z"
   },
   {
    "duration": 2253,
    "start_time": "2024-07-13T08:40:14.904Z"
   },
   {
    "duration": 4,
    "start_time": "2024-07-13T08:40:22.807Z"
   },
   {
    "duration": 128,
    "start_time": "2024-07-13T08:40:30.045Z"
   },
   {
    "duration": 730,
    "start_time": "2024-07-13T08:40:46.089Z"
   },
   {
    "duration": 1142,
    "start_time": "2024-07-13T08:40:49.136Z"
   },
   {
    "duration": 5,
    "start_time": "2024-07-13T08:40:55.666Z"
   },
   {
    "duration": 9,
    "start_time": "2024-07-13T08:41:03.048Z"
   },
   {
    "duration": 3,
    "start_time": "2024-07-13T08:41:04.756Z"
   },
   {
    "duration": 32,
    "start_time": "2024-07-13T08:41:06.105Z"
   },
   {
    "duration": 12,
    "start_time": "2024-07-13T08:41:18.757Z"
   },
   {
    "duration": 7,
    "start_time": "2024-07-13T08:41:20.146Z"
   },
   {
    "duration": 6,
    "start_time": "2024-07-13T08:41:32.434Z"
   },
   {
    "duration": 80560,
    "start_time": "2024-07-13T08:41:35.129Z"
   },
   {
    "duration": 5,
    "start_time": "2024-07-13T08:46:22.169Z"
   },
   {
    "duration": 12,
    "start_time": "2024-07-13T08:47:51.768Z"
   },
   {
    "duration": 12,
    "start_time": "2024-07-13T08:50:51.791Z"
   },
   {
    "duration": 85,
    "start_time": "2024-07-13T08:56:35.050Z"
   },
   {
    "duration": 128,
    "start_time": "2024-07-13T08:56:45.589Z"
   },
   {
    "duration": 18643,
    "start_time": "2024-07-13T08:57:03.857Z"
   },
   {
    "duration": 3553,
    "start_time": "2024-07-13T14:04:55.583Z"
   },
   {
    "duration": 56,
    "start_time": "2024-07-13T14:05:19.433Z"
   },
   {
    "duration": 5,
    "start_time": "2024-07-13T14:05:21.411Z"
   },
   {
    "duration": 2463,
    "start_time": "2024-07-13T14:05:27.459Z"
   },
   {
    "duration": 1773,
    "start_time": "2024-07-13T14:05:31.263Z"
   },
   {
    "duration": 148,
    "start_time": "2024-07-13T14:05:42.350Z"
   },
   {
    "duration": 126,
    "start_time": "2024-07-13T14:05:48.533Z"
   },
   {
    "duration": 128,
    "start_time": "2024-07-13T14:05:54.822Z"
   },
   {
    "duration": 99,
    "start_time": "2024-07-13T14:06:00.548Z"
   },
   {
    "duration": 7,
    "start_time": "2024-07-13T14:06:07.627Z"
   },
   {
    "duration": 6,
    "start_time": "2024-07-13T14:06:12.900Z"
   },
   {
    "duration": 4,
    "start_time": "2024-07-13T14:06:20.141Z"
   },
   {
    "duration": 6,
    "start_time": "2024-07-13T14:06:28.403Z"
   },
   {
    "duration": 4,
    "start_time": "2024-07-13T14:06:37.657Z"
   },
   {
    "duration": 712,
    "start_time": "2024-07-13T14:06:48.616Z"
   },
   {
    "duration": 7,
    "start_time": "2024-07-13T14:09:40.624Z"
   },
   {
    "duration": 8,
    "start_time": "2024-07-13T14:09:47.186Z"
   },
   {
    "duration": 5,
    "start_time": "2024-07-13T14:10:09.933Z"
   },
   {
    "duration": 6,
    "start_time": "2024-07-13T14:10:10.708Z"
   },
   {
    "duration": 5,
    "start_time": "2024-07-13T14:10:11.596Z"
   },
   {
    "duration": 27,
    "start_time": "2024-07-13T14:10:20.671Z"
   },
   {
    "duration": 10,
    "start_time": "2024-07-13T14:10:28.338Z"
   },
   {
    "duration": 6,
    "start_time": "2024-07-13T14:10:46.896Z"
   },
   {
    "duration": 4,
    "start_time": "2024-07-13T14:10:52.084Z"
   },
   {
    "duration": 3,
    "start_time": "2024-07-13T14:11:00.977Z"
   },
   {
    "duration": 2086,
    "start_time": "2024-07-13T14:11:02.364Z"
   },
   {
    "duration": 5,
    "start_time": "2024-07-13T14:11:08.986Z"
   },
   {
    "duration": 112,
    "start_time": "2024-07-13T14:11:10.358Z"
   },
   {
    "duration": 6,
    "start_time": "2024-07-13T14:11:16.200Z"
   },
   {
    "duration": 9,
    "start_time": "2024-07-13T14:11:24.050Z"
   },
   {
    "duration": 3,
    "start_time": "2024-07-13T14:11:25.683Z"
   },
   {
    "duration": 22,
    "start_time": "2024-07-13T14:11:26.813Z"
   },
   {
    "duration": 16,
    "start_time": "2024-07-13T14:11:33.242Z"
   },
   {
    "duration": 8,
    "start_time": "2024-07-13T14:11:41.244Z"
   },
   {
    "duration": 6,
    "start_time": "2024-07-13T14:11:43.483Z"
   },
   {
    "duration": 85,
    "start_time": "2024-07-13T14:11:44.854Z"
   },
   {
    "duration": 35815,
    "start_time": "2024-07-13T14:12:00.750Z"
   },
   {
    "duration": 9,
    "start_time": "2024-07-13T14:14:55.987Z"
   },
   {
    "duration": 10,
    "start_time": "2024-07-13T14:27:19.967Z"
   },
   {
    "duration": 11,
    "start_time": "2024-07-13T14:32:28.976Z"
   },
   {
    "duration": 10,
    "start_time": "2024-07-13T14:33:31.791Z"
   },
   {
    "duration": 14,
    "start_time": "2024-07-13T14:33:51.141Z"
   },
   {
    "duration": 9,
    "start_time": "2024-07-13T14:35:36.637Z"
   },
   {
    "duration": 6,
    "start_time": "2024-07-13T14:36:25.547Z"
   },
   {
    "duration": 205,
    "start_time": "2024-07-13T14:36:43.198Z"
   },
   {
    "duration": 123,
    "start_time": "2024-07-13T14:37:03.285Z"
   },
   {
    "duration": 12,
    "start_time": "2024-07-13T14:45:00.944Z"
   },
   {
    "duration": 8,
    "start_time": "2024-07-13T14:45:06.563Z"
   },
   {
    "duration": 18241,
    "start_time": "2024-07-13T14:45:09.934Z"
   },
   {
    "duration": 13,
    "start_time": "2024-07-13T14:45:49.300Z"
   },
   {
    "duration": 6,
    "start_time": "2024-07-13T14:47:09.420Z"
   },
   {
    "duration": 134,
    "start_time": "2024-07-13T14:48:02.350Z"
   },
   {
    "duration": 104,
    "start_time": "2024-07-13T14:56:33.055Z"
   },
   {
    "duration": 12,
    "start_time": "2024-07-13T14:56:46.491Z"
   },
   {
    "duration": 12,
    "start_time": "2024-07-13T14:57:09.940Z"
   },
   {
    "duration": 2513,
    "start_time": "2024-07-13T15:04:17.509Z"
   },
   {
    "duration": 7,
    "start_time": "2024-07-13T15:04:22.708Z"
   },
   {
    "duration": 1605,
    "start_time": "2024-07-13T15:04:39.249Z"
   },
   {
    "duration": 41,
    "start_time": "2024-07-13T15:04:44.337Z"
   },
   {
    "duration": 16,
    "start_time": "2024-07-13T15:04:45.352Z"
   },
   {
    "duration": 14,
    "start_time": "2024-07-13T15:04:46.638Z"
   },
   {
    "duration": 33,
    "start_time": "2024-07-13T15:04:50.949Z"
   },
   {
    "duration": 8,
    "start_time": "2024-07-13T15:04:51.936Z"
   },
   {
    "duration": 18,
    "start_time": "2024-07-13T15:04:53.498Z"
   },
   {
    "duration": 33,
    "start_time": "2024-07-13T15:04:57.397Z"
   },
   {
    "duration": 10,
    "start_time": "2024-07-13T15:04:58.157Z"
   },
   {
    "duration": 11,
    "start_time": "2024-07-13T15:04:59.335Z"
   },
   {
    "duration": 30,
    "start_time": "2024-07-13T15:05:03.281Z"
   },
   {
    "duration": 7,
    "start_time": "2024-07-13T15:05:04.116Z"
   },
   {
    "duration": 10,
    "start_time": "2024-07-13T15:05:05.116Z"
   },
   {
    "duration": 7,
    "start_time": "2024-07-13T15:05:10.839Z"
   },
   {
    "duration": 7,
    "start_time": "2024-07-13T15:05:11.592Z"
   },
   {
    "duration": 7,
    "start_time": "2024-07-13T15:05:16.565Z"
   },
   {
    "duration": 5,
    "start_time": "2024-07-13T15:05:17.470Z"
   },
   {
    "duration": 12,
    "start_time": "2024-07-13T15:05:18.381Z"
   },
   {
    "duration": 5,
    "start_time": "2024-07-13T15:05:23.016Z"
   },
   {
    "duration": 6,
    "start_time": "2024-07-13T15:05:24.169Z"
   },
   {
    "duration": 7,
    "start_time": "2024-07-13T15:05:24.990Z"
   },
   {
    "duration": 5,
    "start_time": "2024-07-13T15:05:26.681Z"
   },
   {
    "duration": 5,
    "start_time": "2024-07-13T15:05:27.416Z"
   },
   {
    "duration": 739,
    "start_time": "2024-07-13T15:05:32.461Z"
   },
   {
    "duration": 6,
    "start_time": "2024-07-13T15:05:40.190Z"
   },
   {
    "duration": 6,
    "start_time": "2024-07-13T15:05:46.568Z"
   },
   {
    "duration": 5,
    "start_time": "2024-07-13T15:05:47.915Z"
   },
   {
    "duration": 10,
    "start_time": "2024-07-13T15:05:49.696Z"
   },
   {
    "duration": 513,
    "start_time": "2024-07-13T15:06:40.917Z"
   },
   {
    "duration": 448,
    "start_time": "2024-07-13T15:06:52.206Z"
   },
   {
    "duration": 4,
    "start_time": "2024-07-13T15:07:02.065Z"
   },
   {
    "duration": 448,
    "start_time": "2024-07-13T15:07:02.775Z"
   },
   {
    "duration": 514,
    "start_time": "2024-07-13T15:07:19.016Z"
   },
   {
    "duration": 5,
    "start_time": "2024-07-13T15:07:28.507Z"
   },
   {
    "duration": 5,
    "start_time": "2024-07-13T15:07:28.657Z"
   },
   {
    "duration": 5,
    "start_time": "2024-07-13T15:07:29.203Z"
   },
   {
    "duration": 7,
    "start_time": "2024-07-13T15:07:30.000Z"
   },
   {
    "duration": 35,
    "start_time": "2024-07-13T15:07:46.147Z"
   },
   {
    "duration": 13,
    "start_time": "2024-07-13T15:08:03.125Z"
   },
   {
    "duration": 151,
    "start_time": "2024-07-13T15:08:15.977Z"
   },
   {
    "duration": 2368,
    "start_time": "2024-07-13T15:09:14.813Z"
   },
   {
    "duration": 2555,
    "start_time": "2024-07-13T15:09:19.901Z"
   },
   {
    "duration": 7,
    "start_time": "2024-07-13T15:09:28.786Z"
   },
   {
    "duration": 5,
    "start_time": "2024-07-13T15:09:29.815Z"
   },
   {
    "duration": 1344,
    "start_time": "2024-07-13T15:09:46.217Z"
   },
   {
    "duration": 1266,
    "start_time": "2024-07-13T15:09:47.763Z"
   },
   {
    "duration": 1988,
    "start_time": "2024-07-13T15:10:06.950Z"
   },
   {
    "duration": 4,
    "start_time": "2024-07-13T15:10:16.443Z"
   },
   {
    "duration": 117,
    "start_time": "2024-07-13T15:10:17.849Z"
   },
   {
    "duration": 24,
    "start_time": "2024-07-13T15:10:18.892Z"
   },
   {
    "duration": 587,
    "start_time": "2024-07-13T15:10:26.847Z"
   },
   {
    "duration": 927,
    "start_time": "2024-07-13T15:10:29.360Z"
   },
   {
    "duration": 112,
    "start_time": "2024-07-13T15:11:26.403Z"
   },
   {
    "duration": 5,
    "start_time": "2024-07-13T15:11:28.523Z"
   },
   {
    "duration": 19,
    "start_time": "2024-07-13T15:11:29.464Z"
   },
   {
    "duration": 69,
    "start_time": "2024-07-13T15:11:49.252Z"
   },
   {
    "duration": 10,
    "start_time": "2024-07-13T15:11:56.858Z"
   },
   {
    "duration": 3,
    "start_time": "2024-07-13T15:11:58.465Z"
   },
   {
    "duration": 23,
    "start_time": "2024-07-13T15:11:59.437Z"
   },
   {
    "duration": 12,
    "start_time": "2024-07-13T15:12:03.429Z"
   },
   {
    "duration": 7,
    "start_time": "2024-07-13T15:12:04.913Z"
   },
   {
    "duration": 5,
    "start_time": "2024-07-13T15:12:05.850Z"
   },
   {
    "duration": 29607,
    "start_time": "2024-07-13T15:12:10.060Z"
   },
   {
    "duration": 7,
    "start_time": "2024-07-13T15:13:04.249Z"
   },
   {
    "duration": 125,
    "start_time": "2024-07-13T15:13:07.918Z"
   },
   {
    "duration": 11,
    "start_time": "2024-07-13T15:14:10.143Z"
   },
   {
    "duration": 8,
    "start_time": "2024-07-13T15:14:11.288Z"
   },
   {
    "duration": 22407,
    "start_time": "2024-07-13T15:14:15.755Z"
   },
   {
    "duration": 5,
    "start_time": "2024-07-13T15:14:56.871Z"
   },
   {
    "duration": 129,
    "start_time": "2024-07-13T15:15:00.342Z"
   },
   {
    "duration": 12,
    "start_time": "2024-07-13T15:15:12.731Z"
   },
   {
    "duration": 9,
    "start_time": "2024-07-13T15:15:45.177Z"
   },
   {
    "duration": 8,
    "start_time": "2024-07-13T15:22:32.558Z"
   },
   {
    "duration": 86,
    "start_time": "2024-07-13T15:23:18.339Z"
   },
   {
    "duration": 137,
    "start_time": "2024-07-13T15:24:01.437Z"
   },
   {
    "duration": 6,
    "start_time": "2024-07-13T15:24:27.834Z"
   },
   {
    "duration": 138,
    "start_time": "2024-07-13T15:24:30.481Z"
   },
   {
    "duration": 7,
    "start_time": "2024-07-13T15:24:44.556Z"
   },
   {
    "duration": 137,
    "start_time": "2024-07-13T15:24:53.617Z"
   },
   {
    "duration": 3326,
    "start_time": "2024-07-14T09:01:34.003Z"
   },
   {
    "duration": 3678,
    "start_time": "2024-07-14T09:01:37.332Z"
   },
   {
    "duration": 137,
    "start_time": "2024-07-14T09:01:41.012Z"
   },
   {
    "duration": 18,
    "start_time": "2024-07-14T09:01:41.151Z"
   },
   {
    "duration": 17,
    "start_time": "2024-07-14T09:01:41.170Z"
   },
   {
    "duration": 114,
    "start_time": "2024-07-14T09:01:41.189Z"
   },
   {
    "duration": 9,
    "start_time": "2024-07-14T09:01:41.305Z"
   },
   {
    "duration": 13,
    "start_time": "2024-07-14T09:01:41.315Z"
   },
   {
    "duration": 86,
    "start_time": "2024-07-14T09:01:41.330Z"
   },
   {
    "duration": 10,
    "start_time": "2024-07-14T09:01:41.419Z"
   },
   {
    "duration": 15,
    "start_time": "2024-07-14T09:01:41.431Z"
   },
   {
    "duration": 71,
    "start_time": "2024-07-14T09:01:41.448Z"
   },
   {
    "duration": 8,
    "start_time": "2024-07-14T09:01:41.521Z"
   },
   {
    "duration": 12,
    "start_time": "2024-07-14T09:01:41.530Z"
   },
   {
    "duration": 12,
    "start_time": "2024-07-14T09:01:41.544Z"
   },
   {
    "duration": 8,
    "start_time": "2024-07-14T09:01:41.557Z"
   },
   {
    "duration": 7,
    "start_time": "2024-07-14T09:01:41.566Z"
   },
   {
    "duration": 5,
    "start_time": "2024-07-14T09:01:41.574Z"
   },
   {
    "duration": 11,
    "start_time": "2024-07-14T09:01:41.581Z"
   },
   {
    "duration": 15,
    "start_time": "2024-07-14T09:01:41.593Z"
   },
   {
    "duration": 4,
    "start_time": "2024-07-14T09:01:41.609Z"
   },
   {
    "duration": 15,
    "start_time": "2024-07-14T09:01:41.614Z"
   },
   {
    "duration": 12,
    "start_time": "2024-07-14T09:01:41.630Z"
   },
   {
    "duration": 7,
    "start_time": "2024-07-14T09:01:41.643Z"
   },
   {
    "duration": 11,
    "start_time": "2024-07-14T09:01:41.652Z"
   },
   {
    "duration": 14,
    "start_time": "2024-07-14T09:01:41.664Z"
   },
   {
    "duration": 726,
    "start_time": "2024-07-14T09:01:41.680Z"
   },
   {
    "duration": 12,
    "start_time": "2024-07-14T09:01:42.410Z"
   },
   {
    "duration": 6,
    "start_time": "2024-07-14T09:01:42.423Z"
   },
   {
    "duration": 4,
    "start_time": "2024-07-14T09:01:42.430Z"
   },
   {
    "duration": 6,
    "start_time": "2024-07-14T09:01:42.436Z"
   },
   {
    "duration": 8,
    "start_time": "2024-07-14T09:01:42.443Z"
   },
   {
    "duration": 57,
    "start_time": "2024-07-14T09:01:42.452Z"
   },
   {
    "duration": 6,
    "start_time": "2024-07-14T09:01:42.512Z"
   },
   {
    "duration": 6,
    "start_time": "2024-07-14T09:01:42.519Z"
   },
   {
    "duration": 14,
    "start_time": "2024-07-14T09:01:42.526Z"
   },
   {
    "duration": 525,
    "start_time": "2024-07-14T09:01:42.542Z"
   },
   {
    "duration": 418,
    "start_time": "2024-07-14T09:01:43.069Z"
   },
   {
    "duration": 425,
    "start_time": "2024-07-14T09:01:43.489Z"
   },
   {
    "duration": 4,
    "start_time": "2024-07-14T09:01:43.915Z"
   },
   {
    "duration": 461,
    "start_time": "2024-07-14T09:01:43.921Z"
   },
   {
    "duration": 564,
    "start_time": "2024-07-14T09:01:44.384Z"
   },
   {
    "duration": 8,
    "start_time": "2024-07-14T09:01:44.950Z"
   },
   {
    "duration": 25,
    "start_time": "2024-07-14T09:01:44.959Z"
   },
   {
    "duration": 11,
    "start_time": "2024-07-14T09:01:44.986Z"
   },
   {
    "duration": 46,
    "start_time": "2024-07-14T09:01:44.999Z"
   },
   {
    "duration": 26,
    "start_time": "2024-07-14T09:01:45.047Z"
   },
   {
    "duration": 27,
    "start_time": "2024-07-14T09:01:45.074Z"
   },
   {
    "duration": 391,
    "start_time": "2024-07-14T09:01:45.103Z"
   },
   {
    "duration": 16,
    "start_time": "2024-07-14T09:01:45.495Z"
   },
   {
    "duration": 15,
    "start_time": "2024-07-14T09:01:45.513Z"
   },
   {
    "duration": 748,
    "start_time": "2024-07-14T09:01:45.529Z"
   },
   {
    "duration": 7,
    "start_time": "2024-07-14T09:01:46.279Z"
   },
   {
    "duration": 9,
    "start_time": "2024-07-14T09:01:46.288Z"
   },
   {
    "duration": 119,
    "start_time": "2024-07-14T09:01:46.298Z"
   },
   {
    "duration": 24,
    "start_time": "2024-07-14T09:01:46.419Z"
   },
   {
    "duration": 24,
    "start_time": "2024-07-14T09:01:46.445Z"
   },
   {
    "duration": 10,
    "start_time": "2024-07-14T09:01:46.470Z"
   },
   {
    "duration": 37,
    "start_time": "2024-07-14T09:01:46.481Z"
   },
   {
    "duration": 529,
    "start_time": "2024-07-14T09:01:46.520Z"
   },
   {
    "duration": 160,
    "start_time": "2024-07-14T09:01:47.051Z"
   },
   {
    "duration": 161,
    "start_time": "2024-07-14T09:01:47.213Z"
   },
   {
    "duration": 281,
    "start_time": "2024-07-14T09:01:47.375Z"
   },
   {
    "duration": 159,
    "start_time": "2024-07-14T09:01:47.658Z"
   },
   {
    "duration": 549,
    "start_time": "2024-07-14T09:01:47.819Z"
   },
   {
    "duration": 181,
    "start_time": "2024-07-14T09:01:48.370Z"
   },
   {
    "duration": 147,
    "start_time": "2024-07-14T09:01:48.553Z"
   },
   {
    "duration": 171,
    "start_time": "2024-07-14T09:01:48.704Z"
   },
   {
    "duration": 168,
    "start_time": "2024-07-14T09:01:48.877Z"
   },
   {
    "duration": 150,
    "start_time": "2024-07-14T09:01:49.047Z"
   },
   {
    "duration": 156,
    "start_time": "2024-07-14T09:01:49.199Z"
   },
   {
    "duration": 163,
    "start_time": "2024-07-14T09:01:49.356Z"
   },
   {
    "duration": 274,
    "start_time": "2024-07-14T09:01:49.521Z"
   },
   {
    "duration": 9,
    "start_time": "2024-07-14T09:01:49.797Z"
   },
   {
    "duration": 2388,
    "start_time": "2024-07-14T09:01:49.808Z"
   },
   {
    "duration": 2660,
    "start_time": "2024-07-14T09:01:52.198Z"
   },
   {
    "duration": 8,
    "start_time": "2024-07-14T09:01:54.860Z"
   },
   {
    "duration": 9,
    "start_time": "2024-07-14T09:01:54.869Z"
   },
   {
    "duration": 1389,
    "start_time": "2024-07-14T09:01:54.880Z"
   },
   {
    "duration": 1495,
    "start_time": "2024-07-14T09:01:56.270Z"
   },
   {
    "duration": 1995,
    "start_time": "2024-07-14T09:01:57.767Z"
   },
   {
    "duration": 4,
    "start_time": "2024-07-14T09:01:59.771Z"
   },
   {
    "duration": 148,
    "start_time": "2024-07-14T09:01:59.777Z"
   },
   {
    "duration": 21,
    "start_time": "2024-07-14T09:01:59.926Z"
   },
   {
    "duration": 574,
    "start_time": "2024-07-14T09:01:59.949Z"
   },
   {
    "duration": 1009,
    "start_time": "2024-07-14T09:02:00.524Z"
   },
   {
    "duration": 4,
    "start_time": "2024-07-14T09:02:01.535Z"
   },
   {
    "duration": 35,
    "start_time": "2024-07-14T09:02:01.541Z"
   },
   {
    "duration": 19,
    "start_time": "2024-07-14T09:02:01.578Z"
   },
   {
    "duration": 32,
    "start_time": "2024-07-14T09:02:01.598Z"
   },
   {
    "duration": 29,
    "start_time": "2024-07-14T09:02:01.632Z"
   },
   {
    "duration": 47,
    "start_time": "2024-07-14T09:02:01.663Z"
   },
   {
    "duration": 44,
    "start_time": "2024-07-14T09:02:01.712Z"
   },
   {
    "duration": 59,
    "start_time": "2024-07-14T09:02:01.757Z"
   },
   {
    "duration": 29692,
    "start_time": "2024-07-14T09:02:01.817Z"
   },
   {
    "duration": 96,
    "start_time": "2024-07-14T09:02:31.512Z"
   },
   {
    "duration": 324,
    "start_time": "2024-07-14T09:02:31.610Z"
   },
   {
    "duration": 11,
    "start_time": "2024-07-14T09:02:31.936Z"
   },
   {
    "duration": 63,
    "start_time": "2024-07-14T09:02:31.948Z"
   },
   {
    "duration": 18464,
    "start_time": "2024-07-14T09:02:32.013Z"
   },
   {
    "duration": 4,
    "start_time": "2024-07-14T09:02:50.479Z"
   },
   {
    "duration": 136,
    "start_time": "2024-07-14T09:02:50.485Z"
   },
   {
    "duration": 12,
    "start_time": "2024-07-14T09:02:50.623Z"
   },
   {
    "duration": 11,
    "start_time": "2024-07-14T09:02:50.636Z"
   },
   {
    "duration": 8,
    "start_time": "2024-07-14T09:02:50.649Z"
   },
   {
    "duration": 681,
    "start_time": "2024-07-14T09:35:27.007Z"
   },
   {
    "duration": 3173,
    "start_time": "2024-07-15T07:06:05.956Z"
   },
   {
    "duration": 1467,
    "start_time": "2024-07-15T07:06:10.567Z"
   },
   {
    "duration": 141,
    "start_time": "2024-07-15T07:06:18.869Z"
   },
   {
    "duration": 123,
    "start_time": "2024-07-15T07:06:24.212Z"
   },
   {
    "duration": 123,
    "start_time": "2024-07-15T07:06:30.526Z"
   },
   {
    "duration": 95,
    "start_time": "2024-07-15T07:06:35.099Z"
   },
   {
    "duration": 5,
    "start_time": "2024-07-15T07:06:41.070Z"
   },
   {
    "duration": 5,
    "start_time": "2024-07-15T07:06:49.929Z"
   },
   {
    "duration": 4,
    "start_time": "2024-07-15T07:07:04.441Z"
   },
   {
    "duration": 4,
    "start_time": "2024-07-15T07:07:06.709Z"
   },
   {
    "duration": 4,
    "start_time": "2024-07-15T07:07:12.970Z"
   },
   {
    "duration": 624,
    "start_time": "2024-07-15T07:07:20.688Z"
   },
   {
    "duration": 4,
    "start_time": "2024-07-15T07:07:30.729Z"
   },
   {
    "duration": 14,
    "start_time": "2024-07-15T07:07:39.846Z"
   },
   {
    "duration": 5,
    "start_time": "2024-07-15T07:14:22.098Z"
   },
   {
    "duration": 4,
    "start_time": "2024-07-15T07:14:54.954Z"
   },
   {
    "duration": 4,
    "start_time": "2024-07-15T07:14:55.729Z"
   },
   {
    "duration": 4,
    "start_time": "2024-07-15T07:14:56.629Z"
   },
   {
    "duration": 20,
    "start_time": "2024-07-15T07:15:48.340Z"
   },
   {
    "duration": 8,
    "start_time": "2024-07-15T07:15:54.719Z"
   },
   {
    "duration": 513,
    "start_time": "2024-07-15T07:17:08.116Z"
   },
   {
    "duration": 534,
    "start_time": "2024-07-15T07:18:11.556Z"
   },
   {
    "duration": 494,
    "start_time": "2024-07-15T07:18:43.324Z"
   },
   {
    "duration": 511,
    "start_time": "2024-07-15T07:19:46.851Z"
   },
   {
    "duration": 524,
    "start_time": "2024-07-15T07:20:12.925Z"
   },
   {
    "duration": 437,
    "start_time": "2024-07-15T07:20:28.176Z"
   },
   {
    "duration": 446,
    "start_time": "2024-07-15T07:22:15.434Z"
   },
   {
    "duration": 1989,
    "start_time": "2024-07-15T07:22:59.867Z"
   },
   {
    "duration": 2112,
    "start_time": "2024-07-15T07:23:03.952Z"
   },
   {
    "duration": 7,
    "start_time": "2024-07-15T07:23:11.801Z"
   },
   {
    "duration": 5,
    "start_time": "2024-07-15T07:23:13.726Z"
   },
   {
    "duration": 1114,
    "start_time": "2024-07-15T07:23:15.853Z"
   },
   {
    "duration": 1063,
    "start_time": "2024-07-15T07:23:21.342Z"
   },
   {
    "duration": 1482,
    "start_time": "2024-07-15T07:23:35.633Z"
   },
   {
    "duration": 3,
    "start_time": "2024-07-15T07:23:38.824Z"
   },
   {
    "duration": 103,
    "start_time": "2024-07-15T07:23:41.532Z"
   },
   {
    "duration": 503,
    "start_time": "2024-07-15T07:23:47.183Z"
   },
   {
    "duration": 832,
    "start_time": "2024-07-15T07:23:49.104Z"
   },
   {
    "duration": 4,
    "start_time": "2024-07-15T07:24:04.125Z"
   },
   {
    "duration": 11,
    "start_time": "2024-07-15T07:24:09.044Z"
   },
   {
    "duration": 6,
    "start_time": "2024-07-15T07:24:50.939Z"
   },
   {
    "duration": 3,
    "start_time": "2024-07-15T07:24:59.542Z"
   },
   {
    "duration": 17,
    "start_time": "2024-07-15T07:25:02.973Z"
   },
   {
    "duration": 9,
    "start_time": "2024-07-15T07:25:04.531Z"
   },
   {
    "duration": 6,
    "start_time": "2024-07-15T07:25:09.665Z"
   },
   {
    "duration": 4,
    "start_time": "2024-07-15T07:25:11.839Z"
   },
   {
    "duration": 15046,
    "start_time": "2024-07-15T07:25:13.860Z"
   },
   {
    "duration": 5,
    "start_time": "2024-07-15T07:25:42.343Z"
   },
   {
    "duration": 9,
    "start_time": "2024-07-15T07:26:13.707Z"
   },
   {
    "duration": 7,
    "start_time": "2024-07-15T07:26:15.519Z"
   },
   {
    "duration": 20897,
    "start_time": "2024-07-15T07:26:22.448Z"
   },
   {
    "duration": 8,
    "start_time": "2024-07-15T07:28:08.028Z"
   },
   {
    "duration": 7,
    "start_time": "2024-07-15T07:29:09.268Z"
   },
   {
    "duration": 101,
    "start_time": "2024-07-15T07:34:30.838Z"
   },
   {
    "duration": 8,
    "start_time": "2024-07-15T07:36:28.232Z"
   },
   {
    "duration": 10,
    "start_time": "2024-07-15T07:36:36.150Z"
   },
   {
    "duration": 140,
    "start_time": "2024-07-15T07:36:47.385Z"
   },
   {
    "duration": 7,
    "start_time": "2024-07-15T07:37:12.870Z"
   },
   {
    "duration": 2596,
    "start_time": "2024-07-15T07:37:40.932Z"
   },
   {
    "duration": 1315,
    "start_time": "2024-07-15T07:37:43.531Z"
   },
   {
    "duration": 38,
    "start_time": "2024-07-15T07:37:44.848Z"
   },
   {
    "duration": 13,
    "start_time": "2024-07-15T07:37:44.887Z"
   },
   {
    "duration": 12,
    "start_time": "2024-07-15T07:37:44.901Z"
   },
   {
    "duration": 23,
    "start_time": "2024-07-15T07:37:44.914Z"
   },
   {
    "duration": 7,
    "start_time": "2024-07-15T07:37:44.938Z"
   },
   {
    "duration": 27,
    "start_time": "2024-07-15T07:37:44.946Z"
   },
   {
    "duration": 67,
    "start_time": "2024-07-15T07:37:44.974Z"
   },
   {
    "duration": 33,
    "start_time": "2024-07-15T07:37:45.044Z"
   },
   {
    "duration": 70,
    "start_time": "2024-07-15T07:37:45.079Z"
   },
   {
    "duration": 44,
    "start_time": "2024-07-15T07:37:45.150Z"
   },
   {
    "duration": 7,
    "start_time": "2024-07-15T07:37:45.196Z"
   },
   {
    "duration": 41,
    "start_time": "2024-07-15T07:37:45.205Z"
   },
   {
    "duration": 40,
    "start_time": "2024-07-15T07:37:45.248Z"
   },
   {
    "duration": 10,
    "start_time": "2024-07-15T07:37:45.289Z"
   },
   {
    "duration": 22,
    "start_time": "2024-07-15T07:37:45.300Z"
   },
   {
    "duration": 28,
    "start_time": "2024-07-15T07:37:45.323Z"
   },
   {
    "duration": 26,
    "start_time": "2024-07-15T07:37:45.352Z"
   },
   {
    "duration": 19,
    "start_time": "2024-07-15T07:37:45.379Z"
   },
   {
    "duration": 10,
    "start_time": "2024-07-15T07:37:45.400Z"
   },
   {
    "duration": 19,
    "start_time": "2024-07-15T07:37:45.411Z"
   },
   {
    "duration": 22,
    "start_time": "2024-07-15T07:37:45.432Z"
   },
   {
    "duration": 14,
    "start_time": "2024-07-15T07:37:45.455Z"
   },
   {
    "duration": 11,
    "start_time": "2024-07-15T07:37:45.470Z"
   },
   {
    "duration": 22,
    "start_time": "2024-07-15T07:37:45.482Z"
   },
   {
    "duration": 715,
    "start_time": "2024-07-15T07:37:45.505Z"
   },
   {
    "duration": 10,
    "start_time": "2024-07-15T07:37:46.224Z"
   },
   {
    "duration": 36,
    "start_time": "2024-07-15T07:37:46.236Z"
   },
   {
    "duration": 15,
    "start_time": "2024-07-15T07:37:46.274Z"
   },
   {
    "duration": 20,
    "start_time": "2024-07-15T07:37:46.290Z"
   },
   {
    "duration": 13,
    "start_time": "2024-07-15T07:37:46.311Z"
   },
   {
    "duration": 17,
    "start_time": "2024-07-15T07:37:46.326Z"
   },
   {
    "duration": 5,
    "start_time": "2024-07-15T07:37:46.344Z"
   },
   {
    "duration": 8,
    "start_time": "2024-07-15T07:37:46.350Z"
   },
   {
    "duration": 15,
    "start_time": "2024-07-15T07:37:46.359Z"
   },
   {
    "duration": 428,
    "start_time": "2024-07-15T07:37:46.376Z"
   },
   {
    "duration": 347,
    "start_time": "2024-07-15T07:37:46.805Z"
   },
   {
    "duration": 388,
    "start_time": "2024-07-15T07:37:47.154Z"
   },
   {
    "duration": 4,
    "start_time": "2024-07-15T07:37:47.544Z"
   },
   {
    "duration": 377,
    "start_time": "2024-07-15T07:37:47.549Z"
   },
   {
    "duration": 481,
    "start_time": "2024-07-15T07:37:47.928Z"
   },
   {
    "duration": 7,
    "start_time": "2024-07-15T07:37:48.411Z"
   },
   {
    "duration": 11,
    "start_time": "2024-07-15T07:37:48.419Z"
   },
   {
    "duration": 6,
    "start_time": "2024-07-15T07:37:48.432Z"
   },
   {
    "duration": 6,
    "start_time": "2024-07-15T07:37:48.440Z"
   },
   {
    "duration": 4,
    "start_time": "2024-07-15T07:37:48.447Z"
   },
   {
    "duration": 18,
    "start_time": "2024-07-15T07:37:48.452Z"
   },
   {
    "duration": 352,
    "start_time": "2024-07-15T07:37:48.472Z"
   },
   {
    "duration": 10,
    "start_time": "2024-07-15T07:37:48.825Z"
   },
   {
    "duration": 14,
    "start_time": "2024-07-15T07:37:48.836Z"
   },
   {
    "duration": 668,
    "start_time": "2024-07-15T07:37:48.852Z"
   },
   {
    "duration": 6,
    "start_time": "2024-07-15T07:37:49.522Z"
   },
   {
    "duration": 14,
    "start_time": "2024-07-15T07:37:49.530Z"
   },
   {
    "duration": 98,
    "start_time": "2024-07-15T07:37:49.546Z"
   },
   {
    "duration": 20,
    "start_time": "2024-07-15T07:37:49.646Z"
   },
   {
    "duration": 158,
    "start_time": "2024-07-15T07:37:49.667Z"
   },
   {
    "duration": 8,
    "start_time": "2024-07-15T07:37:49.827Z"
   },
   {
    "duration": 11,
    "start_time": "2024-07-15T07:37:49.837Z"
   },
   {
    "duration": 436,
    "start_time": "2024-07-15T07:37:49.850Z"
   },
   {
    "duration": 128,
    "start_time": "2024-07-15T07:37:50.287Z"
   },
   {
    "duration": 126,
    "start_time": "2024-07-15T07:37:50.416Z"
   },
   {
    "duration": 227,
    "start_time": "2024-07-15T07:37:50.544Z"
   },
   {
    "duration": 126,
    "start_time": "2024-07-15T07:37:50.773Z"
   },
   {
    "duration": 459,
    "start_time": "2024-07-15T07:37:50.902Z"
   },
   {
    "duration": 134,
    "start_time": "2024-07-15T07:37:51.362Z"
   },
   {
    "duration": 124,
    "start_time": "2024-07-15T07:37:51.501Z"
   },
   {
    "duration": 144,
    "start_time": "2024-07-15T07:37:51.627Z"
   },
   {
    "duration": 142,
    "start_time": "2024-07-15T07:37:51.772Z"
   },
   {
    "duration": 146,
    "start_time": "2024-07-15T07:37:51.916Z"
   },
   {
    "duration": 135,
    "start_time": "2024-07-15T07:37:52.064Z"
   },
   {
    "duration": 145,
    "start_time": "2024-07-15T07:37:52.202Z"
   },
   {
    "duration": 231,
    "start_time": "2024-07-15T07:37:52.349Z"
   },
   {
    "duration": 5,
    "start_time": "2024-07-15T07:37:52.581Z"
   },
   {
    "duration": 2040,
    "start_time": "2024-07-15T07:37:52.601Z"
   },
   {
    "duration": 2076,
    "start_time": "2024-07-15T07:37:54.642Z"
   },
   {
    "duration": 7,
    "start_time": "2024-07-15T07:37:56.720Z"
   },
   {
    "duration": 23,
    "start_time": "2024-07-15T07:37:56.729Z"
   },
   {
    "duration": 1138,
    "start_time": "2024-07-15T07:37:56.754Z"
   },
   {
    "duration": 1191,
    "start_time": "2024-07-15T07:37:57.894Z"
   },
   {
    "duration": 1591,
    "start_time": "2024-07-15T07:37:59.087Z"
   },
   {
    "duration": 3,
    "start_time": "2024-07-15T07:38:00.683Z"
   },
   {
    "duration": 253,
    "start_time": "2024-07-15T07:38:00.687Z"
   },
   {
    "duration": 18,
    "start_time": "2024-07-15T07:38:00.942Z"
   },
   {
    "duration": 530,
    "start_time": "2024-07-15T07:38:00.961Z"
   },
   {
    "duration": 852,
    "start_time": "2024-07-15T07:38:01.493Z"
   },
   {
    "duration": 4,
    "start_time": "2024-07-15T07:38:02.346Z"
   },
   {
    "duration": 45,
    "start_time": "2024-07-15T07:38:02.352Z"
   },
   {
    "duration": 18,
    "start_time": "2024-07-15T07:38:02.398Z"
   },
   {
    "duration": 32,
    "start_time": "2024-07-15T07:38:02.417Z"
   },
   {
    "duration": 40,
    "start_time": "2024-07-15T07:38:02.450Z"
   },
   {
    "duration": 23,
    "start_time": "2024-07-15T07:38:02.491Z"
   },
   {
    "duration": 6,
    "start_time": "2024-07-15T07:38:02.515Z"
   },
   {
    "duration": 23,
    "start_time": "2024-07-15T07:38:02.523Z"
   },
   {
    "duration": 16753,
    "start_time": "2024-07-15T07:38:02.548Z"
   },
   {
    "duration": 199,
    "start_time": "2024-07-15T07:38:19.305Z"
   },
   {
    "duration": 0,
    "start_time": "2024-07-15T07:38:19.505Z"
   },
   {
    "duration": 0,
    "start_time": "2024-07-15T07:38:19.506Z"
   },
   {
    "duration": 0,
    "start_time": "2024-07-15T07:38:19.507Z"
   },
   {
    "duration": 0,
    "start_time": "2024-07-15T07:38:19.508Z"
   },
   {
    "duration": 0,
    "start_time": "2024-07-15T07:38:19.509Z"
   },
   {
    "duration": 0,
    "start_time": "2024-07-15T07:38:19.510Z"
   },
   {
    "duration": 0,
    "start_time": "2024-07-15T07:38:19.511Z"
   },
   {
    "duration": 0,
    "start_time": "2024-07-15T07:38:19.512Z"
   },
   {
    "duration": 9,
    "start_time": "2024-07-15T07:45:49.091Z"
   },
   {
    "duration": 7,
    "start_time": "2024-07-15T07:45:50.502Z"
   },
   {
    "duration": 22376,
    "start_time": "2024-07-15T07:45:51.730Z"
   },
   {
    "duration": 10,
    "start_time": "2024-07-15T07:52:44.844Z"
   },
   {
    "duration": 7,
    "start_time": "2024-07-15T07:53:00.006Z"
   },
   {
    "duration": 131,
    "start_time": "2024-07-15T07:53:04.376Z"
   },
   {
    "duration": 8,
    "start_time": "2024-07-15T07:53:23.310Z"
   },
   {
    "duration": 99,
    "start_time": "2024-07-15T07:53:35.950Z"
   },
   {
    "duration": 221,
    "start_time": "2024-07-15T07:53:51.702Z"
   },
   {
    "duration": 136,
    "start_time": "2024-07-15T07:54:19.567Z"
   },
   {
    "duration": 143,
    "start_time": "2024-07-15T07:55:53.550Z"
   },
   {
    "duration": 147,
    "start_time": "2024-07-15T07:56:28.687Z"
   },
   {
    "duration": 142,
    "start_time": "2024-07-15T07:56:44.537Z"
   },
   {
    "duration": 6,
    "start_time": "2024-07-15T08:00:19.943Z"
   },
   {
    "duration": 8,
    "start_time": "2024-07-15T08:01:08.832Z"
   },
   {
    "duration": 110,
    "start_time": "2024-07-15T08:03:20.688Z"
   },
   {
    "duration": 8,
    "start_time": "2024-07-15T08:04:48.489Z"
   },
   {
    "duration": 4,
    "start_time": "2024-07-15T08:05:43.188Z"
   },
   {
    "duration": 104,
    "start_time": "2024-07-15T08:05:44.128Z"
   },
   {
    "duration": 6,
    "start_time": "2024-07-15T08:06:01.232Z"
   },
   {
    "duration": 111,
    "start_time": "2024-07-15T08:06:15.848Z"
   },
   {
    "duration": 7,
    "start_time": "2024-07-15T08:06:59.179Z"
   },
   {
    "duration": 109,
    "start_time": "2024-07-15T08:07:05.209Z"
   },
   {
    "duration": 8,
    "start_time": "2024-07-15T08:15:58.433Z"
   },
   {
    "duration": 8,
    "start_time": "2024-07-15T08:16:14.862Z"
   },
   {
    "duration": 7,
    "start_time": "2024-07-15T08:18:41.460Z"
   },
   {
    "duration": 8715,
    "start_time": "2024-07-15T08:19:15.562Z"
   },
   {
    "duration": 15,
    "start_time": "2024-07-15T08:19:29.781Z"
   },
   {
    "duration": 2365,
    "start_time": "2024-07-15T08:23:57.174Z"
   },
   {
    "duration": 5630,
    "start_time": "2024-07-15T08:26:10.506Z"
   },
   {
    "duration": 1163,
    "start_time": "2024-07-15T08:26:16.139Z"
   },
   {
    "duration": 39,
    "start_time": "2024-07-15T08:26:17.304Z"
   },
   {
    "duration": 13,
    "start_time": "2024-07-15T08:26:17.345Z"
   },
   {
    "duration": 10,
    "start_time": "2024-07-15T08:26:17.360Z"
   },
   {
    "duration": 27,
    "start_time": "2024-07-15T08:26:17.372Z"
   },
   {
    "duration": 7,
    "start_time": "2024-07-15T08:26:17.400Z"
   },
   {
    "duration": 19,
    "start_time": "2024-07-15T08:26:17.409Z"
   },
   {
    "duration": 21,
    "start_time": "2024-07-15T08:26:17.429Z"
   },
   {
    "duration": 9,
    "start_time": "2024-07-15T08:26:17.452Z"
   },
   {
    "duration": 46,
    "start_time": "2024-07-15T08:26:17.462Z"
   },
   {
    "duration": 25,
    "start_time": "2024-07-15T08:26:17.510Z"
   },
   {
    "duration": 6,
    "start_time": "2024-07-15T08:26:17.537Z"
   },
   {
    "duration": 18,
    "start_time": "2024-07-15T08:26:17.544Z"
   },
   {
    "duration": 9,
    "start_time": "2024-07-15T08:26:17.564Z"
   },
   {
    "duration": 9,
    "start_time": "2024-07-15T08:26:17.574Z"
   },
   {
    "duration": 21,
    "start_time": "2024-07-15T08:26:17.585Z"
   },
   {
    "duration": 13,
    "start_time": "2024-07-15T08:26:17.607Z"
   },
   {
    "duration": 16,
    "start_time": "2024-07-15T08:26:17.621Z"
   },
   {
    "duration": 7,
    "start_time": "2024-07-15T08:26:17.638Z"
   },
   {
    "duration": 18,
    "start_time": "2024-07-15T08:26:17.647Z"
   },
   {
    "duration": 10,
    "start_time": "2024-07-15T08:26:17.666Z"
   },
   {
    "duration": 12,
    "start_time": "2024-07-15T08:26:17.678Z"
   },
   {
    "duration": 21,
    "start_time": "2024-07-15T08:26:17.692Z"
   },
   {
    "duration": 7,
    "start_time": "2024-07-15T08:26:17.715Z"
   },
   {
    "duration": 21,
    "start_time": "2024-07-15T08:26:17.724Z"
   },
   {
    "duration": 656,
    "start_time": "2024-07-15T08:26:17.747Z"
   },
   {
    "duration": 10,
    "start_time": "2024-07-15T08:26:18.408Z"
   },
   {
    "duration": 6,
    "start_time": "2024-07-15T08:26:18.420Z"
   },
   {
    "duration": 18,
    "start_time": "2024-07-15T08:26:18.428Z"
   },
   {
    "duration": 7,
    "start_time": "2024-07-15T08:26:18.448Z"
   },
   {
    "duration": 11,
    "start_time": "2024-07-15T08:26:18.457Z"
   },
   {
    "duration": 19,
    "start_time": "2024-07-15T08:26:18.469Z"
   },
   {
    "duration": 9,
    "start_time": "2024-07-15T08:26:18.489Z"
   },
   {
    "duration": 5,
    "start_time": "2024-07-15T08:26:18.500Z"
   },
   {
    "duration": 9,
    "start_time": "2024-07-15T08:26:18.507Z"
   },
   {
    "duration": 357,
    "start_time": "2024-07-15T08:26:18.517Z"
   },
   {
    "duration": 404,
    "start_time": "2024-07-15T08:26:18.876Z"
   },
   {
    "duration": 373,
    "start_time": "2024-07-15T08:26:19.282Z"
   },
   {
    "duration": 4,
    "start_time": "2024-07-15T08:26:19.656Z"
   },
   {
    "duration": 385,
    "start_time": "2024-07-15T08:26:19.661Z"
   },
   {
    "duration": 413,
    "start_time": "2024-07-15T08:26:20.047Z"
   },
   {
    "duration": 8,
    "start_time": "2024-07-15T08:26:20.461Z"
   },
   {
    "duration": 32,
    "start_time": "2024-07-15T08:26:20.470Z"
   },
   {
    "duration": 8,
    "start_time": "2024-07-15T08:26:20.503Z"
   },
   {
    "duration": 7,
    "start_time": "2024-07-15T08:26:20.512Z"
   },
   {
    "duration": 52,
    "start_time": "2024-07-15T08:26:20.520Z"
   },
   {
    "duration": 63,
    "start_time": "2024-07-15T08:26:20.573Z"
   },
   {
    "duration": 474,
    "start_time": "2024-07-15T08:26:20.638Z"
   },
   {
    "duration": 11,
    "start_time": "2024-07-15T08:26:21.113Z"
   },
   {
    "duration": 18,
    "start_time": "2024-07-15T08:26:21.126Z"
   },
   {
    "duration": 643,
    "start_time": "2024-07-15T08:26:21.145Z"
   },
   {
    "duration": 6,
    "start_time": "2024-07-15T08:26:21.790Z"
   },
   {
    "duration": 13,
    "start_time": "2024-07-15T08:26:21.797Z"
   },
   {
    "duration": 115,
    "start_time": "2024-07-15T08:26:21.812Z"
   },
   {
    "duration": 20,
    "start_time": "2024-07-15T08:26:21.928Z"
   },
   {
    "duration": 110,
    "start_time": "2024-07-15T08:26:21.950Z"
   },
   {
    "duration": 9,
    "start_time": "2024-07-15T08:26:22.061Z"
   },
   {
    "duration": 13,
    "start_time": "2024-07-15T08:26:22.072Z"
   },
   {
    "duration": 443,
    "start_time": "2024-07-15T08:26:22.087Z"
   },
   {
    "duration": 152,
    "start_time": "2024-07-15T08:26:22.532Z"
   },
   {
    "duration": 153,
    "start_time": "2024-07-15T08:26:22.686Z"
   },
   {
    "duration": 131,
    "start_time": "2024-07-15T08:26:22.841Z"
   },
   {
    "duration": 206,
    "start_time": "2024-07-15T08:26:22.973Z"
   },
   {
    "duration": 485,
    "start_time": "2024-07-15T08:26:23.181Z"
   },
   {
    "duration": 134,
    "start_time": "2024-07-15T08:26:23.668Z"
   },
   {
    "duration": 145,
    "start_time": "2024-07-15T08:26:23.804Z"
   },
   {
    "duration": 136,
    "start_time": "2024-07-15T08:26:23.950Z"
   },
   {
    "duration": 144,
    "start_time": "2024-07-15T08:26:24.088Z"
   },
   {
    "duration": 143,
    "start_time": "2024-07-15T08:26:24.233Z"
   },
   {
    "duration": 131,
    "start_time": "2024-07-15T08:26:24.378Z"
   },
   {
    "duration": 131,
    "start_time": "2024-07-15T08:26:24.511Z"
   },
   {
    "duration": 143,
    "start_time": "2024-07-15T08:26:24.644Z"
   },
   {
    "duration": 4,
    "start_time": "2024-07-15T08:26:24.788Z"
   },
   {
    "duration": 2026,
    "start_time": "2024-07-15T08:26:24.793Z"
   },
   {
    "duration": 2125,
    "start_time": "2024-07-15T08:26:26.821Z"
   },
   {
    "duration": 6,
    "start_time": "2024-07-15T08:26:28.947Z"
   },
   {
    "duration": 15,
    "start_time": "2024-07-15T08:26:28.954Z"
   },
   {
    "duration": 1163,
    "start_time": "2024-07-15T08:26:28.970Z"
   },
   {
    "duration": 1104,
    "start_time": "2024-07-15T08:26:30.135Z"
   },
   {
    "duration": 1614,
    "start_time": "2024-07-15T08:26:31.241Z"
   },
   {
    "duration": 3,
    "start_time": "2024-07-15T08:26:32.861Z"
   },
   {
    "duration": 212,
    "start_time": "2024-07-15T08:26:32.865Z"
   },
   {
    "duration": 18,
    "start_time": "2024-07-15T08:26:33.079Z"
   },
   {
    "duration": 470,
    "start_time": "2024-07-15T08:26:33.101Z"
   },
   {
    "duration": 890,
    "start_time": "2024-07-15T08:26:33.573Z"
   },
   {
    "duration": 3,
    "start_time": "2024-07-15T08:26:34.465Z"
   },
   {
    "duration": 12,
    "start_time": "2024-07-15T08:26:34.469Z"
   },
   {
    "duration": 20,
    "start_time": "2024-07-15T08:26:34.482Z"
   },
   {
    "duration": 2,
    "start_time": "2024-07-15T08:26:34.504Z"
   },
   {
    "duration": 107,
    "start_time": "2024-07-15T08:26:34.507Z"
   },
   {
    "duration": 0,
    "start_time": "2024-07-15T08:26:34.616Z"
   },
   {
    "duration": 0,
    "start_time": "2024-07-15T08:26:34.617Z"
   },
   {
    "duration": 0,
    "start_time": "2024-07-15T08:26:34.618Z"
   },
   {
    "duration": 0,
    "start_time": "2024-07-15T08:26:34.618Z"
   },
   {
    "duration": 0,
    "start_time": "2024-07-15T08:26:34.619Z"
   },
   {
    "duration": 0,
    "start_time": "2024-07-15T08:26:34.620Z"
   },
   {
    "duration": 0,
    "start_time": "2024-07-15T08:26:34.621Z"
   },
   {
    "duration": 0,
    "start_time": "2024-07-15T08:26:34.622Z"
   },
   {
    "duration": 0,
    "start_time": "2024-07-15T08:26:34.622Z"
   },
   {
    "duration": 0,
    "start_time": "2024-07-15T08:26:34.624Z"
   },
   {
    "duration": 0,
    "start_time": "2024-07-15T08:26:34.625Z"
   },
   {
    "duration": 0,
    "start_time": "2024-07-15T08:26:34.626Z"
   },
   {
    "duration": 0,
    "start_time": "2024-07-15T08:26:34.627Z"
   },
   {
    "duration": 0,
    "start_time": "2024-07-15T08:26:34.628Z"
   },
   {
    "duration": 0,
    "start_time": "2024-07-15T08:26:34.628Z"
   },
   {
    "duration": 0,
    "start_time": "2024-07-15T08:26:34.629Z"
   },
   {
    "duration": 0,
    "start_time": "2024-07-15T08:26:34.630Z"
   },
   {
    "duration": 0,
    "start_time": "2024-07-15T08:26:34.631Z"
   },
   {
    "duration": 7,
    "start_time": "2024-07-15T08:36:18.912Z"
   },
   {
    "duration": 2,
    "start_time": "2024-07-15T08:36:21.821Z"
   },
   {
    "duration": 8,
    "start_time": "2024-07-15T08:36:27.719Z"
   },
   {
    "duration": 2594,
    "start_time": "2024-07-15T08:36:46.491Z"
   },
   {
    "duration": 1237,
    "start_time": "2024-07-15T08:36:49.087Z"
   },
   {
    "duration": 37,
    "start_time": "2024-07-15T08:36:50.326Z"
   },
   {
    "duration": 12,
    "start_time": "2024-07-15T08:36:50.365Z"
   },
   {
    "duration": 11,
    "start_time": "2024-07-15T08:36:50.378Z"
   },
   {
    "duration": 20,
    "start_time": "2024-07-15T08:36:50.390Z"
   },
   {
    "duration": 7,
    "start_time": "2024-07-15T08:36:50.411Z"
   },
   {
    "duration": 14,
    "start_time": "2024-07-15T08:36:50.420Z"
   },
   {
    "duration": 23,
    "start_time": "2024-07-15T08:36:50.435Z"
   },
   {
    "duration": 8,
    "start_time": "2024-07-15T08:36:50.460Z"
   },
   {
    "duration": 32,
    "start_time": "2024-07-15T08:36:50.469Z"
   },
   {
    "duration": 19,
    "start_time": "2024-07-15T08:36:50.502Z"
   },
   {
    "duration": 5,
    "start_time": "2024-07-15T08:36:50.522Z"
   },
   {
    "duration": 19,
    "start_time": "2024-07-15T08:36:50.529Z"
   },
   {
    "duration": 5,
    "start_time": "2024-07-15T08:36:50.549Z"
   },
   {
    "duration": 9,
    "start_time": "2024-07-15T08:36:50.555Z"
   },
   {
    "duration": 6,
    "start_time": "2024-07-15T08:36:50.565Z"
   },
   {
    "duration": 10,
    "start_time": "2024-07-15T08:36:50.572Z"
   },
   {
    "duration": 22,
    "start_time": "2024-07-15T08:36:50.583Z"
   },
   {
    "duration": 5,
    "start_time": "2024-07-15T08:36:50.607Z"
   },
   {
    "duration": 6,
    "start_time": "2024-07-15T08:36:50.613Z"
   },
   {
    "duration": 13,
    "start_time": "2024-07-15T08:36:50.620Z"
   },
   {
    "duration": 15,
    "start_time": "2024-07-15T08:36:50.634Z"
   },
   {
    "duration": 8,
    "start_time": "2024-07-15T08:36:50.650Z"
   },
   {
    "duration": 13,
    "start_time": "2024-07-15T08:36:50.659Z"
   },
   {
    "duration": 15,
    "start_time": "2024-07-15T08:36:50.673Z"
   },
   {
    "duration": 648,
    "start_time": "2024-07-15T08:36:50.689Z"
   },
   {
    "duration": 9,
    "start_time": "2024-07-15T08:36:51.341Z"
   },
   {
    "duration": 5,
    "start_time": "2024-07-15T08:36:51.351Z"
   },
   {
    "duration": 5,
    "start_time": "2024-07-15T08:36:51.357Z"
   },
   {
    "duration": 17,
    "start_time": "2024-07-15T08:36:51.363Z"
   },
   {
    "duration": 14,
    "start_time": "2024-07-15T08:36:51.381Z"
   },
   {
    "duration": 12,
    "start_time": "2024-07-15T08:36:51.397Z"
   },
   {
    "duration": 16,
    "start_time": "2024-07-15T08:36:51.410Z"
   },
   {
    "duration": 8,
    "start_time": "2024-07-15T08:36:51.427Z"
   },
   {
    "duration": 30,
    "start_time": "2024-07-15T08:36:51.436Z"
   },
   {
    "duration": 352,
    "start_time": "2024-07-15T08:36:51.467Z"
   },
   {
    "duration": 398,
    "start_time": "2024-07-15T08:36:51.821Z"
   },
   {
    "duration": 349,
    "start_time": "2024-07-15T08:36:52.220Z"
   },
   {
    "duration": 4,
    "start_time": "2024-07-15T08:36:52.571Z"
   },
   {
    "duration": 378,
    "start_time": "2024-07-15T08:36:52.576Z"
   },
   {
    "duration": 422,
    "start_time": "2024-07-15T08:36:52.955Z"
   },
   {
    "duration": 7,
    "start_time": "2024-07-15T08:36:53.378Z"
   },
   {
    "duration": 21,
    "start_time": "2024-07-15T08:36:53.386Z"
   },
   {
    "duration": 4,
    "start_time": "2024-07-15T08:36:53.408Z"
   },
   {
    "duration": 5,
    "start_time": "2024-07-15T08:36:53.413Z"
   },
   {
    "duration": 4,
    "start_time": "2024-07-15T08:36:53.419Z"
   },
   {
    "duration": 13,
    "start_time": "2024-07-15T08:36:53.424Z"
   },
   {
    "duration": 434,
    "start_time": "2024-07-15T08:36:53.438Z"
   },
   {
    "duration": 8,
    "start_time": "2024-07-15T08:36:53.874Z"
   },
   {
    "duration": 20,
    "start_time": "2024-07-15T08:36:53.883Z"
   },
   {
    "duration": 619,
    "start_time": "2024-07-15T08:36:53.905Z"
   },
   {
    "duration": 7,
    "start_time": "2024-07-15T08:36:54.525Z"
   },
   {
    "duration": 10,
    "start_time": "2024-07-15T08:36:54.533Z"
   },
   {
    "duration": 105,
    "start_time": "2024-07-15T08:36:54.544Z"
   },
   {
    "duration": 19,
    "start_time": "2024-07-15T08:36:54.650Z"
   },
   {
    "duration": 30,
    "start_time": "2024-07-15T08:36:54.670Z"
   },
   {
    "duration": 15,
    "start_time": "2024-07-15T08:36:54.702Z"
   },
   {
    "duration": 14,
    "start_time": "2024-07-15T08:36:54.718Z"
   },
   {
    "duration": 444,
    "start_time": "2024-07-15T08:36:54.734Z"
   },
   {
    "duration": 139,
    "start_time": "2024-07-15T08:36:55.179Z"
   },
   {
    "duration": 125,
    "start_time": "2024-07-15T08:36:55.319Z"
   },
   {
    "duration": 128,
    "start_time": "2024-07-15T08:36:55.446Z"
   },
   {
    "duration": 207,
    "start_time": "2024-07-15T08:36:55.575Z"
   },
   {
    "duration": 463,
    "start_time": "2024-07-15T08:36:55.784Z"
   },
   {
    "duration": 138,
    "start_time": "2024-07-15T08:36:56.248Z"
   },
   {
    "duration": 129,
    "start_time": "2024-07-15T08:36:56.387Z"
   },
   {
    "duration": 146,
    "start_time": "2024-07-15T08:36:56.517Z"
   },
   {
    "duration": 153,
    "start_time": "2024-07-15T08:36:56.664Z"
   },
   {
    "duration": 132,
    "start_time": "2024-07-15T08:36:56.818Z"
   },
   {
    "duration": 131,
    "start_time": "2024-07-15T08:36:56.951Z"
   },
   {
    "duration": 135,
    "start_time": "2024-07-15T08:36:57.084Z"
   },
   {
    "duration": 141,
    "start_time": "2024-07-15T08:36:57.221Z"
   },
   {
    "duration": 4,
    "start_time": "2024-07-15T08:36:57.364Z"
   },
   {
    "duration": 2048,
    "start_time": "2024-07-15T08:36:57.369Z"
   },
   {
    "duration": 2160,
    "start_time": "2024-07-15T08:36:59.418Z"
   },
   {
    "duration": 5,
    "start_time": "2024-07-15T08:37:01.579Z"
   },
   {
    "duration": 91,
    "start_time": "2024-07-15T08:37:01.586Z"
   },
   {
    "duration": 1243,
    "start_time": "2024-07-15T08:37:01.679Z"
   },
   {
    "duration": 1134,
    "start_time": "2024-07-15T08:37:02.923Z"
   },
   {
    "duration": 1614,
    "start_time": "2024-07-15T08:37:04.059Z"
   },
   {
    "duration": 3,
    "start_time": "2024-07-15T08:37:05.679Z"
   },
   {
    "duration": 184,
    "start_time": "2024-07-15T08:37:05.683Z"
   },
   {
    "duration": 20,
    "start_time": "2024-07-15T08:37:05.868Z"
   },
   {
    "duration": 485,
    "start_time": "2024-07-15T08:37:05.890Z"
   },
   {
    "duration": 867,
    "start_time": "2024-07-15T08:37:06.376Z"
   },
   {
    "duration": 4,
    "start_time": "2024-07-15T08:37:07.244Z"
   },
   {
    "duration": 21,
    "start_time": "2024-07-15T08:37:07.249Z"
   },
   {
    "duration": 8,
    "start_time": "2024-07-15T08:37:07.271Z"
   },
   {
    "duration": 4,
    "start_time": "2024-07-15T08:37:07.281Z"
   },
   {
    "duration": 114,
    "start_time": "2024-07-15T08:37:07.287Z"
   },
   {
    "duration": 0,
    "start_time": "2024-07-15T08:37:07.403Z"
   },
   {
    "duration": 0,
    "start_time": "2024-07-15T08:37:07.404Z"
   },
   {
    "duration": 0,
    "start_time": "2024-07-15T08:37:07.404Z"
   },
   {
    "duration": 0,
    "start_time": "2024-07-15T08:37:07.405Z"
   },
   {
    "duration": 0,
    "start_time": "2024-07-15T08:37:07.406Z"
   },
   {
    "duration": 0,
    "start_time": "2024-07-15T08:37:07.407Z"
   },
   {
    "duration": 0,
    "start_time": "2024-07-15T08:37:07.408Z"
   },
   {
    "duration": 0,
    "start_time": "2024-07-15T08:37:07.408Z"
   },
   {
    "duration": 0,
    "start_time": "2024-07-15T08:37:07.409Z"
   },
   {
    "duration": 0,
    "start_time": "2024-07-15T08:37:07.410Z"
   },
   {
    "duration": 0,
    "start_time": "2024-07-15T08:37:07.411Z"
   },
   {
    "duration": 0,
    "start_time": "2024-07-15T08:37:07.411Z"
   },
   {
    "duration": 0,
    "start_time": "2024-07-15T08:37:07.412Z"
   },
   {
    "duration": 0,
    "start_time": "2024-07-15T08:37:07.413Z"
   },
   {
    "duration": 0,
    "start_time": "2024-07-15T08:37:07.413Z"
   },
   {
    "duration": 0,
    "start_time": "2024-07-15T08:37:07.414Z"
   },
   {
    "duration": 0,
    "start_time": "2024-07-15T08:37:07.415Z"
   },
   {
    "duration": 0,
    "start_time": "2024-07-15T08:37:07.415Z"
   },
   {
    "duration": 492,
    "start_time": "2024-07-15T08:37:27.241Z"
   },
   {
    "duration": 564,
    "start_time": "2024-07-15T08:37:44.451Z"
   },
   {
    "duration": 817,
    "start_time": "2024-07-15T08:42:21.552Z"
   },
   {
    "duration": 824,
    "start_time": "2024-07-15T08:42:42.772Z"
   },
   {
    "duration": 1071,
    "start_time": "2024-07-15T08:43:25.023Z"
   },
   {
    "duration": 449,
    "start_time": "2024-07-15T08:43:46.552Z"
   },
   {
    "duration": 8,
    "start_time": "2024-07-15T08:44:08.742Z"
   },
   {
    "duration": 25,
    "start_time": "2024-07-15T08:45:11.593Z"
   },
   {
    "duration": 21,
    "start_time": "2024-07-15T08:45:31.829Z"
   },
   {
    "duration": 10,
    "start_time": "2024-07-15T08:45:34.420Z"
   },
   {
    "duration": 6,
    "start_time": "2024-07-15T08:45:39.836Z"
   },
   {
    "duration": 4,
    "start_time": "2024-07-15T08:45:41.025Z"
   },
   {
    "duration": 15037,
    "start_time": "2024-07-15T08:45:45.667Z"
   },
   {
    "duration": 9,
    "start_time": "2024-07-15T08:46:26.281Z"
   },
   {
    "duration": 8,
    "start_time": "2024-07-15T08:46:27.936Z"
   },
   {
    "duration": 6,
    "start_time": "2024-07-15T08:47:08.896Z"
   },
   {
    "duration": 7,
    "start_time": "2024-07-15T08:47:09.909Z"
   },
   {
    "duration": 20673,
    "start_time": "2024-07-15T08:47:14.872Z"
   },
   {
    "duration": 5,
    "start_time": "2024-07-15T08:47:54.821Z"
   },
   {
    "duration": 103,
    "start_time": "2024-07-15T08:47:56.442Z"
   },
   {
    "duration": 10,
    "start_time": "2024-07-15T08:48:10.648Z"
   },
   {
    "duration": 8,
    "start_time": "2024-07-15T08:48:16.608Z"
   },
   {
    "duration": 7,
    "start_time": "2024-07-15T08:48:25.368Z"
   },
   {
    "duration": 142,
    "start_time": "2024-07-15T08:48:30.850Z"
   },
   {
    "duration": 7,
    "start_time": "2024-07-15T08:48:36.321Z"
   },
   {
    "duration": 110,
    "start_time": "2024-07-15T08:48:40.729Z"
   },
   {
    "duration": 2280,
    "start_time": "2024-07-15T08:49:04.111Z"
   },
   {
    "duration": 3,
    "start_time": "2024-07-15T09:01:50.747Z"
   },
   {
    "duration": 8,
    "start_time": "2024-07-15T09:02:35.587Z"
   },
   {
    "duration": 170,
    "start_time": "2024-07-15T09:02:50.209Z"
   },
   {
    "duration": 5,
    "start_time": "2024-07-15T09:03:44.687Z"
   },
   {
    "duration": 9,
    "start_time": "2024-07-15T09:04:02.588Z"
   },
   {
    "duration": 10,
    "start_time": "2024-07-15T09:06:55.545Z"
   },
   {
    "duration": 8,
    "start_time": "2024-07-15T09:07:12.418Z"
   },
   {
    "duration": 10,
    "start_time": "2024-07-15T09:09:44.862Z"
   },
   {
    "duration": 8,
    "start_time": "2024-07-15T09:09:51.518Z"
   },
   {
    "duration": 7,
    "start_time": "2024-07-15T09:10:27.625Z"
   },
   {
    "duration": 9,
    "start_time": "2024-07-15T09:10:54.664Z"
   },
   {
    "duration": 8,
    "start_time": "2024-07-15T09:10:57.141Z"
   },
   {
    "duration": 4,
    "start_time": "2024-07-15T09:11:01.543Z"
   },
   {
    "duration": 7,
    "start_time": "2024-07-15T09:11:03.007Z"
   },
   {
    "duration": 3,
    "start_time": "2024-07-15T09:11:06.904Z"
   },
   {
    "duration": 262,
    "start_time": "2024-07-15T09:12:18.580Z"
   },
   {
    "duration": 2543,
    "start_time": "2024-07-15T09:42:26.495Z"
   },
   {
    "duration": 1194,
    "start_time": "2024-07-15T09:42:29.041Z"
   },
   {
    "duration": 38,
    "start_time": "2024-07-15T09:42:30.237Z"
   },
   {
    "duration": 127,
    "start_time": "2024-07-15T09:42:30.277Z"
   },
   {
    "duration": 51,
    "start_time": "2024-07-15T09:42:30.406Z"
   },
   {
    "duration": 310,
    "start_time": "2024-07-15T09:42:30.459Z"
   },
   {
    "duration": 140,
    "start_time": "2024-07-15T09:42:30.770Z"
   },
   {
    "duration": 43,
    "start_time": "2024-07-15T09:42:30.911Z"
   },
   {
    "duration": 58,
    "start_time": "2024-07-15T09:42:30.955Z"
   },
   {
    "duration": 33,
    "start_time": "2024-07-15T09:42:31.015Z"
   },
   {
    "duration": 38,
    "start_time": "2024-07-15T09:42:31.049Z"
   },
   {
    "duration": 53,
    "start_time": "2024-07-15T09:42:31.088Z"
   },
   {
    "duration": 141,
    "start_time": "2024-07-15T09:42:31.142Z"
   },
   {
    "duration": 66,
    "start_time": "2024-07-15T09:42:31.285Z"
   },
   {
    "duration": 47,
    "start_time": "2024-07-15T09:42:31.353Z"
   },
   {
    "duration": 28,
    "start_time": "2024-07-15T09:42:31.401Z"
   },
   {
    "duration": 54,
    "start_time": "2024-07-15T09:42:31.431Z"
   },
   {
    "duration": 75,
    "start_time": "2024-07-15T09:42:31.487Z"
   },
   {
    "duration": 59,
    "start_time": "2024-07-15T09:42:31.563Z"
   },
   {
    "duration": 28,
    "start_time": "2024-07-15T09:42:31.624Z"
   },
   {
    "duration": 48,
    "start_time": "2024-07-15T09:42:31.653Z"
   },
   {
    "duration": 33,
    "start_time": "2024-07-15T09:42:31.703Z"
   },
   {
    "duration": 32,
    "start_time": "2024-07-15T09:42:31.737Z"
   },
   {
    "duration": 192,
    "start_time": "2024-07-15T09:42:31.771Z"
   },
   {
    "duration": 128,
    "start_time": "2024-07-15T09:42:31.964Z"
   },
   {
    "duration": 66,
    "start_time": "2024-07-15T09:42:32.093Z"
   },
   {
    "duration": 712,
    "start_time": "2024-07-15T09:42:32.160Z"
   },
   {
    "duration": 10,
    "start_time": "2024-07-15T09:42:32.876Z"
   },
   {
    "duration": 57,
    "start_time": "2024-07-15T09:42:32.888Z"
   },
   {
    "duration": 11,
    "start_time": "2024-07-15T09:42:32.946Z"
   },
   {
    "duration": 11,
    "start_time": "2024-07-15T09:42:32.959Z"
   },
   {
    "duration": 16,
    "start_time": "2024-07-15T09:42:32.971Z"
   },
   {
    "duration": 17,
    "start_time": "2024-07-15T09:42:32.989Z"
   },
   {
    "duration": 34,
    "start_time": "2024-07-15T09:42:33.007Z"
   },
   {
    "duration": 24,
    "start_time": "2024-07-15T09:42:33.043Z"
   },
   {
    "duration": 57,
    "start_time": "2024-07-15T09:42:33.069Z"
   },
   {
    "duration": 377,
    "start_time": "2024-07-15T09:42:33.128Z"
   },
   {
    "duration": 412,
    "start_time": "2024-07-15T09:42:33.506Z"
   },
   {
    "duration": 360,
    "start_time": "2024-07-15T09:42:33.920Z"
   },
   {
    "duration": 4,
    "start_time": "2024-07-15T09:42:34.281Z"
   },
   {
    "duration": 496,
    "start_time": "2024-07-15T09:42:34.286Z"
   },
   {
    "duration": 414,
    "start_time": "2024-07-15T09:42:34.783Z"
   },
   {
    "duration": 9,
    "start_time": "2024-07-15T09:42:35.198Z"
   },
   {
    "duration": 37,
    "start_time": "2024-07-15T09:42:35.209Z"
   },
   {
    "duration": 59,
    "start_time": "2024-07-15T09:42:35.248Z"
   },
   {
    "duration": 30,
    "start_time": "2024-07-15T09:42:35.308Z"
   },
   {
    "duration": 39,
    "start_time": "2024-07-15T09:42:35.340Z"
   },
   {
    "duration": 45,
    "start_time": "2024-07-15T09:42:35.380Z"
   },
   {
    "duration": 429,
    "start_time": "2024-07-15T09:42:35.426Z"
   },
   {
    "duration": 9,
    "start_time": "2024-07-15T09:42:35.856Z"
   },
   {
    "duration": 30,
    "start_time": "2024-07-15T09:42:35.866Z"
   },
   {
    "duration": 659,
    "start_time": "2024-07-15T09:42:35.897Z"
   },
   {
    "duration": 7,
    "start_time": "2024-07-15T09:42:36.558Z"
   },
   {
    "duration": 25,
    "start_time": "2024-07-15T09:42:36.566Z"
   },
   {
    "duration": 123,
    "start_time": "2024-07-15T09:42:36.593Z"
   },
   {
    "duration": 21,
    "start_time": "2024-07-15T09:42:36.717Z"
   },
   {
    "duration": 48,
    "start_time": "2024-07-15T09:42:36.739Z"
   },
   {
    "duration": 13,
    "start_time": "2024-07-15T09:42:36.788Z"
   },
   {
    "duration": 45,
    "start_time": "2024-07-15T09:42:36.802Z"
   },
   {
    "duration": 494,
    "start_time": "2024-07-15T09:42:36.848Z"
   },
   {
    "duration": 131,
    "start_time": "2024-07-15T09:42:37.343Z"
   },
   {
    "duration": 131,
    "start_time": "2024-07-15T09:42:37.475Z"
   },
   {
    "duration": 126,
    "start_time": "2024-07-15T09:42:37.607Z"
   },
   {
    "duration": 220,
    "start_time": "2024-07-15T09:42:37.734Z"
   },
   {
    "duration": 453,
    "start_time": "2024-07-15T09:42:37.955Z"
   },
   {
    "duration": 961,
    "start_time": "2024-07-15T09:42:38.410Z"
   },
   {
    "duration": 3,
    "start_time": "2024-07-15T09:42:39.373Z"
   },
   {
    "duration": 2097,
    "start_time": "2024-07-15T09:42:39.377Z"
   },
   {
    "duration": 2210,
    "start_time": "2024-07-15T09:42:41.475Z"
   },
   {
    "duration": 18,
    "start_time": "2024-07-15T09:42:43.686Z"
   },
   {
    "duration": 4,
    "start_time": "2024-07-15T09:42:43.706Z"
   },
   {
    "duration": 1126,
    "start_time": "2024-07-15T09:42:43.712Z"
   },
   {
    "duration": 1241,
    "start_time": "2024-07-15T09:42:44.839Z"
   },
   {
    "duration": 1650,
    "start_time": "2024-07-15T09:42:46.081Z"
   },
   {
    "duration": 4,
    "start_time": "2024-07-15T09:42:47.733Z"
   },
   {
    "duration": 116,
    "start_time": "2024-07-15T09:42:47.738Z"
   },
   {
    "duration": 19,
    "start_time": "2024-07-15T09:42:47.855Z"
   },
   {
    "duration": 473,
    "start_time": "2024-07-15T09:42:47.875Z"
   },
   {
    "duration": 919,
    "start_time": "2024-07-15T09:42:48.349Z"
   },
   {
    "duration": 4,
    "start_time": "2024-07-15T09:42:49.270Z"
   },
   {
    "duration": 25,
    "start_time": "2024-07-15T09:42:49.276Z"
   },
   {
    "duration": 7,
    "start_time": "2024-07-15T09:42:49.306Z"
   },
   {
    "duration": 20,
    "start_time": "2024-07-15T09:42:49.314Z"
   },
   {
    "duration": 23,
    "start_time": "2024-07-15T09:42:49.336Z"
   },
   {
    "duration": 9,
    "start_time": "2024-07-15T09:42:49.361Z"
   },
   {
    "duration": 20,
    "start_time": "2024-07-15T09:42:49.371Z"
   },
   {
    "duration": 3,
    "start_time": "2024-07-15T09:42:49.393Z"
   },
   {
    "duration": 15825,
    "start_time": "2024-07-15T09:42:49.398Z"
   },
   {
    "duration": 10,
    "start_time": "2024-07-15T09:43:05.302Z"
   },
   {
    "duration": 77,
    "start_time": "2024-07-15T09:43:05.313Z"
   },
   {
    "duration": 20359,
    "start_time": "2024-07-15T09:43:05.392Z"
   },
   {
    "duration": 4,
    "start_time": "2024-07-15T09:43:25.752Z"
   },
   {
    "duration": 105,
    "start_time": "2024-07-15T09:43:25.758Z"
   },
   {
    "duration": 9,
    "start_time": "2024-07-15T09:43:25.864Z"
   },
   {
    "duration": 21,
    "start_time": "2024-07-15T09:43:25.875Z"
   },
   {
    "duration": 23,
    "start_time": "2024-07-15T09:43:25.897Z"
   },
   {
    "duration": 153,
    "start_time": "2024-07-15T09:43:25.921Z"
   },
   {
    "duration": 7,
    "start_time": "2024-07-15T09:43:26.075Z"
   },
   {
    "duration": 136,
    "start_time": "2024-07-15T09:43:26.083Z"
   },
   {
    "duration": 3,
    "start_time": "2024-07-15T09:43:26.221Z"
   },
   {
    "duration": 5,
    "start_time": "2024-07-15T09:43:26.226Z"
   },
   {
    "duration": 77,
    "start_time": "2024-07-15T09:43:26.232Z"
   },
   {
    "duration": 324,
    "start_time": "2024-07-15T09:43:26.311Z"
   },
   {
    "duration": 9,
    "start_time": "2024-07-15T09:47:10.779Z"
   },
   {
    "duration": 7,
    "start_time": "2024-07-15T09:47:46.027Z"
   },
   {
    "duration": 143,
    "start_time": "2024-07-15T09:47:50.148Z"
   },
   {
    "duration": 7,
    "start_time": "2024-07-15T09:47:57.086Z"
   },
   {
    "duration": 115,
    "start_time": "2024-07-15T09:47:58.100Z"
   }
  ],
  "kernelspec": {
   "display_name": "Python 3 (ipykernel)",
   "language": "python",
   "name": "python3"
  },
  "language_info": {
   "codemirror_mode": {
    "name": "ipython",
    "version": 3
   },
   "file_extension": ".py",
   "mimetype": "text/x-python",
   "name": "python",
   "nbconvert_exporter": "python",
   "pygments_lexer": "ipython3",
   "version": "3.11.5"
  },
  "toc": {
   "base_numbering": 1,
   "nav_menu": {
    "height": "224px",
    "width": "277px"
   },
   "number_sections": true,
   "sideBar": true,
   "skip_h1_title": true,
   "title_cell": "Table of Contents",
   "title_sidebar": "Contents",
   "toc_cell": false,
   "toc_position": {},
   "toc_section_display": true,
   "toc_window_display": false
  },
  "varInspector": {
   "cols": {
    "lenName": 16,
    "lenType": 16,
    "lenVar": 40
   },
   "kernels_config": {
    "python": {
     "delete_cmd_postfix": "",
     "delete_cmd_prefix": "del ",
     "library": "var_list.py",
     "varRefreshCmd": "print(var_dic_list())"
    },
    "r": {
     "delete_cmd_postfix": ") ",
     "delete_cmd_prefix": "rm(",
     "library": "var_list.r",
     "varRefreshCmd": "cat(var_dic_list()) "
    }
   },
   "types_to_exclude": [
    "module",
    "function",
    "builtin_function_or_method",
    "instance",
    "_Feature"
   ],
   "window_display": false
  }
 },
 "nbformat": 4,
 "nbformat_minor": 5
}
